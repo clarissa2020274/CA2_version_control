{
 "cells": [
  {
   "cell_type": "markdown",
   "id": "a9c456bd",
   "metadata": {},
   "source": [
    "## MSc Data Analytics Feb 2023 FT - CA2\n",
    "\n",
    "### An analysis on Planning Permissions for Construction and Employment rates in the sector \n",
    "\n",
    "This notebook is part of a report to examine the amount of Planning Permissions for New Houses and Apartments in Irelnd, including the type of dwelling for such permits.  \n",
    "\n",
    "In this report, several echniques of data exploration, cleaning, preparation and visualisation were used to find the adequate statistical distribution patterns for applicaiton of Machine Learning models for predition of how many permits will be issued in the future. \n",
    "\n",
    "\n",
    "Data sources: by: Department of Housing, Local Government, and Heritage\n",
    "Date released: 03/06/2021\n",
    "\n",
    "Author: Clarissa Cardoso\n",
    "\n",
    "Student ID:2020274"
   ]
  },
  {
   "cell_type": "markdown",
   "id": "1d792fe9",
   "metadata": {},
   "source": [
    "#### Importing required libraries for stating the project"
   ]
  },
  {
   "cell_type": "code",
   "execution_count": 56,
   "id": "8efb040f",
   "metadata": {},
   "outputs": [],
   "source": [
    "#importing libraries\n",
    "import warnings\n",
    "warnings.filterwarnings(\"ignore\")\n",
    "\n",
    "import pandas as pd #dataframes \n",
    "import numpy as np #linear algebra\n",
    "import seaborn as sns #visualization\n",
    "sns.set(color_codes=True)\n",
    "\n",
    "import scipy.stats as stats #statistical resources\n",
    "\n",
    "import matplotlib.pyplot as plt #visualisation \n",
    "%matplotlib inline \n",
    "import matplotlib.pyplot as plt\n",
    "import numpy as np\n",
    "from matplotlib import colors\n",
    "from matplotlib.ticker import PercentFormatter\n",
    "\n",
    "import panel as pn\n",
    "import param\n",
    "\n",
    "import plotly.express as px\n",
    "import plotly.graph_objects as go"
   ]
  },
  {
   "cell_type": "code",
   "execution_count": null,
   "id": "1717cf65",
   "metadata": {},
   "outputs": [],
   "source": []
  },
  {
   "cell_type": "markdown",
   "id": "10c57d0f",
   "metadata": {},
   "source": [
    "### Data Preparation and EDA"
   ]
  },
  {
   "cell_type": "markdown",
   "id": "68ca5f7a",
   "metadata": {},
   "source": [
    "### Importing csv file containing Planning Permissions for New Houses and Apartments - Ireland (1975 to 2022)"
   ]
  },
  {
   "cell_type": "code",
   "execution_count": 57,
   "id": "a3e13965",
   "metadata": {},
   "outputs": [],
   "source": [
    "#Import dataset\n",
    "data = pd.read_csv(\"Planning_Permissions_Granted_for_New_Houses_and_Apartments.csv\")"
   ]
  },
  {
   "cell_type": "code",
   "execution_count": 58,
   "id": "3b1e9af1",
   "metadata": {
    "scrolled": true
   },
   "outputs": [
    {
     "data": {
      "text/html": [
       "<div>\n",
       "<style scoped>\n",
       "    .dataframe tbody tr th:only-of-type {\n",
       "        vertical-align: middle;\n",
       "    }\n",
       "\n",
       "    .dataframe tbody tr th {\n",
       "        vertical-align: top;\n",
       "    }\n",
       "\n",
       "    .dataframe thead th {\n",
       "        text-align: right;\n",
       "    }\n",
       "</style>\n",
       "<table border=\"1\" class=\"dataframe\">\n",
       "  <thead>\n",
       "    <tr style=\"text-align: right;\">\n",
       "      <th></th>\n",
       "      <th>Unnamed: 0</th>\n",
       "      <th>Planning Permissions Granted</th>\n",
       "      <th>Units for which Permission Granted</th>\n",
       "      <th>Total Floor Area for which Permission Granted</th>\n",
       "      <th>Average Floor Area per Unit</th>\n",
       "    </tr>\n",
       "  </thead>\n",
       "  <tbody>\n",
       "    <tr>\n",
       "      <th>0</th>\n",
       "      <td>Source: Central Statistics Office, Ireland.</td>\n",
       "      <td>NaN</td>\n",
       "      <td>NaN</td>\n",
       "      <td>NaN</td>\n",
       "      <td>NaN</td>\n",
       "    </tr>\n",
       "    <tr>\n",
       "      <th>1</th>\n",
       "      <td>1975</td>\n",
       "      <td>NaN</td>\n",
       "      <td>23,028</td>\n",
       "      <td>NaN</td>\n",
       "      <td>NaN</td>\n",
       "    </tr>\n",
       "    <tr>\n",
       "      <th>2</th>\n",
       "      <td>1976</td>\n",
       "      <td>NaN</td>\n",
       "      <td>24,616</td>\n",
       "      <td>NaN</td>\n",
       "      <td>NaN</td>\n",
       "    </tr>\n",
       "    <tr>\n",
       "      <th>3</th>\n",
       "      <td>1977</td>\n",
       "      <td>12,390</td>\n",
       "      <td>29,402</td>\n",
       "      <td>3,103</td>\n",
       "      <td>105.5</td>\n",
       "    </tr>\n",
       "    <tr>\n",
       "      <th>4</th>\n",
       "      <td>1978</td>\n",
       "      <td>13,870</td>\n",
       "      <td>28,408</td>\n",
       "      <td>3,167</td>\n",
       "      <td>111.5</td>\n",
       "    </tr>\n",
       "    <tr>\n",
       "      <th>5</th>\n",
       "      <td>1979</td>\n",
       "      <td>15,897</td>\n",
       "      <td>33,474</td>\n",
       "      <td>3,855</td>\n",
       "      <td>115.2</td>\n",
       "    </tr>\n",
       "    <tr>\n",
       "      <th>6</th>\n",
       "      <td>1980</td>\n",
       "      <td>14,220</td>\n",
       "      <td>30,898</td>\n",
       "      <td>3,676</td>\n",
       "      <td>119.0</td>\n",
       "    </tr>\n",
       "    <tr>\n",
       "      <th>7</th>\n",
       "      <td>1981</td>\n",
       "      <td>14,096</td>\n",
       "      <td>34,041</td>\n",
       "      <td>4,005</td>\n",
       "      <td>117.7</td>\n",
       "    </tr>\n",
       "    <tr>\n",
       "      <th>8</th>\n",
       "      <td>1982</td>\n",
       "      <td>13,082</td>\n",
       "      <td>31,641</td>\n",
       "      <td>3,690</td>\n",
       "      <td>116.6</td>\n",
       "    </tr>\n",
       "    <tr>\n",
       "      <th>9</th>\n",
       "      <td>1983</td>\n",
       "      <td>10,895</td>\n",
       "      <td>31,227</td>\n",
       "      <td>3,522</td>\n",
       "      <td>112.8</td>\n",
       "    </tr>\n",
       "  </tbody>\n",
       "</table>\n",
       "</div>"
      ],
      "text/plain": [
       "                                    Unnamed: 0 Planning Permissions Granted  \\\n",
       "0  Source: Central Statistics Office, Ireland.                          NaN   \n",
       "1                                         1975                          NaN   \n",
       "2                                         1976                          NaN   \n",
       "3                                         1977                       12,390   \n",
       "4                                         1978                       13,870   \n",
       "5                                         1979                       15,897   \n",
       "6                                         1980                       14,220   \n",
       "7                                         1981                       14,096   \n",
       "8                                         1982                       13,082   \n",
       "9                                         1983                       10,895   \n",
       "\n",
       "  Units for which Permission Granted  \\\n",
       "0                                NaN   \n",
       "1                             23,028   \n",
       "2                             24,616   \n",
       "3                             29,402   \n",
       "4                             28,408   \n",
       "5                             33,474   \n",
       "6                             30,898   \n",
       "7                             34,041   \n",
       "8                             31,641   \n",
       "9                             31,227   \n",
       "\n",
       "  Total Floor Area for which Permission Granted  Average Floor Area per Unit  \n",
       "0                                           NaN                          NaN  \n",
       "1                                           NaN                          NaN  \n",
       "2                                           NaN                          NaN  \n",
       "3                                         3,103                        105.5  \n",
       "4                                         3,167                        111.5  \n",
       "5                                         3,855                        115.2  \n",
       "6                                         3,676                        119.0  \n",
       "7                                         4,005                        117.7  \n",
       "8                                         3,690                        116.6  \n",
       "9                                         3,522                        112.8  "
      ]
     },
     "execution_count": 58,
     "metadata": {},
     "output_type": "execute_result"
    }
   ],
   "source": [
    "#Display heading to have a first look on the data, show 10 first rows\n",
    "data.head(10)"
   ]
  },
  {
   "cell_type": "code",
   "execution_count": 59,
   "id": "02c2cbbf",
   "metadata": {},
   "outputs": [
    {
     "name": "stdout",
     "output_type": "stream",
     "text": [
      "<class 'pandas.core.frame.DataFrame'>\n",
      "RangeIndex: 49 entries, 0 to 48\n",
      "Data columns (total 5 columns):\n",
      " #   Column                                         Non-Null Count  Dtype  \n",
      "---  ------                                         --------------  -----  \n",
      " 0   Unnamed: 0                                     49 non-null     object \n",
      " 1   Planning Permissions Granted                   45 non-null     object \n",
      " 2   Units for which Permission Granted             48 non-null     object \n",
      " 3   Total Floor Area for which Permission Granted  45 non-null     object \n",
      " 4   Average Floor Area per Unit                    45 non-null     float64\n",
      "dtypes: float64(1), object(4)\n",
      "memory usage: 2.0+ KB\n",
      "(49, 5)\n",
      "Unnamed: 0                                       0\n",
      "Planning Permissions Granted                     4\n",
      "Units for which Permission Granted               1\n",
      "Total Floor Area for which Permission Granted    4\n",
      "Average Floor Area per Unit                      4\n",
      "dtype: int64\n"
     ]
    }
   ],
   "source": [
    "#print summarised information from dataframe \n",
    "data.info()\n",
    "print(data.shape)\n",
    "print(data.isnull().sum())"
   ]
  },
  {
   "cell_type": "markdown",
   "id": "56185350",
   "metadata": {},
   "source": [
    "The info() method from pandas prints basic information of the dataframe, alied with the shape method to understand the dimensionality of the same. \n",
    "\n",
    "For the Planning Permissions dataframe a total of 49 observations divided in 5 columns, where the datatype for the first four are classified as objects and the last being a numeric value. Looking closer to the heading of the data, the values are expected to be all in numeric form, which requires data preparation techniques to be applied and redefine the datatypes using function from numpy library. Notice the comma withinh the values indicate why the dtype is considered to be object. For this reason \n",
    "\n",
    "the info() also brings the non-null values which helps to identify the missing data, confirmed by the isnull().sum() method that this dataframe contains missing data in four columns."
   ]
  },
  {
   "cell_type": "code",
   "execution_count": 60,
   "id": "49049069",
   "metadata": {},
   "outputs": [
    {
     "data": {
      "text/html": [
       "<div>\n",
       "<style scoped>\n",
       "    .dataframe tbody tr th:only-of-type {\n",
       "        vertical-align: middle;\n",
       "    }\n",
       "\n",
       "    .dataframe tbody tr th {\n",
       "        vertical-align: top;\n",
       "    }\n",
       "\n",
       "    .dataframe thead th {\n",
       "        text-align: right;\n",
       "    }\n",
       "</style>\n",
       "<table border=\"1\" class=\"dataframe\">\n",
       "  <thead>\n",
       "    <tr style=\"text-align: right;\">\n",
       "      <th></th>\n",
       "      <th>Unnamed: 0</th>\n",
       "      <th>Planning Permissions Granted</th>\n",
       "      <th>Units for which Permission Granted</th>\n",
       "      <th>Total Floor Area for which Permission Granted</th>\n",
       "      <th>Average Floor Area per Unit</th>\n",
       "    </tr>\n",
       "  </thead>\n",
       "  <tbody>\n",
       "    <tr>\n",
       "      <th>44</th>\n",
       "      <td>2018</td>\n",
       "      <td>6,103</td>\n",
       "      <td>19,964</td>\n",
       "      <td>3,166</td>\n",
       "      <td>159.0</td>\n",
       "    </tr>\n",
       "    <tr>\n",
       "      <th>45</th>\n",
       "      <td>2019</td>\n",
       "      <td>6,265</td>\n",
       "      <td>19,563</td>\n",
       "      <td>3,090</td>\n",
       "      <td>158.0</td>\n",
       "    </tr>\n",
       "    <tr>\n",
       "      <th>46</th>\n",
       "      <td>2020</td>\n",
       "      <td>5,844</td>\n",
       "      <td>17,709</td>\n",
       "      <td>2,732</td>\n",
       "      <td>154.0</td>\n",
       "    </tr>\n",
       "    <tr>\n",
       "      <th>47</th>\n",
       "      <td>2021</td>\n",
       "      <td>7,971</td>\n",
       "      <td>16,719</td>\n",
       "      <td>2,915</td>\n",
       "      <td>174.0</td>\n",
       "    </tr>\n",
       "    <tr>\n",
       "      <th>48</th>\n",
       "      <td>2022</td>\n",
       "      <td>7,401</td>\n",
       "      <td>17,454</td>\n",
       "      <td>2,915</td>\n",
       "      <td>167.0</td>\n",
       "    </tr>\n",
       "  </tbody>\n",
       "</table>\n",
       "</div>"
      ],
      "text/plain": [
       "   Unnamed: 0 Planning Permissions Granted Units for which Permission Granted  \\\n",
       "44       2018                        6,103                             19,964   \n",
       "45       2019                        6,265                             19,563   \n",
       "46       2020                        5,844                             17,709   \n",
       "47       2021                        7,971                             16,719   \n",
       "48       2022                        7,401                             17,454   \n",
       "\n",
       "   Total Floor Area for which Permission Granted  Average Floor Area per Unit  \n",
       "44                                         3,166                        159.0  \n",
       "45                                         3,090                        158.0  \n",
       "46                                         2,732                        154.0  \n",
       "47                                         2,915                        174.0  \n",
       "48                                         2,915                        167.0  "
      ]
     },
     "execution_count": 60,
     "metadata": {},
     "output_type": "execute_result"
    }
   ],
   "source": [
    "#see the last 5 rows of the dataframe\n",
    "data.tail()"
   ]
  },
  {
   "cell_type": "code",
   "execution_count": 61,
   "id": "7ff89eb1",
   "metadata": {},
   "outputs": [],
   "source": [
    "#replace commas from dataset to convert values from object to integers\n",
    "data.replace(',','', regex=True, inplace=True)\n"
   ]
  },
  {
   "cell_type": "code",
   "execution_count": 62,
   "id": "22b14f0b",
   "metadata": {},
   "outputs": [],
   "source": [
    "# rename first column and reset index so the years are the new index\n",
    "\n",
    "data = data.rename(columns={'Unnamed: 0':'Year'})\n",
    "                                             "
   ]
  },
  {
   "cell_type": "code",
   "execution_count": null,
   "id": "086d330c",
   "metadata": {},
   "outputs": [],
   "source": []
  },
  {
   "cell_type": "code",
   "execution_count": 63,
   "id": "ddea4239",
   "metadata": {},
   "outputs": [
    {
     "data": {
      "text/html": [
       "<div>\n",
       "<style scoped>\n",
       "    .dataframe tbody tr th:only-of-type {\n",
       "        vertical-align: middle;\n",
       "    }\n",
       "\n",
       "    .dataframe tbody tr th {\n",
       "        vertical-align: top;\n",
       "    }\n",
       "\n",
       "    .dataframe thead th {\n",
       "        text-align: right;\n",
       "    }\n",
       "</style>\n",
       "<table border=\"1\" class=\"dataframe\">\n",
       "  <thead>\n",
       "    <tr style=\"text-align: right;\">\n",
       "      <th></th>\n",
       "      <th>Year</th>\n",
       "      <th>Planning Permissions Granted</th>\n",
       "      <th>Units for which Permission Granted</th>\n",
       "      <th>Total Floor Area for which Permission Granted</th>\n",
       "      <th>Average Floor Area per Unit</th>\n",
       "    </tr>\n",
       "  </thead>\n",
       "  <tbody>\n",
       "    <tr>\n",
       "      <th>0</th>\n",
       "      <td>Source: Central Statistics Office Ireland.</td>\n",
       "      <td>NaN</td>\n",
       "      <td>NaN</td>\n",
       "      <td>NaN</td>\n",
       "      <td>NaN</td>\n",
       "    </tr>\n",
       "    <tr>\n",
       "      <th>1</th>\n",
       "      <td>1975</td>\n",
       "      <td>NaN</td>\n",
       "      <td>23028</td>\n",
       "      <td>NaN</td>\n",
       "      <td>NaN</td>\n",
       "    </tr>\n",
       "    <tr>\n",
       "      <th>2</th>\n",
       "      <td>1976</td>\n",
       "      <td>NaN</td>\n",
       "      <td>24616</td>\n",
       "      <td>NaN</td>\n",
       "      <td>NaN</td>\n",
       "    </tr>\n",
       "    <tr>\n",
       "      <th>3</th>\n",
       "      <td>1977</td>\n",
       "      <td>12390</td>\n",
       "      <td>29402</td>\n",
       "      <td>3103</td>\n",
       "      <td>105.5</td>\n",
       "    </tr>\n",
       "    <tr>\n",
       "      <th>4</th>\n",
       "      <td>1978</td>\n",
       "      <td>13870</td>\n",
       "      <td>28408</td>\n",
       "      <td>3167</td>\n",
       "      <td>111.5</td>\n",
       "    </tr>\n",
       "  </tbody>\n",
       "</table>\n",
       "</div>"
      ],
      "text/plain": [
       "                                         Year Planning Permissions Granted  \\\n",
       "0  Source: Central Statistics Office Ireland.                          NaN   \n",
       "1                                        1975                          NaN   \n",
       "2                                        1976                          NaN   \n",
       "3                                        1977                        12390   \n",
       "4                                        1978                        13870   \n",
       "\n",
       "  Units for which Permission Granted  \\\n",
       "0                                NaN   \n",
       "1                              23028   \n",
       "2                              24616   \n",
       "3                              29402   \n",
       "4                              28408   \n",
       "\n",
       "  Total Floor Area for which Permission Granted  Average Floor Area per Unit  \n",
       "0                                           NaN                          NaN  \n",
       "1                                           NaN                          NaN  \n",
       "2                                           NaN                          NaN  \n",
       "3                                          3103                        105.5  \n",
       "4                                          3167                        111.5  "
      ]
     },
     "execution_count": 63,
     "metadata": {},
     "output_type": "execute_result"
    }
   ],
   "source": [
    "data.head()"
   ]
  },
  {
   "cell_type": "code",
   "execution_count": null,
   "id": "1de14d8c",
   "metadata": {},
   "outputs": [],
   "source": []
  },
  {
   "cell_type": "code",
   "execution_count": 64,
   "id": "0dd77440",
   "metadata": {},
   "outputs": [
    {
     "name": "stdout",
     "output_type": "stream",
     "text": [
      "                                          Year  Planning Permissions Granted  \\\n",
      "0   Source: Central Statistics Office Ireland.                           NaN   \n",
      "1                                         1975                           NaN   \n",
      "2                                         1976                           NaN   \n",
      "3                                         1977                       12390.0   \n",
      "4                                         1978                       13870.0   \n",
      "5                                         1979                       15897.0   \n",
      "6                                         1980                       14220.0   \n",
      "7                                         1981                       14096.0   \n",
      "8                                         1982                       13082.0   \n",
      "9                                         1983                       10895.0   \n",
      "10                                        1984                        9126.0   \n",
      "11                                        1985                        8498.0   \n",
      "12                                        1986                        7520.0   \n",
      "13                                        1987                        6683.0   \n",
      "14                                        1988                        6396.0   \n",
      "15                                        1989                        8029.0   \n",
      "16                                        1990                        8996.0   \n",
      "17                                        1991                        8961.0   \n",
      "18                                        1992                        8641.0   \n",
      "19                                        1993                        8285.0   \n",
      "20                                        1994                        9296.0   \n",
      "21                                        1995                        9677.0   \n",
      "22                                        1996                       11358.0   \n",
      "23                                        1997                       12922.0   \n",
      "24                                        1998                       15847.0   \n",
      "25                                        1999                           NaN   \n",
      "26                                        2000                       12229.0   \n",
      "27                                        2001                       22010.0   \n",
      "28                                        2002                       18224.0   \n",
      "29                                        2003                       19323.0   \n",
      "30                                        2004                       25751.0   \n",
      "31                                        2005                       23514.0   \n",
      "32                                        2006                       21409.0   \n",
      "33                                        2007                       20788.0   \n",
      "34                                        2008                       16297.0   \n",
      "35                                        2009                        9567.0   \n",
      "36                                        2010                        5958.0   \n",
      "37                                        2011                        4516.0   \n",
      "38                                        2012                        3422.0   \n",
      "39                                        2013                        3103.0   \n",
      "40                                        2014                        3335.0   \n",
      "41                                        2015                        3921.0   \n",
      "42                                        2016                        4668.0   \n",
      "43                                        2017                        5726.0   \n",
      "44                                        2018                        6103.0   \n",
      "45                                        2019                        6265.0   \n",
      "46                                        2020                        5844.0   \n",
      "47                                        2021                        7971.0   \n",
      "48                                        2022                        7401.0   \n",
      "\n",
      "    Units for which Permission Granted  \\\n",
      "0                                  NaN   \n",
      "1                              23028.0   \n",
      "2                              24616.0   \n",
      "3                              29402.0   \n",
      "4                              28408.0   \n",
      "5                              33474.0   \n",
      "6                              30898.0   \n",
      "7                              34041.0   \n",
      "8                              31641.0   \n",
      "9                              31227.0   \n",
      "10                             20285.0   \n",
      "11                             18003.0   \n",
      "12                             12947.0   \n",
      "13                             12230.0   \n",
      "14                             11865.0   \n",
      "15                             19023.0   \n",
      "16                             19804.0   \n",
      "17                             18146.0   \n",
      "18                             17697.0   \n",
      "19                             18857.0   \n",
      "20                             19960.0   \n",
      "21                             23072.0   \n",
      "22                             29510.0   \n",
      "23                             29762.0   \n",
      "24                             39958.0   \n",
      "25                             63795.0   \n",
      "26                             73828.0   \n",
      "27                             60666.0   \n",
      "28                             51055.0   \n",
      "29                             49605.0   \n",
      "30                             69576.0   \n",
      "31                             75650.0   \n",
      "32                             60008.0   \n",
      "33                             62828.0   \n",
      "34                             47806.0   \n",
      "35                             26814.0   \n",
      "36                             11604.0   \n",
      "37                              9098.0   \n",
      "38                              5389.0   \n",
      "39                              6002.0   \n",
      "40                              6626.0   \n",
      "41                             10250.0   \n",
      "42                             12318.0   \n",
      "43                             15440.0   \n",
      "44                             19964.0   \n",
      "45                             19563.0   \n",
      "46                             17709.0   \n",
      "47                             16719.0   \n",
      "48                             17454.0   \n",
      "\n",
      "    Total Floor Area for which Permission Granted  Average Floor Area per Unit  \n",
      "0                                             NaN                          NaN  \n",
      "1                                             NaN                          NaN  \n",
      "2                                             NaN                          NaN  \n",
      "3                                          3103.0                        105.5  \n",
      "4                                          3167.0                        111.5  \n",
      "5                                          3855.0                        115.2  \n",
      "6                                          3676.0                        119.0  \n",
      "7                                          4005.0                        117.7  \n",
      "8                                          3690.0                        116.6  \n",
      "9                                          3522.0                        112.8  \n",
      "10                                         2293.0                        113.0  \n",
      "11                                         1964.0                        109.1  \n",
      "12                                         1464.0                        113.1  \n",
      "13                                         1448.0                        118.4  \n",
      "14                                         1458.0                        122.9  \n",
      "15                                         2329.0                        122.4  \n",
      "16                                         2580.0                        130.3  \n",
      "17                                         2298.0                        126.6  \n",
      "18                                         2258.0                        127.6  \n",
      "19                                         2372.0                        125.8  \n",
      "20                                         2578.0                        129.2  \n",
      "21                                         2981.0                        129.2  \n",
      "22                                         3771.0                        127.8  \n",
      "23                                         4127.0                        138.7  \n",
      "24                                         5574.0                        139.5  \n",
      "25                                            NaN                          NaN  \n",
      "26                                         5445.0                         73.8  \n",
      "27                                         9052.0                        149.2  \n",
      "28                                         7328.0                        143.6  \n",
      "29                                         7297.0                        147.1  \n",
      "30                                        10287.0                        147.8  \n",
      "31                                        11278.0                        149.1  \n",
      "32                                         9526.0                        158.7  \n",
      "33                                        10295.0                        163.9  \n",
      "34                                         8059.0                        168.6  \n",
      "35                                         4592.0                        171.3  \n",
      "36                                         2208.0                        190.3  \n",
      "37                                         1706.0                        187.5  \n",
      "38                                         1110.0                        206.0  \n",
      "39                                         1161.0                        193.5  \n",
      "40                                         1261.0                        190.3  \n",
      "41                                         1829.0                        178.4  \n",
      "42                                         2105.0                        171.0  \n",
      "43                                         2610.0                        169.1  \n",
      "44                                         3166.0                        159.0  \n",
      "45                                         3090.0                        158.0  \n",
      "46                                         2732.0                        154.0  \n",
      "47                                         2915.0                        174.0  \n",
      "48                                         2915.0                        167.0  \n"
     ]
    }
   ],
   "source": [
    "# specify which columns to convert to numeric dtype\n",
    "cols_to_convert = [\"Planning Permissions Granted\", \"Units for which Permission Granted\", \"Total Floor Area for which Permission Granted\"]\n",
    "\n",
    "# use the to_numeric method to convert the columns to numeric type\n",
    "data[cols_to_convert] = data[cols_to_convert].apply(pd.to_numeric)\n",
    "\n",
    "# print the updated DataFrame\n",
    "print(data)\n"
   ]
  },
  {
   "cell_type": "code",
   "execution_count": 65,
   "id": "97a55ed0",
   "metadata": {},
   "outputs": [
    {
     "name": "stdout",
     "output_type": "stream",
     "text": [
      "<class 'pandas.core.frame.DataFrame'>\n",
      "RangeIndex: 49 entries, 0 to 48\n",
      "Data columns (total 5 columns):\n",
      " #   Column                                         Non-Null Count  Dtype  \n",
      "---  ------                                         --------------  -----  \n",
      " 0   Year                                           49 non-null     object \n",
      " 1   Planning Permissions Granted                   45 non-null     float64\n",
      " 2   Units for which Permission Granted             48 non-null     float64\n",
      " 3   Total Floor Area for which Permission Granted  45 non-null     float64\n",
      " 4   Average Floor Area per Unit                    45 non-null     float64\n",
      "dtypes: float64(4), object(1)\n",
      "memory usage: 2.0+ KB\n"
     ]
    }
   ],
   "source": [
    "data.info()"
   ]
  },
  {
   "cell_type": "markdown",
   "id": "2f72ba26",
   "metadata": {},
   "source": [
    "We can see all numeric values are now classified as with a float datatype. \n",
    "\n",
    "Following step is to "
   ]
  },
  {
   "cell_type": "code",
   "execution_count": 66,
   "id": "170976cb",
   "metadata": {},
   "outputs": [
    {
     "data": {
      "text/html": [
       "<div>\n",
       "<style scoped>\n",
       "    .dataframe tbody tr th:only-of-type {\n",
       "        vertical-align: middle;\n",
       "    }\n",
       "\n",
       "    .dataframe tbody tr th {\n",
       "        vertical-align: top;\n",
       "    }\n",
       "\n",
       "    .dataframe thead th {\n",
       "        text-align: right;\n",
       "    }\n",
       "</style>\n",
       "<table border=\"1\" class=\"dataframe\">\n",
       "  <thead>\n",
       "    <tr style=\"text-align: right;\">\n",
       "      <th></th>\n",
       "      <th>Planning Permissions Granted</th>\n",
       "      <th>Units for which Permission Granted</th>\n",
       "      <th>Total Floor Area for which Permission Granted</th>\n",
       "      <th>Average Floor Area per Unit</th>\n",
       "    </tr>\n",
       "    <tr>\n",
       "      <th>Year</th>\n",
       "      <th></th>\n",
       "      <th></th>\n",
       "      <th></th>\n",
       "      <th></th>\n",
       "    </tr>\n",
       "  </thead>\n",
       "  <tbody>\n",
       "    <tr>\n",
       "      <th>1977</th>\n",
       "      <td>12390.0</td>\n",
       "      <td>29402.0</td>\n",
       "      <td>3103.0</td>\n",
       "      <td>105.5</td>\n",
       "    </tr>\n",
       "    <tr>\n",
       "      <th>1978</th>\n",
       "      <td>13870.0</td>\n",
       "      <td>28408.0</td>\n",
       "      <td>3167.0</td>\n",
       "      <td>111.5</td>\n",
       "    </tr>\n",
       "    <tr>\n",
       "      <th>1979</th>\n",
       "      <td>15897.0</td>\n",
       "      <td>33474.0</td>\n",
       "      <td>3855.0</td>\n",
       "      <td>115.2</td>\n",
       "    </tr>\n",
       "    <tr>\n",
       "      <th>1980</th>\n",
       "      <td>14220.0</td>\n",
       "      <td>30898.0</td>\n",
       "      <td>3676.0</td>\n",
       "      <td>119.0</td>\n",
       "    </tr>\n",
       "    <tr>\n",
       "      <th>1981</th>\n",
       "      <td>14096.0</td>\n",
       "      <td>34041.0</td>\n",
       "      <td>4005.0</td>\n",
       "      <td>117.7</td>\n",
       "    </tr>\n",
       "  </tbody>\n",
       "</table>\n",
       "</div>"
      ],
      "text/plain": [
       "      Planning Permissions Granted  Units for which Permission Granted  \\\n",
       "Year                                                                     \n",
       "1977                       12390.0                             29402.0   \n",
       "1978                       13870.0                             28408.0   \n",
       "1979                       15897.0                             33474.0   \n",
       "1980                       14220.0                             30898.0   \n",
       "1981                       14096.0                             34041.0   \n",
       "\n",
       "      Total Floor Area for which Permission Granted  \\\n",
       "Year                                                  \n",
       "1977                                         3103.0   \n",
       "1978                                         3167.0   \n",
       "1979                                         3855.0   \n",
       "1980                                         3676.0   \n",
       "1981                                         4005.0   \n",
       "\n",
       "      Average Floor Area per Unit  \n",
       "Year                               \n",
       "1977                        105.5  \n",
       "1978                        111.5  \n",
       "1979                        115.2  \n",
       "1980                        119.0  \n",
       "1981                        117.7  "
      ]
     },
     "metadata": {},
     "output_type": "display_data"
    }
   ],
   "source": [
    "#drop Nan Values to clean data\n",
    "data = data.dropna(subset=data.columns[:3])\n",
    "\n",
    "# Reset the index\n",
    "data.set_index(\"Year\", inplace=True)\n",
    "# Display the updated DataFrame\n",
    "display(data.head())"
   ]
  },
  {
   "cell_type": "code",
   "execution_count": 67,
   "id": "5a778f0e",
   "metadata": {},
   "outputs": [
    {
     "data": {
      "text/html": [
       "<div>\n",
       "<style scoped>\n",
       "    .dataframe tbody tr th:only-of-type {\n",
       "        vertical-align: middle;\n",
       "    }\n",
       "\n",
       "    .dataframe tbody tr th {\n",
       "        vertical-align: top;\n",
       "    }\n",
       "\n",
       "    .dataframe thead th {\n",
       "        text-align: right;\n",
       "    }\n",
       "</style>\n",
       "<table border=\"1\" class=\"dataframe\">\n",
       "  <thead>\n",
       "    <tr style=\"text-align: right;\">\n",
       "      <th></th>\n",
       "      <th>Planning Permissions Granted</th>\n",
       "      <th>Units for which Permission Granted</th>\n",
       "      <th>Total Floor Area for which Permission Granted</th>\n",
       "      <th>Average Floor Area per Unit</th>\n",
       "    </tr>\n",
       "  </thead>\n",
       "  <tbody>\n",
       "    <tr>\n",
       "      <th>count</th>\n",
       "      <td>45.000000</td>\n",
       "      <td>45.000000</td>\n",
       "      <td>45.000000</td>\n",
       "      <td>45.000000</td>\n",
       "    </tr>\n",
       "    <tr>\n",
       "      <th>mean</th>\n",
       "      <td>10934.000000</td>\n",
       "      <td>28359.600000</td>\n",
       "      <td>3921.777778</td>\n",
       "      <td>143.180000</td>\n",
       "    </tr>\n",
       "    <tr>\n",
       "      <th>std</th>\n",
       "      <td>5826.388016</td>\n",
       "      <td>18910.501162</td>\n",
       "      <td>2714.805860</td>\n",
       "      <td>28.940822</td>\n",
       "    </tr>\n",
       "    <tr>\n",
       "      <th>min</th>\n",
       "      <td>3103.000000</td>\n",
       "      <td>5389.000000</td>\n",
       "      <td>1110.000000</td>\n",
       "      <td>73.800000</td>\n",
       "    </tr>\n",
       "    <tr>\n",
       "      <th>25%</th>\n",
       "      <td>6396.000000</td>\n",
       "      <td>16719.000000</td>\n",
       "      <td>2258.000000</td>\n",
       "      <td>119.000000</td>\n",
       "    </tr>\n",
       "    <tr>\n",
       "      <th>50%</th>\n",
       "      <td>9126.000000</td>\n",
       "      <td>19964.000000</td>\n",
       "      <td>2981.000000</td>\n",
       "      <td>139.500000</td>\n",
       "    </tr>\n",
       "    <tr>\n",
       "      <th>75%</th>\n",
       "      <td>14096.000000</td>\n",
       "      <td>33474.000000</td>\n",
       "      <td>4127.000000</td>\n",
       "      <td>167.000000</td>\n",
       "    </tr>\n",
       "    <tr>\n",
       "      <th>max</th>\n",
       "      <td>25751.000000</td>\n",
       "      <td>75650.000000</td>\n",
       "      <td>11278.000000</td>\n",
       "      <td>206.000000</td>\n",
       "    </tr>\n",
       "  </tbody>\n",
       "</table>\n",
       "</div>"
      ],
      "text/plain": [
       "       Planning Permissions Granted  Units for which Permission Granted  \\\n",
       "count                     45.000000                           45.000000   \n",
       "mean                   10934.000000                        28359.600000   \n",
       "std                     5826.388016                        18910.501162   \n",
       "min                     3103.000000                         5389.000000   \n",
       "25%                     6396.000000                        16719.000000   \n",
       "50%                     9126.000000                        19964.000000   \n",
       "75%                    14096.000000                        33474.000000   \n",
       "max                    25751.000000                        75650.000000   \n",
       "\n",
       "       Total Floor Area for which Permission Granted  \\\n",
       "count                                      45.000000   \n",
       "mean                                     3921.777778   \n",
       "std                                      2714.805860   \n",
       "min                                      1110.000000   \n",
       "25%                                      2258.000000   \n",
       "50%                                      2981.000000   \n",
       "75%                                      4127.000000   \n",
       "max                                     11278.000000   \n",
       "\n",
       "       Average Floor Area per Unit  \n",
       "count                    45.000000  \n",
       "mean                    143.180000  \n",
       "std                      28.940822  \n",
       "min                      73.800000  \n",
       "25%                     119.000000  \n",
       "50%                     139.500000  \n",
       "75%                     167.000000  \n",
       "max                     206.000000  "
      ]
     },
     "execution_count": 67,
     "metadata": {},
     "output_type": "execute_result"
    }
   ],
   "source": [
    "data.describe()"
   ]
  },
  {
   "cell_type": "code",
   "execution_count": null,
   "id": "d66efbf7",
   "metadata": {},
   "outputs": [],
   "source": []
  },
  {
   "cell_type": "code",
   "execution_count": 68,
   "id": "919698f4",
   "metadata": {},
   "outputs": [],
   "source": [
    "#sns.pairplot(data)"
   ]
  },
  {
   "cell_type": "code",
   "execution_count": 69,
   "id": "a1e5d4c0",
   "metadata": {
    "scrolled": true
   },
   "outputs": [
    {
     "data": {
      "text/plain": [
       "<seaborn.axisgrid.PairGrid at 0x1484a6350>"
      ]
     },
     "execution_count": 69,
     "metadata": {},
     "output_type": "execute_result"
    },
    {
     "data": {
      "image/png": "[encoded data removed]",
      "text/plain": [
       "<Figure size 1000x1000 with 20 Axes>"
      ]
     },
     "metadata": {},
     "output_type": "display_data"
    }
   ],
   "source": [
    "sns.pairplot(data=data, diag_kind='kde')"
   ]
  },
  {
   "cell_type": "code",
   "execution_count": null,
   "id": "69c0a94a",
   "metadata": {},
   "outputs": [],
   "source": []
  },
  {
   "cell_type": "code",
   "execution_count": 70,
   "id": "098346f1",
   "metadata": {
    "scrolled": false
   },
   "outputs": [
    {
     "data": {
      "image/png": "[encoded data removed]",
      "text/plain": [
       "<Figure size 1200x1000 with 1 Axes>"
      ]
     },
     "metadata": {},
     "output_type": "display_data"
    }
   ],
   "source": [
    "#create a histogram with the Planning Permissions Granted over the years using Matplotlib\n",
    "\n",
    "\n",
    "# Adjust the figure size\n",
    "plt.figure(figsize=(12,10))\n",
    "\n",
    "\n",
    "# Create a histogram for each year\n",
    "plt.bar(data.index, data['Planning Permissions Granted'], edgecolor=\"black\")\n",
    "\n",
    "# Set labels and title\n",
    "plt.xlabel('Year')\n",
    "plt.ylabel('Planning Permissions Granted')\n",
    "plt.title('Histogram of Planning Permissions Granted for Each Year')\n",
    "\n",
    "# Rotate x-axis labels for better visibility at 45 degrees\n",
    "plt.xticks(rotation=45)\n",
    "\n",
    "\n",
    "# Display the plot\n",
    "plt.show()"
   ]
  },
  {
   "cell_type": "code",
   "execution_count": null,
   "id": "52876156",
   "metadata": {},
   "outputs": [],
   "source": []
  },
  {
   "cell_type": "markdown",
   "id": "65cbc5de",
   "metadata": {},
   "source": [
    "For creating the plot we use plt.bar() to create a bar plot, where each bar represents the planning permissions granted for a specific year. The x-values are taken from the index of the DataFrame using df.index, and the y-values are taken from the 'Planning Permissions Granted' column using df['Planning Permissions Granted'].\n",
    "The histogram plot should display the planning permissions granted for each year using the correct DataFrame structure."
   ]
  },
  {
   "cell_type": "code",
   "execution_count": 71,
   "id": "68cbc63b",
   "metadata": {
    "scrolled": false
   },
   "outputs": [
    {
     "data": {
      "image/png": "[encoded data removed]",
      "text/plain": [
       "<Figure size 1500x1200 with 1 Axes>"
      ]
     },
     "metadata": {},
     "output_type": "display_data"
    }
   ],
   "source": [
    "# Create a  plot with the same data but using seaborn library to compare the graphics, and as a line chart\n",
    "\n",
    "\n",
    "# Adjust the figure size\n",
    "plt.figure(figsize=(15,12))\n",
    "\n",
    "\n",
    "# Set seaborn style\n",
    "sns.set(style='whitegrid')\n",
    "\n",
    "# Create a histogram using seaborn\n",
    "sns.lineplot(data=data, x=data.index, y='Planning Permissions Granted', color='red')\n",
    "\n",
    "# Set labels and title\n",
    "plt.xlabel('Years')\n",
    "plt.ylabel('Plannig Permissions Granted ')\n",
    "plt.title('Histogram of Planning Permissions Granted for New Houses and Apartments from 1977 to 2022')\n",
    "\n",
    "# Rotate x-axis labels for better visibility at 45 degrees\n",
    "plt.xticks(rotation=45)\n",
    "\n",
    "# Display the plot\n",
    "plt.show()\n",
    "\n"
   ]
  },
  {
   "cell_type": "code",
   "execution_count": null,
   "id": "5423c102",
   "metadata": {},
   "outputs": [],
   "source": []
  },
  {
   "cell_type": "code",
   "execution_count": null,
   "id": "16105c6f",
   "metadata": {},
   "outputs": [],
   "source": []
  },
  {
   "cell_type": "code",
   "execution_count": null,
   "id": "958b6789",
   "metadata": {},
   "outputs": [],
   "source": []
  },
  {
   "cell_type": "code",
   "execution_count": null,
   "id": "8511fa69",
   "metadata": {},
   "outputs": [],
   "source": []
  },
  {
   "cell_type": "code",
   "execution_count": null,
   "id": "368c4a98",
   "metadata": {},
   "outputs": [],
   "source": []
  },
  {
   "cell_type": "code",
   "execution_count": null,
   "id": "6b8fbbe2",
   "metadata": {},
   "outputs": [],
   "source": []
  },
  {
   "cell_type": "code",
   "execution_count": null,
   "id": "bceed48e",
   "metadata": {},
   "outputs": [],
   "source": []
  },
  {
   "cell_type": "code",
   "execution_count": null,
   "id": "bc0f400b",
   "metadata": {},
   "outputs": [],
   "source": []
  },
  {
   "cell_type": "code",
   "execution_count": 72,
   "id": "e0c89d05",
   "metadata": {
    "scrolled": false
   },
   "outputs": [
    {
     "data": {
      "image/png": "[encoded data removed]",
      "text/plain": [
       "<Figure size 1200x800 with 1 Axes>"
      ]
     },
     "metadata": {},
     "output_type": "display_data"
    }
   ],
   "source": [
    "sns.set_style(\"darkgrid\")\n",
    "\n",
    "# create line plot with permissions and units \n",
    "data.plot(kind='line', stacked=False, cmap='Set1', figsize=(12, 8))\n",
    "\n",
    "\n",
    "# Get the current y-axis object\n",
    "#y_axis = plt.gca().yaxis\n",
    "\n",
    "# Add labels and title\n",
    "plt.xlabel('Year')\n",
    "plt.ylabel('Count')\n",
    "plt.title('Planning Permissions Granted from 1977 to 2022')\n",
    "plt.legend(loc='upper left')\n",
    "\n",
    "\n",
    "# Show the plot\n",
    "plt.show()\n"
   ]
  },
  {
   "cell_type": "markdown",
   "id": "be5d7b81",
   "metadata": {},
   "source": [
    "## Statistics\n"
   ]
  },
  {
   "cell_type": "code",
   "execution_count": 73,
   "id": "4339c2ad",
   "metadata": {},
   "outputs": [
    {
     "data": {
      "image/png": "[encoded data removed]",
      "text/plain": [
       "<Figure size 1200x400 with 2 Axes>"
      ]
     },
     "metadata": {},
     "output_type": "display_data"
    }
   ],
   "source": [
    "\n",
    "# Create a figure with two subplots\n",
    "fig, axs = plt.subplots(1, 2, figsize=(12, 4))\n",
    "\n",
    "# Plot histogram of number of payments in the first subplot\n",
    "axs[0].hist(data['Planning Permissions Granted'], bins=10)\n",
    "axs[0].set_title('Histogram of Permits Granted')\n",
    "axs[0].set_xlabel('Value')\n",
    "axs[0].set_ylabel('Frequency')\n",
    "\n",
    "# Plot probability plot of number of payments in the second subplot\n",
    "stats.probplot(data['Planning Permissions Granted'], dist='norm', plot=axs[1])\n",
    "axs[1].set_title('Probability Plot of Permits')\n",
    "\n",
    "# Adjust the layout to avoid overlapping titles and labels\n",
    "plt.tight_layout()\n",
    "\n",
    "# Show the plots\n",
    "plt.show()"
   ]
  },
  {
   "cell_type": "markdown",
   "id": "8767e986",
   "metadata": {},
   "source": []
  },
  {
   "cell_type": "code",
   "execution_count": null,
   "id": "4a5d28ce",
   "metadata": {},
   "outputs": [],
   "source": []
  },
  {
   "cell_type": "code",
   "execution_count": 74,
   "id": "b005aeaf",
   "metadata": {
    "scrolled": false
   },
   "outputs": [
    {
     "data": {
      "text/html": [
       "<div>\n",
       "<style scoped>\n",
       "    .dataframe tbody tr th:only-of-type {\n",
       "        vertical-align: middle;\n",
       "    }\n",
       "\n",
       "    .dataframe tbody tr th {\n",
       "        vertical-align: top;\n",
       "    }\n",
       "\n",
       "    .dataframe thead th {\n",
       "        text-align: right;\n",
       "    }\n",
       "</style>\n",
       "<table border=\"1\" class=\"dataframe\">\n",
       "  <thead>\n",
       "    <tr style=\"text-align: right;\">\n",
       "      <th></th>\n",
       "      <th>Year</th>\n",
       "      <th>Houses</th>\n",
       "      <th>Multi development houses</th>\n",
       "      <th>One off houses</th>\n",
       "      <th>Private flats/apartments</th>\n",
       "    </tr>\n",
       "  </thead>\n",
       "  <tbody>\n",
       "    <tr>\n",
       "      <th>32</th>\n",
       "      <td>2006</td>\n",
       "      <td>21409</td>\n",
       "      <td>NaN</td>\n",
       "      <td>NaN</td>\n",
       "      <td>1340</td>\n",
       "    </tr>\n",
       "    <tr>\n",
       "      <th>8</th>\n",
       "      <td>1982</td>\n",
       "      <td>13082</td>\n",
       "      <td>NaN</td>\n",
       "      <td>NaN</td>\n",
       "      <td>237</td>\n",
       "    </tr>\n",
       "    <tr>\n",
       "      <th>9</th>\n",
       "      <td>1983</td>\n",
       "      <td>10895</td>\n",
       "      <td>NaN</td>\n",
       "      <td>NaN</td>\n",
       "      <td>300</td>\n",
       "    </tr>\n",
       "    <tr>\n",
       "      <th>6</th>\n",
       "      <td>1980</td>\n",
       "      <td>14220</td>\n",
       "      <td>NaN</td>\n",
       "      <td>NaN</td>\n",
       "      <td>127</td>\n",
       "    </tr>\n",
       "    <tr>\n",
       "      <th>47</th>\n",
       "      <td>2021</td>\n",
       "      <td>7971</td>\n",
       "      <td>472.0</td>\n",
       "      <td>7499</td>\n",
       "      <td>810</td>\n",
       "    </tr>\n",
       "    <tr>\n",
       "      <th>13</th>\n",
       "      <td>1987</td>\n",
       "      <td>6683</td>\n",
       "      <td>NaN</td>\n",
       "      <td>NaN</td>\n",
       "      <td>222</td>\n",
       "    </tr>\n",
       "    <tr>\n",
       "      <th>44</th>\n",
       "      <td>2018</td>\n",
       "      <td>6103</td>\n",
       "      <td>622.0</td>\n",
       "      <td>5481</td>\n",
       "      <td>692</td>\n",
       "    </tr>\n",
       "    <tr>\n",
       "      <th>42</th>\n",
       "      <td>2016</td>\n",
       "      <td>4668</td>\n",
       "      <td>NaN</td>\n",
       "      <td>NaN</td>\n",
       "      <td>424</td>\n",
       "    </tr>\n",
       "    <tr>\n",
       "      <th>0</th>\n",
       "      <td>Source: Central Statistics Office Ireland.</td>\n",
       "      <td>NaN</td>\n",
       "      <td>NaN</td>\n",
       "      <td>NaN</td>\n",
       "      <td>NaN</td>\n",
       "    </tr>\n",
       "    <tr>\n",
       "      <th>3</th>\n",
       "      <td>1977</td>\n",
       "      <td>12390</td>\n",
       "      <td>NaN</td>\n",
       "      <td>NaN</td>\n",
       "      <td>49</td>\n",
       "    </tr>\n",
       "  </tbody>\n",
       "</table>\n",
       "</div>"
      ],
      "text/plain": [
       "                                          Year Houses  \\\n",
       "32                                        2006  21409   \n",
       "8                                         1982  13082   \n",
       "9                                         1983  10895   \n",
       "6                                         1980  14220   \n",
       "47                                        2021   7971   \n",
       "13                                        1987   6683   \n",
       "44                                        2018   6103   \n",
       "42                                        2016   4668   \n",
       "0   Source: Central Statistics Office Ireland.    NaN   \n",
       "3                                         1977  12390   \n",
       "\n",
       "    Multi development houses One off houses Private flats/apartments  \n",
       "32                       NaN            NaN                     1340  \n",
       "8                        NaN            NaN                      237  \n",
       "9                        NaN            NaN                      300  \n",
       "6                        NaN            NaN                      127  \n",
       "47                     472.0           7499                      810  \n",
       "13                       NaN            NaN                      222  \n",
       "44                     622.0           5481                      692  \n",
       "42                       NaN            NaN                      424  \n",
       "0                        NaN            NaN                      NaN  \n",
       "3                        NaN            NaN                       49  "
      ]
     },
     "execution_count": 74,
     "metadata": {},
     "output_type": "execute_result"
    }
   ],
   "source": [
    "#import second df containg type of dweling \n",
    "dwelling_df = pd.read_csv(\"Planning_Permissions_Granted_Types.csv\")\n",
    "\n",
    "#replace commas from dataset to convert values from object to integers\n",
    "dwelling_df.replace(',','', regex=True, inplace=True)\n",
    "\n",
    "# rename first column and reset index so the years are the new index\n",
    "dwelling_df = dwelling_df.rename(columns={'Unnamed: 0':'Year'})\n",
    "                                             \n",
    "dwelling_df.sample(10)"
   ]
  },
  {
   "cell_type": "code",
   "execution_count": 75,
   "id": "2bcac506",
   "metadata": {},
   "outputs": [],
   "source": [
    "#Selecting number of payments features to be dropped and mantain only value features\n",
    "#to_drop = [\"Multi development houses\",\"One off houses\"]\n",
    "\n",
    "#Drop columns selected\n",
    "#dwelling_df.drop(to_drop, inplace=True, axis=1)"
   ]
  },
  {
   "cell_type": "code",
   "execution_count": 76,
   "id": "5ff853e7",
   "metadata": {
    "scrolled": true
   },
   "outputs": [
    {
     "name": "stdout",
     "output_type": "stream",
     "text": [
      "<class 'pandas.core.frame.DataFrame'>\n",
      "RangeIndex: 49 entries, 0 to 48\n",
      "Data columns (total 5 columns):\n",
      " #   Column                    Non-Null Count  Dtype  \n",
      "---  ------                    --------------  -----  \n",
      " 0   Year                      49 non-null     object \n",
      " 1   Houses                    45 non-null     object \n",
      " 2   Multi development houses  5 non-null      float64\n",
      " 3   One off houses            5 non-null      object \n",
      " 4   Private flats/apartments  45 non-null     object \n",
      "dtypes: float64(1), object(4)\n",
      "memory usage: 2.0+ KB\n"
     ]
    }
   ],
   "source": [
    "dwelling_df.info()"
   ]
  },
  {
   "cell_type": "markdown",
   "id": "78c80cc1",
   "metadata": {},
   "source": [
    "CSO file contains missing data "
   ]
  },
  {
   "cell_type": "code",
   "execution_count": 77,
   "id": "60c154ea",
   "metadata": {},
   "outputs": [
    {
     "name": "stdout",
     "output_type": "stream",
     "text": [
      "<class 'pandas.core.frame.DataFrame'>\n",
      "Int64Index: 5 entries, 44 to 48\n",
      "Data columns (total 5 columns):\n",
      " #   Column                    Non-Null Count  Dtype  \n",
      "---  ------                    --------------  -----  \n",
      " 0   Year                      5 non-null      object \n",
      " 1   Houses                    5 non-null      object \n",
      " 2   Multi development houses  5 non-null      float64\n",
      " 3   One off houses            5 non-null      object \n",
      " 4   Private flats/apartments  5 non-null      object \n",
      "dtypes: float64(1), object(4)\n",
      "memory usage: 240.0+ bytes\n",
      "None\n"
     ]
    }
   ],
   "source": [
    "# Drop the first 3 rows containing NaN values across multiple columns\n",
    "dwelling_df = dwelling_df.dropna(subset=dwelling_df.columns[[0, 1, 2]])\n",
    "print(dwelling_df.info())"
   ]
  },
  {
   "cell_type": "code",
   "execution_count": 78,
   "id": "8d84e5c6",
   "metadata": {},
   "outputs": [],
   "source": [
    "# Reset the index\n",
    "dwelling_df.set_index(\"Year\", inplace=True)"
   ]
  },
  {
   "cell_type": "code",
   "execution_count": 79,
   "id": "1d2cf55a",
   "metadata": {},
   "outputs": [
    {
     "data": {
      "text/html": [
       "<div>\n",
       "<style scoped>\n",
       "    .dataframe tbody tr th:only-of-type {\n",
       "        vertical-align: middle;\n",
       "    }\n",
       "\n",
       "    .dataframe tbody tr th {\n",
       "        vertical-align: top;\n",
       "    }\n",
       "\n",
       "    .dataframe thead th {\n",
       "        text-align: right;\n",
       "    }\n",
       "</style>\n",
       "<table border=\"1\" class=\"dataframe\">\n",
       "  <thead>\n",
       "    <tr style=\"text-align: right;\">\n",
       "      <th></th>\n",
       "      <th>Houses</th>\n",
       "      <th>Multi development houses</th>\n",
       "      <th>One off houses</th>\n",
       "      <th>Private flats/apartments</th>\n",
       "    </tr>\n",
       "    <tr>\n",
       "      <th>Year</th>\n",
       "      <th></th>\n",
       "      <th></th>\n",
       "      <th></th>\n",
       "      <th></th>\n",
       "    </tr>\n",
       "  </thead>\n",
       "  <tbody>\n",
       "    <tr>\n",
       "      <th>2018</th>\n",
       "      <td>6103</td>\n",
       "      <td>622.0</td>\n",
       "      <td>5481</td>\n",
       "      <td>692</td>\n",
       "    </tr>\n",
       "    <tr>\n",
       "      <th>2019</th>\n",
       "      <td>6265</td>\n",
       "      <td>643.0</td>\n",
       "      <td>5622</td>\n",
       "      <td>791</td>\n",
       "    </tr>\n",
       "    <tr>\n",
       "      <th>2020</th>\n",
       "      <td>5844</td>\n",
       "      <td>552.0</td>\n",
       "      <td>5292</td>\n",
       "      <td>742</td>\n",
       "    </tr>\n",
       "    <tr>\n",
       "      <th>2021</th>\n",
       "      <td>7971</td>\n",
       "      <td>472.0</td>\n",
       "      <td>7499</td>\n",
       "      <td>810</td>\n",
       "    </tr>\n",
       "    <tr>\n",
       "      <th>2022</th>\n",
       "      <td>7401</td>\n",
       "      <td>477.0</td>\n",
       "      <td>6924</td>\n",
       "      <td>695</td>\n",
       "    </tr>\n",
       "  </tbody>\n",
       "</table>\n",
       "</div>"
      ],
      "text/plain": [
       "     Houses  Multi development houses One off houses Private flats/apartments\n",
       "Year                                                                         \n",
       "2018   6103                     622.0           5481                      692\n",
       "2019   6265                     643.0           5622                      791\n",
       "2020   5844                     552.0           5292                      742\n",
       "2021   7971                     472.0           7499                      810\n",
       "2022   7401                     477.0           6924                      695"
      ]
     },
     "execution_count": 79,
     "metadata": {},
     "output_type": "execute_result"
    }
   ],
   "source": [
    "dwelling_df.head()"
   ]
  },
  {
   "cell_type": "code",
   "execution_count": 80,
   "id": "fe3ac2f9",
   "metadata": {},
   "outputs": [],
   "source": [
    "# specify which columns to convert to numeric dtype\n",
    "cols_to_convert2 = [\"Houses\", \"One off houses\",'Private flats/apartments']\n",
    "# use the to_numeric method to convert the columns to numeric type\n",
    "dwelling_df[cols_to_convert2] = dwelling_df[cols_to_convert2].apply(pd.to_numeric)\n"
   ]
  },
  {
   "cell_type": "code",
   "execution_count": 81,
   "id": "2bdf22f1",
   "metadata": {},
   "outputs": [
    {
     "name": "stdout",
     "output_type": "stream",
     "text": [
      "<class 'pandas.core.frame.DataFrame'>\n",
      "Index: 5 entries, 2018 to 2022\n",
      "Data columns (total 4 columns):\n",
      " #   Column                    Non-Null Count  Dtype  \n",
      "---  ------                    --------------  -----  \n",
      " 0   Houses                    5 non-null      int64  \n",
      " 1   Multi development houses  5 non-null      float64\n",
      " 2   One off houses            5 non-null      int64  \n",
      " 3   Private flats/apartments  5 non-null      int64  \n",
      "dtypes: float64(1), int64(3)\n",
      "memory usage: 200.0+ bytes\n"
     ]
    }
   ],
   "source": [
    "dwelling_df.info()"
   ]
  },
  {
   "cell_type": "code",
   "execution_count": null,
   "id": "4392ea79",
   "metadata": {},
   "outputs": [],
   "source": []
  },
  {
   "cell_type": "code",
   "execution_count": 82,
   "id": "293b8e35",
   "metadata": {},
   "outputs": [],
   "source": [
    "\n",
    "# Assuming you have two DataFrames: df1 and df2 with the same indexes \n",
    "\n",
    "# Merge the DataFrames based on the common index\n",
    "merged_df = pd.merge(data, dwelling_df, left_index=True, right_index=True)"
   ]
  },
  {
   "cell_type": "code",
   "execution_count": 83,
   "id": "10c7575a",
   "metadata": {},
   "outputs": [
    {
     "name": "stdout",
     "output_type": "stream",
     "text": [
      "<class 'pandas.core.frame.DataFrame'>\n",
      "Index: 5 entries, 2018 to 2022\n",
      "Data columns (total 8 columns):\n",
      " #   Column                                         Non-Null Count  Dtype  \n",
      "---  ------                                         --------------  -----  \n",
      " 0   Planning Permissions Granted                   5 non-null      float64\n",
      " 1   Units for which Permission Granted             5 non-null      float64\n",
      " 2   Total Floor Area for which Permission Granted  5 non-null      float64\n",
      " 3   Average Floor Area per Unit                    5 non-null      float64\n",
      " 4   Houses                                         5 non-null      int64  \n",
      " 5   Multi development houses                       5 non-null      float64\n",
      " 6   One off houses                                 5 non-null      int64  \n",
      " 7   Private flats/apartments                       5 non-null      int64  \n",
      "dtypes: float64(5), int64(3)\n",
      "memory usage: 360.0+ bytes\n",
      "None\n"
     ]
    },
    {
     "data": {
      "text/html": [
       "<div>\n",
       "<style scoped>\n",
       "    .dataframe tbody tr th:only-of-type {\n",
       "        vertical-align: middle;\n",
       "    }\n",
       "\n",
       "    .dataframe tbody tr th {\n",
       "        vertical-align: top;\n",
       "    }\n",
       "\n",
       "    .dataframe thead th {\n",
       "        text-align: right;\n",
       "    }\n",
       "</style>\n",
       "<table border=\"1\" class=\"dataframe\">\n",
       "  <thead>\n",
       "    <tr style=\"text-align: right;\">\n",
       "      <th></th>\n",
       "      <th>Planning Permissions Granted</th>\n",
       "      <th>Units for which Permission Granted</th>\n",
       "      <th>Total Floor Area for which Permission Granted</th>\n",
       "      <th>Average Floor Area per Unit</th>\n",
       "      <th>Houses</th>\n",
       "      <th>Multi development houses</th>\n",
       "      <th>One off houses</th>\n",
       "      <th>Private flats/apartments</th>\n",
       "    </tr>\n",
       "    <tr>\n",
       "      <th>Year</th>\n",
       "      <th></th>\n",
       "      <th></th>\n",
       "      <th></th>\n",
       "      <th></th>\n",
       "      <th></th>\n",
       "      <th></th>\n",
       "      <th></th>\n",
       "      <th></th>\n",
       "    </tr>\n",
       "  </thead>\n",
       "  <tbody>\n",
       "    <tr>\n",
       "      <th>2018</th>\n",
       "      <td>6103.0</td>\n",
       "      <td>19964.0</td>\n",
       "      <td>3166.0</td>\n",
       "      <td>159.0</td>\n",
       "      <td>6103</td>\n",
       "      <td>622.0</td>\n",
       "      <td>5481</td>\n",
       "      <td>692</td>\n",
       "    </tr>\n",
       "    <tr>\n",
       "      <th>2019</th>\n",
       "      <td>6265.0</td>\n",
       "      <td>19563.0</td>\n",
       "      <td>3090.0</td>\n",
       "      <td>158.0</td>\n",
       "      <td>6265</td>\n",
       "      <td>643.0</td>\n",
       "      <td>5622</td>\n",
       "      <td>791</td>\n",
       "    </tr>\n",
       "    <tr>\n",
       "      <th>2020</th>\n",
       "      <td>5844.0</td>\n",
       "      <td>17709.0</td>\n",
       "      <td>2732.0</td>\n",
       "      <td>154.0</td>\n",
       "      <td>5844</td>\n",
       "      <td>552.0</td>\n",
       "      <td>5292</td>\n",
       "      <td>742</td>\n",
       "    </tr>\n",
       "    <tr>\n",
       "      <th>2021</th>\n",
       "      <td>7971.0</td>\n",
       "      <td>16719.0</td>\n",
       "      <td>2915.0</td>\n",
       "      <td>174.0</td>\n",
       "      <td>7971</td>\n",
       "      <td>472.0</td>\n",
       "      <td>7499</td>\n",
       "      <td>810</td>\n",
       "    </tr>\n",
       "    <tr>\n",
       "      <th>2022</th>\n",
       "      <td>7401.0</td>\n",
       "      <td>17454.0</td>\n",
       "      <td>2915.0</td>\n",
       "      <td>167.0</td>\n",
       "      <td>7401</td>\n",
       "      <td>477.0</td>\n",
       "      <td>6924</td>\n",
       "      <td>695</td>\n",
       "    </tr>\n",
       "  </tbody>\n",
       "</table>\n",
       "</div>"
      ],
      "text/plain": [
       "      Planning Permissions Granted  Units for which Permission Granted  \\\n",
       "Year                                                                     \n",
       "2018                        6103.0                             19964.0   \n",
       "2019                        6265.0                             19563.0   \n",
       "2020                        5844.0                             17709.0   \n",
       "2021                        7971.0                             16719.0   \n",
       "2022                        7401.0                             17454.0   \n",
       "\n",
       "      Total Floor Area for which Permission Granted  \\\n",
       "Year                                                  \n",
       "2018                                         3166.0   \n",
       "2019                                         3090.0   \n",
       "2020                                         2732.0   \n",
       "2021                                         2915.0   \n",
       "2022                                         2915.0   \n",
       "\n",
       "      Average Floor Area per Unit  Houses  Multi development houses  \\\n",
       "Year                                                                  \n",
       "2018                        159.0    6103                     622.0   \n",
       "2019                        158.0    6265                     643.0   \n",
       "2020                        154.0    5844                     552.0   \n",
       "2021                        174.0    7971                     472.0   \n",
       "2022                        167.0    7401                     477.0   \n",
       "\n",
       "      One off houses  Private flats/apartments  \n",
       "Year                                            \n",
       "2018            5481                       692  \n",
       "2019            5622                       791  \n",
       "2020            5292                       742  \n",
       "2021            7499                       810  \n",
       "2022            6924                       695  "
      ]
     },
     "metadata": {},
     "output_type": "display_data"
    }
   ],
   "source": [
    "print(merged_df.info())\n",
    "display(merged_df)"
   ]
  },
  {
   "cell_type": "code",
   "execution_count": 84,
   "id": "a0ec1af5",
   "metadata": {},
   "outputs": [
    {
     "data": {
      "text/html": [
       "<div>\n",
       "<style scoped>\n",
       "    .dataframe tbody tr th:only-of-type {\n",
       "        vertical-align: middle;\n",
       "    }\n",
       "\n",
       "    .dataframe tbody tr th {\n",
       "        vertical-align: top;\n",
       "    }\n",
       "\n",
       "    .dataframe thead th {\n",
       "        text-align: right;\n",
       "    }\n",
       "</style>\n",
       "<table border=\"1\" class=\"dataframe\">\n",
       "  <thead>\n",
       "    <tr style=\"text-align: right;\">\n",
       "      <th></th>\n",
       "      <th>Planning Permissions Granted</th>\n",
       "      <th>Units for which Permission Granted</th>\n",
       "      <th>Total Floor Area for which Permission Granted</th>\n",
       "      <th>Average Floor Area per Unit</th>\n",
       "      <th>Houses</th>\n",
       "      <th>Multi development houses</th>\n",
       "      <th>One off houses</th>\n",
       "      <th>Private flats/apartments</th>\n",
       "    </tr>\n",
       "  </thead>\n",
       "  <tbody>\n",
       "    <tr>\n",
       "      <th>count</th>\n",
       "      <td>5.000000</td>\n",
       "      <td>5.000000</td>\n",
       "      <td>5.000000</td>\n",
       "      <td>5.000000</td>\n",
       "      <td>5.000000</td>\n",
       "      <td>5.000000</td>\n",
       "      <td>5.000000</td>\n",
       "      <td>5.000000</td>\n",
       "    </tr>\n",
       "    <tr>\n",
       "      <th>mean</th>\n",
       "      <td>6716.800000</td>\n",
       "      <td>18281.800000</td>\n",
       "      <td>2963.600000</td>\n",
       "      <td>162.400000</td>\n",
       "      <td>6716.800000</td>\n",
       "      <td>553.200000</td>\n",
       "      <td>6163.600000</td>\n",
       "      <td>746.000000</td>\n",
       "    </tr>\n",
       "    <tr>\n",
       "      <th>std</th>\n",
       "      <td>919.755511</td>\n",
       "      <td>1407.743478</td>\n",
       "      <td>169.783097</td>\n",
       "      <td>8.018728</td>\n",
       "      <td>919.755511</td>\n",
       "      <td>79.370649</td>\n",
       "      <td>984.944313</td>\n",
       "      <td>53.976847</td>\n",
       "    </tr>\n",
       "    <tr>\n",
       "      <th>min</th>\n",
       "      <td>5844.000000</td>\n",
       "      <td>16719.000000</td>\n",
       "      <td>2732.000000</td>\n",
       "      <td>154.000000</td>\n",
       "      <td>5844.000000</td>\n",
       "      <td>472.000000</td>\n",
       "      <td>5292.000000</td>\n",
       "      <td>692.000000</td>\n",
       "    </tr>\n",
       "    <tr>\n",
       "      <th>25%</th>\n",
       "      <td>6103.000000</td>\n",
       "      <td>17454.000000</td>\n",
       "      <td>2915.000000</td>\n",
       "      <td>158.000000</td>\n",
       "      <td>6103.000000</td>\n",
       "      <td>477.000000</td>\n",
       "      <td>5481.000000</td>\n",
       "      <td>695.000000</td>\n",
       "    </tr>\n",
       "    <tr>\n",
       "      <th>50%</th>\n",
       "      <td>6265.000000</td>\n",
       "      <td>17709.000000</td>\n",
       "      <td>2915.000000</td>\n",
       "      <td>159.000000</td>\n",
       "      <td>6265.000000</td>\n",
       "      <td>552.000000</td>\n",
       "      <td>5622.000000</td>\n",
       "      <td>742.000000</td>\n",
       "    </tr>\n",
       "    <tr>\n",
       "      <th>75%</th>\n",
       "      <td>7401.000000</td>\n",
       "      <td>19563.000000</td>\n",
       "      <td>3090.000000</td>\n",
       "      <td>167.000000</td>\n",
       "      <td>7401.000000</td>\n",
       "      <td>622.000000</td>\n",
       "      <td>6924.000000</td>\n",
       "      <td>791.000000</td>\n",
       "    </tr>\n",
       "    <tr>\n",
       "      <th>max</th>\n",
       "      <td>7971.000000</td>\n",
       "      <td>19964.000000</td>\n",
       "      <td>3166.000000</td>\n",
       "      <td>174.000000</td>\n",
       "      <td>7971.000000</td>\n",
       "      <td>643.000000</td>\n",
       "      <td>7499.000000</td>\n",
       "      <td>810.000000</td>\n",
       "    </tr>\n",
       "  </tbody>\n",
       "</table>\n",
       "</div>"
      ],
      "text/plain": [
       "       Planning Permissions Granted  Units for which Permission Granted  \\\n",
       "count                      5.000000                            5.000000   \n",
       "mean                    6716.800000                        18281.800000   \n",
       "std                      919.755511                         1407.743478   \n",
       "min                     5844.000000                        16719.000000   \n",
       "25%                     6103.000000                        17454.000000   \n",
       "50%                     6265.000000                        17709.000000   \n",
       "75%                     7401.000000                        19563.000000   \n",
       "max                     7971.000000                        19964.000000   \n",
       "\n",
       "       Total Floor Area for which Permission Granted  \\\n",
       "count                                       5.000000   \n",
       "mean                                     2963.600000   \n",
       "std                                       169.783097   \n",
       "min                                      2732.000000   \n",
       "25%                                      2915.000000   \n",
       "50%                                      2915.000000   \n",
       "75%                                      3090.000000   \n",
       "max                                      3166.000000   \n",
       "\n",
       "       Average Floor Area per Unit       Houses  Multi development houses  \\\n",
       "count                     5.000000     5.000000                  5.000000   \n",
       "mean                    162.400000  6716.800000                553.200000   \n",
       "std                       8.018728   919.755511                 79.370649   \n",
       "min                     154.000000  5844.000000                472.000000   \n",
       "25%                     158.000000  6103.000000                477.000000   \n",
       "50%                     159.000000  6265.000000                552.000000   \n",
       "75%                     167.000000  7401.000000                622.000000   \n",
       "max                     174.000000  7971.000000                643.000000   \n",
       "\n",
       "       One off houses  Private flats/apartments  \n",
       "count        5.000000                  5.000000  \n",
       "mean      6163.600000                746.000000  \n",
       "std        984.944313                 53.976847  \n",
       "min       5292.000000                692.000000  \n",
       "25%       5481.000000                695.000000  \n",
       "50%       5622.000000                742.000000  \n",
       "75%       6924.000000                791.000000  \n",
       "max       7499.000000                810.000000  "
      ]
     },
     "execution_count": 84,
     "metadata": {},
     "output_type": "execute_result"
    }
   ],
   "source": [
    "merged_df.describe()"
   ]
  },
  {
   "cell_type": "code",
   "execution_count": null,
   "id": "9bf1f947",
   "metadata": {},
   "outputs": [],
   "source": []
  },
  {
   "cell_type": "code",
   "execution_count": null,
   "id": "6dcc4872",
   "metadata": {},
   "outputs": [],
   "source": []
  },
  {
   "cell_type": "code",
   "execution_count": 85,
   "id": "65734e2b",
   "metadata": {
    "scrolled": false
   },
   "outputs": [
    {
     "data": {
      "image/png": "[encoded data removed]",
      "text/plain": [
       "<Figure size 1200x800 with 1 Axes>"
      ]
     },
     "metadata": {},
     "output_type": "display_data"
    }
   ],
   "source": [
    "# create line plot with permissions and units \n",
    "merged_df.plot(kind='bar', stacked=False, cmap='Set2', figsize=(12, 8))\n",
    "\n",
    "#Tried other color paletts but visibility was not optimal\n",
    "sns.set_style(\"darkgrid\")\n",
    "# Get the current y-axis object\n",
    "y_axis = plt.gca().yaxis\n",
    "\n",
    "# Add labels and title\n",
    "plt.xlabel('Year')\n",
    "plt.ylabel('Count')\n",
    "plt.title('Planning Permissions in the State of Ireland from 1977 to 2022')\n",
    "plt.legend(loc='upper left')\n",
    "\n",
    "# Rotate x-axis labels for better visibility at 45 degrees\n",
    "plt.xticks(rotation=360)\n",
    "\n",
    "# Show the plot\n",
    "plt.show()\n"
   ]
  },
  {
   "cell_type": "code",
   "execution_count": null,
   "id": "c935856d",
   "metadata": {},
   "outputs": [],
   "source": []
  },
  {
   "cell_type": "code",
   "execution_count": null,
   "id": "678a0324",
   "metadata": {},
   "outputs": [],
   "source": [
    "\n"
   ]
  },
  {
   "cell_type": "markdown",
   "id": "d3351589",
   "metadata": {},
   "source": [
    "### Employment in Ireland\n",
    "\n",
    "\n",
    "Annual Average Index of Employment (1975 - Date) in Building and Construction Industry\n",
    "\n"
   ]
  },
  {
   "cell_type": "code",
   "execution_count": 86,
   "id": "11acfc47",
   "metadata": {},
   "outputs": [],
   "source": [
    "index_employ = pd.read_csv(\"index_of_employment.csv\")"
   ]
  },
  {
   "cell_type": "code",
   "execution_count": 87,
   "id": "c9558d12",
   "metadata": {},
   "outputs": [
    {
     "data": {
      "text/html": [
       "<div>\n",
       "<style scoped>\n",
       "    .dataframe tbody tr th:only-of-type {\n",
       "        vertical-align: middle;\n",
       "    }\n",
       "\n",
       "    .dataframe tbody tr th {\n",
       "        vertical-align: top;\n",
       "    }\n",
       "\n",
       "    .dataframe thead th {\n",
       "        text-align: right;\n",
       "    }\n",
       "</style>\n",
       "<table border=\"1\" class=\"dataframe\">\n",
       "  <thead>\n",
       "    <tr style=\"text-align: right;\">\n",
       "      <th></th>\n",
       "      <th>STATISTIC</th>\n",
       "      <th>Statistic Label</th>\n",
       "      <th>C02196V02652</th>\n",
       "      <th>State</th>\n",
       "      <th>TLIST(A1)</th>\n",
       "      <th>Year</th>\n",
       "      <th>UNIT</th>\n",
       "      <th>VALUE</th>\n",
       "    </tr>\n",
       "  </thead>\n",
       "  <tbody>\n",
       "    <tr>\n",
       "      <th>0</th>\n",
       "      <td>BBA02</td>\n",
       "      <td>Annual Average Index of Employment (1975 - Dat...</td>\n",
       "      <td>-</td>\n",
       "      <td>State</td>\n",
       "      <td>1975</td>\n",
       "      <td>1975</td>\n",
       "      <td>Base 2000=100</td>\n",
       "      <td>133.2</td>\n",
       "    </tr>\n",
       "    <tr>\n",
       "      <th>1</th>\n",
       "      <td>BBA02</td>\n",
       "      <td>Annual Average Index of Employment (1975 - Dat...</td>\n",
       "      <td>-</td>\n",
       "      <td>State</td>\n",
       "      <td>1976</td>\n",
       "      <td>1976</td>\n",
       "      <td>Base 2000=100</td>\n",
       "      <td>128.1</td>\n",
       "    </tr>\n",
       "    <tr>\n",
       "      <th>2</th>\n",
       "      <td>BBA02</td>\n",
       "      <td>Annual Average Index of Employment (1975 - Dat...</td>\n",
       "      <td>-</td>\n",
       "      <td>State</td>\n",
       "      <td>1977</td>\n",
       "      <td>1977</td>\n",
       "      <td>Base 2000=100</td>\n",
       "      <td>134.8</td>\n",
       "    </tr>\n",
       "    <tr>\n",
       "      <th>3</th>\n",
       "      <td>BBA02</td>\n",
       "      <td>Annual Average Index of Employment (1975 - Dat...</td>\n",
       "      <td>-</td>\n",
       "      <td>State</td>\n",
       "      <td>1978</td>\n",
       "      <td>1978</td>\n",
       "      <td>Base 2000=100</td>\n",
       "      <td>147.0</td>\n",
       "    </tr>\n",
       "    <tr>\n",
       "      <th>4</th>\n",
       "      <td>BBA02</td>\n",
       "      <td>Annual Average Index of Employment (1975 - Dat...</td>\n",
       "      <td>-</td>\n",
       "      <td>State</td>\n",
       "      <td>1979</td>\n",
       "      <td>1979</td>\n",
       "      <td>Base 2000=100</td>\n",
       "      <td>158.8</td>\n",
       "    </tr>\n",
       "  </tbody>\n",
       "</table>\n",
       "</div>"
      ],
      "text/plain": [
       "  STATISTIC                                    Statistic Label C02196V02652  \\\n",
       "0     BBA02  Annual Average Index of Employment (1975 - Dat...            -   \n",
       "1     BBA02  Annual Average Index of Employment (1975 - Dat...            -   \n",
       "2     BBA02  Annual Average Index of Employment (1975 - Dat...            -   \n",
       "3     BBA02  Annual Average Index of Employment (1975 - Dat...            -   \n",
       "4     BBA02  Annual Average Index of Employment (1975 - Dat...            -   \n",
       "\n",
       "   State  TLIST(A1)  Year           UNIT  VALUE  \n",
       "0  State       1975  1975  Base 2000=100  133.2  \n",
       "1  State       1976  1976  Base 2000=100  128.1  \n",
       "2  State       1977  1977  Base 2000=100  134.8  \n",
       "3  State       1978  1978  Base 2000=100  147.0  \n",
       "4  State       1979  1979  Base 2000=100  158.8  "
      ]
     },
     "execution_count": 87,
     "metadata": {},
     "output_type": "execute_result"
    }
   ],
   "source": [
    "index_employ.head()"
   ]
  },
  {
   "cell_type": "code",
   "execution_count": 88,
   "id": "c4468e0a",
   "metadata": {},
   "outputs": [
    {
     "name": "stdout",
     "output_type": "stream",
     "text": [
      "<class 'pandas.core.frame.DataFrame'>\n",
      "RangeIndex: 34 entries, 0 to 33\n",
      "Data columns (total 8 columns):\n",
      " #   Column           Non-Null Count  Dtype  \n",
      "---  ------           --------------  -----  \n",
      " 0   STATISTIC        34 non-null     object \n",
      " 1   Statistic Label  34 non-null     object \n",
      " 2   C02196V02652     34 non-null     object \n",
      " 3   State            34 non-null     object \n",
      " 4   TLIST(A1)        34 non-null     int64  \n",
      " 5   Year             34 non-null     int64  \n",
      " 6   UNIT             34 non-null     object \n",
      " 7   VALUE            34 non-null     float64\n",
      "dtypes: float64(1), int64(2), object(5)\n",
      "memory usage: 2.2+ KB\n"
     ]
    }
   ],
   "source": [
    "\n",
    "index_employ.info()"
   ]
  },
  {
   "cell_type": "code",
   "execution_count": 89,
   "id": "02053c91",
   "metadata": {},
   "outputs": [
    {
     "data": {
      "application/vnd.plotly.v1+json": {
       "config": {
        "plotlyServerURL": "https://plot.ly"
       },
       "data": [
        {
         "alignmentgroup": "True",
         "hovertemplate": "VALUE=%{y}<extra></extra>",
         "legendgroup": "",
         "marker": {
          "color": "#636efa"
         },
         "name": "",
         "notched": false,
         "offsetgroup": "",
         "orientation": "v",
         "showlegend": false,
         "type": "box",
         "x0": " ",
         "xaxis": "x",
         "y": [
          133.2,
          128.1,
          134.8,
          147,
          158.8,
          156.1,
          152.9,
          135.6,
          110.7,
          101.1,
          87.1,
          75.7,
          64.9,
          60.5,
          66.7,
          72.2,
          69.8,
          68.4,
          64.3,
          65.9,
          68.8,
          74.4,
          81.4,
          88.5,
          94.2,
          100,
          101.7,
          99.3,
          99.8,
          103.2,
          107,
          109.6,
          107.5,
          90.7
         ],
         "y0": " ",
         "yaxis": "y"
        }
       ],
       "layout": {
        "boxmode": "group",
        "legend": {
         "tracegroupgap": 0
        },
        "template": {
         "data": {
          "bar": [
           {
            "error_x": {
             "color": "#2a3f5f"
            },
            "error_y": {
             "color": "#2a3f5f"
            },
            "marker": {
             "line": {
              "color": "#E5ECF6",
              "width": 0.5
             },
             "pattern": {
              "fillmode": "overlay",
              "size": 10,
              "solidity": 0.2
             }
            },
            "type": "bar"
           }
          ],
          "barpolar": [
           {
            "marker": {
             "line": {
              "color": "#E5ECF6",
              "width": 0.5
             },
             "pattern": {
              "fillmode": "overlay",
              "size": 10,
              "solidity": 0.2
             }
            },
            "type": "barpolar"
           }
          ],
          "carpet": [
           {
            "aaxis": {
             "endlinecolor": "#2a3f5f",
             "gridcolor": "white",
             "linecolor": "white",
             "minorgridcolor": "white",
             "startlinecolor": "#2a3f5f"
            },
            "baxis": {
             "endlinecolor": "#2a3f5f",
             "gridcolor": "white",
             "linecolor": "white",
             "minorgridcolor": "white",
             "startlinecolor": "#2a3f5f"
            },
            "type": "carpet"
           }
          ],
          "choropleth": [
           {
            "colorbar": {
             "outlinewidth": 0,
             "ticks": ""
            },
            "type": "choropleth"
           }
          ],
          "contour": [
           {
            "colorbar": {
             "outlinewidth": 0,
             "ticks": ""
            },
            "colorscale": [
             [
              0,
              "#0d0887"
             ],
             [
              0.1111111111111111,
              "#46039f"
             ],
             [
              0.2222222222222222,
              "#7201a8"
             ],
             [
              0.3333333333333333,
              "#9c179e"
             ],
             [
              0.4444444444444444,
              "#bd3786"
             ],
             [
              0.5555555555555556,
              "#d8576b"
             ],
             [
              0.6666666666666666,
              "#ed7953"
             ],
             [
              0.7777777777777778,
              "#fb9f3a"
             ],
             [
              0.8888888888888888,
              "#fdca26"
             ],
             [
              1,
              "#f0f921"
             ]
            ],
            "type": "contour"
           }
          ],
          "contourcarpet": [
           {
            "colorbar": {
             "outlinewidth": 0,
             "ticks": ""
            },
            "type": "contourcarpet"
           }
          ],
          "heatmap": [
           {
            "colorbar": {
             "outlinewidth": 0,
             "ticks": ""
            },
            "colorscale": [
             [
              0,
              "#0d0887"
             ],
             [
              0.1111111111111111,
              "#46039f"
             ],
             [
              0.2222222222222222,
              "#7201a8"
             ],
             [
              0.3333333333333333,
              "#9c179e"
             ],
             [
              0.4444444444444444,
              "#bd3786"
             ],
             [
              0.5555555555555556,
              "#d8576b"
             ],
             [
              0.6666666666666666,
              "#ed7953"
             ],
             [
              0.7777777777777778,
              "#fb9f3a"
             ],
             [
              0.8888888888888888,
              "#fdca26"
             ],
             [
              1,
              "#f0f921"
             ]
            ],
            "type": "heatmap"
           }
          ],
          "heatmapgl": [
           {
            "colorbar": {
             "outlinewidth": 0,
             "ticks": ""
            },
            "colorscale": [
             [
              0,
              "#0d0887"
             ],
             [
              0.1111111111111111,
              "#46039f"
             ],
             [
              0.2222222222222222,
              "#7201a8"
             ],
             [
              0.3333333333333333,
              "#9c179e"
             ],
             [
              0.4444444444444444,
              "#bd3786"
             ],
             [
              0.5555555555555556,
              "#d8576b"
             ],
             [
              0.6666666666666666,
              "#ed7953"
             ],
             [
              0.7777777777777778,
              "#fb9f3a"
             ],
             [
              0.8888888888888888,
              "#fdca26"
             ],
             [
              1,
              "#f0f921"
             ]
            ],
            "type": "heatmapgl"
           }
          ],
          "histogram": [
           {
            "marker": {
             "pattern": {
              "fillmode": "overlay",
              "size": 10,
              "solidity": 0.2
             }
            },
            "type": "histogram"
           }
          ],
          "histogram2d": [
           {
            "colorbar": {
             "outlinewidth": 0,
             "ticks": ""
            },
            "colorscale": [
             [
              0,
              "#0d0887"
             ],
             [
              0.1111111111111111,
              "#46039f"
             ],
             [
              0.2222222222222222,
              "#7201a8"
             ],
             [
              0.3333333333333333,
              "#9c179e"
             ],
             [
              0.4444444444444444,
              "#bd3786"
             ],
             [
              0.5555555555555556,
              "#d8576b"
             ],
             [
              0.6666666666666666,
              "#ed7953"
             ],
             [
              0.7777777777777778,
              "#fb9f3a"
             ],
             [
              0.8888888888888888,
              "#fdca26"
             ],
             [
              1,
              "#f0f921"
             ]
            ],
            "type": "histogram2d"
           }
          ],
          "histogram2dcontour": [
           {
            "colorbar": {
             "outlinewidth": 0,
             "ticks": ""
            },
            "colorscale": [
             [
              0,
              "#0d0887"
             ],
             [
              0.1111111111111111,
              "#46039f"
             ],
             [
              0.2222222222222222,
              "#7201a8"
             ],
             [
              0.3333333333333333,
              "#9c179e"
             ],
             [
              0.4444444444444444,
              "#bd3786"
             ],
             [
              0.5555555555555556,
              "#d8576b"
             ],
             [
              0.6666666666666666,
              "#ed7953"
             ],
             [
              0.7777777777777778,
              "#fb9f3a"
             ],
             [
              0.8888888888888888,
              "#fdca26"
             ],
             [
              1,
              "#f0f921"
             ]
            ],
            "type": "histogram2dcontour"
           }
          ],
          "mesh3d": [
           {
            "colorbar": {
             "outlinewidth": 0,
             "ticks": ""
            },
            "type": "mesh3d"
           }
          ],
          "parcoords": [
           {
            "line": {
             "colorbar": {
              "outlinewidth": 0,
              "ticks": ""
             }
            },
            "type": "parcoords"
           }
          ],
          "pie": [
           {
            "automargin": true,
            "type": "pie"
           }
          ],
          "scatter": [
           {
            "fillpattern": {
             "fillmode": "overlay",
             "size": 10,
             "solidity": 0.2
            },
            "type": "scatter"
           }
          ],
          "scatter3d": [
           {
            "line": {
             "colorbar": {
              "outlinewidth": 0,
              "ticks": ""
             }
            },
            "marker": {
             "colorbar": {
              "outlinewidth": 0,
              "ticks": ""
             }
            },
            "type": "scatter3d"
           }
          ],
          "scattercarpet": [
           {
            "marker": {
             "colorbar": {
              "outlinewidth": 0,
              "ticks": ""
             }
            },
            "type": "scattercarpet"
           }
          ],
          "scattergeo": [
           {
            "marker": {
             "colorbar": {
              "outlinewidth": 0,
              "ticks": ""
             }
            },
            "type": "scattergeo"
           }
          ],
          "scattergl": [
           {
            "marker": {
             "colorbar": {
              "outlinewidth": 0,
              "ticks": ""
             }
            },
            "type": "scattergl"
           }
          ],
          "scattermapbox": [
           {
            "marker": {
             "colorbar": {
              "outlinewidth": 0,
              "ticks": ""
             }
            },
            "type": "scattermapbox"
           }
          ],
          "scatterpolar": [
           {
            "marker": {
             "colorbar": {
              "outlinewidth": 0,
              "ticks": ""
             }
            },
            "type": "scatterpolar"
           }
          ],
          "scatterpolargl": [
           {
            "marker": {
             "colorbar": {
              "outlinewidth": 0,
              "ticks": ""
             }
            },
            "type": "scatterpolargl"
           }
          ],
          "scatterternary": [
           {
            "marker": {
             "colorbar": {
              "outlinewidth": 0,
              "ticks": ""
             }
            },
            "type": "scatterternary"
           }
          ],
          "surface": [
           {
            "colorbar": {
             "outlinewidth": 0,
             "ticks": ""
            },
            "colorscale": [
             [
              0,
              "#0d0887"
             ],
             [
              0.1111111111111111,
              "#46039f"
             ],
             [
              0.2222222222222222,
              "#7201a8"
             ],
             [
              0.3333333333333333,
              "#9c179e"
             ],
             [
              0.4444444444444444,
              "#bd3786"
             ],
             [
              0.5555555555555556,
              "#d8576b"
             ],
             [
              0.6666666666666666,
              "#ed7953"
             ],
             [
              0.7777777777777778,
              "#fb9f3a"
             ],
             [
              0.8888888888888888,
              "#fdca26"
             ],
             [
              1,
              "#f0f921"
             ]
            ],
            "type": "surface"
           }
          ],
          "table": [
           {
            "cells": {
             "fill": {
              "color": "#EBF0F8"
             },
             "line": {
              "color": "white"
             }
            },
            "header": {
             "fill": {
              "color": "#C8D4E3"
             },
             "line": {
              "color": "white"
             }
            },
            "type": "table"
           }
          ]
         },
         "layout": {
          "annotationdefaults": {
           "arrowcolor": "#2a3f5f",
           "arrowhead": 0,
           "arrowwidth": 1
          },
          "autotypenumbers": "strict",
          "coloraxis": {
           "colorbar": {
            "outlinewidth": 0,
            "ticks": ""
           }
          },
          "colorscale": {
           "diverging": [
            [
             0,
             "#8e0152"
            ],
            [
             0.1,
             "#c51b7d"
            ],
            [
             0.2,
             "#de77ae"
            ],
            [
             0.3,
             "#f1b6da"
            ],
            [
             0.4,
             "#fde0ef"
            ],
            [
             0.5,
             "#f7f7f7"
            ],
            [
             0.6,
             "#e6f5d0"
            ],
            [
             0.7,
             "#b8e186"
            ],
            [
             0.8,
             "#7fbc41"
            ],
            [
             0.9,
             "#4d9221"
            ],
            [
             1,
             "#276419"
            ]
           ],
           "sequential": [
            [
             0,
             "#0d0887"
            ],
            [
             0.1111111111111111,
             "#46039f"
            ],
            [
             0.2222222222222222,
             "#7201a8"
            ],
            [
             0.3333333333333333,
             "#9c179e"
            ],
            [
             0.4444444444444444,
             "#bd3786"
            ],
            [
             0.5555555555555556,
             "#d8576b"
            ],
            [
             0.6666666666666666,
             "#ed7953"
            ],
            [
             0.7777777777777778,
             "#fb9f3a"
            ],
            [
             0.8888888888888888,
             "#fdca26"
            ],
            [
             1,
             "#f0f921"
            ]
           ],
           "sequentialminus": [
            [
             0,
             "#0d0887"
            ],
            [
             0.1111111111111111,
             "#46039f"
            ],
            [
             0.2222222222222222,
             "#7201a8"
            ],
            [
             0.3333333333333333,
             "#9c179e"
            ],
            [
             0.4444444444444444,
             "#bd3786"
            ],
            [
             0.5555555555555556,
             "#d8576b"
            ],
            [
             0.6666666666666666,
             "#ed7953"
            ],
            [
             0.7777777777777778,
             "#fb9f3a"
            ],
            [
             0.8888888888888888,
             "#fdca26"
            ],
            [
             1,
             "#f0f921"
            ]
           ]
          },
          "colorway": [
           "#636efa",
           "#EF553B",
           "#00cc96",
           "#ab63fa",
           "#FFA15A",
           "#19d3f3",
           "#FF6692",
           "#B6E880",
           "#FF97FF",
           "#FECB52"
          ],
          "font": {
           "color": "#2a3f5f"
          },
          "geo": {
           "bgcolor": "white",
           "lakecolor": "white",
           "landcolor": "#E5ECF6",
           "showlakes": true,
           "showland": true,
           "subunitcolor": "white"
          },
          "hoverlabel": {
           "align": "left"
          },
          "hovermode": "closest",
          "mapbox": {
           "style": "light"
          },
          "paper_bgcolor": "white",
          "plot_bgcolor": "#E5ECF6",
          "polar": {
           "angularaxis": {
            "gridcolor": "white",
            "linecolor": "white",
            "ticks": ""
           },
           "bgcolor": "#E5ECF6",
           "radialaxis": {
            "gridcolor": "white",
            "linecolor": "white",
            "ticks": ""
           }
          },
          "scene": {
           "xaxis": {
            "backgroundcolor": "#E5ECF6",
            "gridcolor": "white",
            "gridwidth": 2,
            "linecolor": "white",
            "showbackground": true,
            "ticks": "",
            "zerolinecolor": "white"
           },
           "yaxis": {
            "backgroundcolor": "#E5ECF6",
            "gridcolor": "white",
            "gridwidth": 2,
            "linecolor": "white",
            "showbackground": true,
            "ticks": "",
            "zerolinecolor": "white"
           },
           "zaxis": {
            "backgroundcolor": "#E5ECF6",
            "gridcolor": "white",
            "gridwidth": 2,
            "linecolor": "white",
            "showbackground": true,
            "ticks": "",
            "zerolinecolor": "white"
           }
          },
          "shapedefaults": {
           "line": {
            "color": "#2a3f5f"
           }
          },
          "ternary": {
           "aaxis": {
            "gridcolor": "white",
            "linecolor": "white",
            "ticks": ""
           },
           "baxis": {
            "gridcolor": "white",
            "linecolor": "white",
            "ticks": ""
           },
           "bgcolor": "#E5ECF6",
           "caxis": {
            "gridcolor": "white",
            "linecolor": "white",
            "ticks": ""
           }
          },
          "title": {
           "x": 0.05
          },
          "xaxis": {
           "automargin": true,
           "gridcolor": "white",
           "linecolor": "white",
           "ticks": "",
           "title": {
            "standoff": 15
           },
           "zerolinecolor": "white",
           "zerolinewidth": 2
          },
          "yaxis": {
           "automargin": true,
           "gridcolor": "white",
           "linecolor": "white",
           "ticks": "",
           "title": {
            "standoff": 15
           },
           "zerolinecolor": "white",
           "zerolinewidth": 2
          }
         }
        },
        "title": {
         "text": "Box Plot for Index of Index of Employment in Building and Construction (1975 to 2022)"
        },
        "xaxis": {
         "anchor": "y",
         "domain": [
          0,
          1
         ]
        },
        "yaxis": {
         "anchor": "x",
         "domain": [
          0,
          1
         ],
         "title": {
          "text": "VALUE"
         }
        }
       }
      },
      "text/html": [
       "<div>                            <div id=\"801fbf23-1c67-41cc-bc89-3cff4bc3bb08\" class=\"plotly-graph-div\" style=\"height:525px; width:100%;\"></div>            <script type=\"text/javascript\">                require([\"plotly\"], function(Plotly) {                    window.PLOTLYENV=window.PLOTLYENV || {};                                    if (document.getElementById(\"801fbf23-1c67-41cc-bc89-3cff4bc3bb08\")) {                    Plotly.newPlot(                        \"801fbf23-1c67-41cc-bc89-3cff4bc3bb08\",                        [{\"alignmentgroup\":\"True\",\"hovertemplate\":\"VALUE=%{y}<extra></extra>\",\"legendgroup\":\"\",\"marker\":{\"color\":\"#636efa\"},\"name\":\"\",\"notched\":false,\"offsetgroup\":\"\",\"orientation\":\"v\",\"showlegend\":false,\"x0\":\" \",\"xaxis\":\"x\",\"y\":[133.2,128.1,134.8,147.0,158.8,156.1,152.9,135.6,110.7,101.1,87.1,75.7,64.9,60.5,66.7,72.2,69.8,68.4,64.3,65.9,68.8,74.4,81.4,88.5,94.2,100.0,101.7,99.3,99.8,103.2,107.0,109.6,107.5,90.7],\"y0\":\" \",\"yaxis\":\"y\",\"type\":\"box\"}],                        {\"template\":{\"data\":{\"histogram2dcontour\":[{\"type\":\"histogram2dcontour\",\"colorbar\":{\"outlinewidth\":0,\"ticks\":\"\"},\"colorscale\":[[0.0,\"#0d0887\"],[0.1111111111111111,\"#46039f\"],[0.2222222222222222,\"#7201a8\"],[0.3333333333333333,\"#9c179e\"],[0.4444444444444444,\"#bd3786\"],[0.5555555555555556,\"#d8576b\"],[0.6666666666666666,\"#ed7953\"],[0.7777777777777778,\"#fb9f3a\"],[0.8888888888888888,\"#fdca26\"],[1.0,\"#f0f921\"]]}],\"choropleth\":[{\"type\":\"choropleth\",\"colorbar\":{\"outlinewidth\":0,\"ticks\":\"\"}}],\"histogram2d\":[{\"type\":\"histogram2d\",\"colorbar\":{\"outlinewidth\":0,\"ticks\":\"\"},\"colorscale\":[[0.0,\"#0d0887\"],[0.1111111111111111,\"#46039f\"],[0.2222222222222222,\"#7201a8\"],[0.3333333333333333,\"#9c179e\"],[0.4444444444444444,\"#bd3786\"],[0.5555555555555556,\"#d8576b\"],[0.6666666666666666,\"#ed7953\"],[0.7777777777777778,\"#fb9f3a\"],[0.8888888888888888,\"#fdca26\"],[1.0,\"#f0f921\"]]}],\"heatmap\":[{\"type\":\"heatmap\",\"colorbar\":{\"outlinewidth\":0,\"ticks\":\"\"},\"colorscale\":[[0.0,\"#0d0887\"],[0.1111111111111111,\"#46039f\"],[0.2222222222222222,\"#7201a8\"],[0.3333333333333333,\"#9c179e\"],[0.4444444444444444,\"#bd3786\"],[0.5555555555555556,\"#d8576b\"],[0.6666666666666666,\"#ed7953\"],[0.7777777777777778,\"#fb9f3a\"],[0.8888888888888888,\"#fdca26\"],[1.0,\"#f0f921\"]]}],\"heatmapgl\":[{\"type\":\"heatmapgl\",\"colorbar\":{\"outlinewidth\":0,\"ticks\":\"\"},\"colorscale\":[[0.0,\"#0d0887\"],[0.1111111111111111,\"#46039f\"],[0.2222222222222222,\"#7201a8\"],[0.3333333333333333,\"#9c179e\"],[0.4444444444444444,\"#bd3786\"],[0.5555555555555556,\"#d8576b\"],[0.6666666666666666,\"#ed7953\"],[0.7777777777777778,\"#fb9f3a\"],[0.8888888888888888,\"#fdca26\"],[1.0,\"#f0f921\"]]}],\"contourcarpet\":[{\"type\":\"contourcarpet\",\"colorbar\":{\"outlinewidth\":0,\"ticks\":\"\"}}],\"contour\":[{\"type\":\"contour\",\"colorbar\":{\"outlinewidth\":0,\"ticks\":\"\"},\"colorscale\":[[0.0,\"#0d0887\"],[0.1111111111111111,\"#46039f\"],[0.2222222222222222,\"#7201a8\"],[0.3333333333333333,\"#9c179e\"],[0.4444444444444444,\"#bd3786\"],[0.5555555555555556,\"#d8576b\"],[0.6666666666666666,\"#ed7953\"],[0.7777777777777778,\"#fb9f3a\"],[0.8888888888888888,\"#fdca26\"],[1.0,\"#f0f921\"]]}],\"surface\":[{\"type\":\"surface\",\"colorbar\":{\"outlinewidth\":0,\"ticks\":\"\"},\"colorscale\":[[0.0,\"#0d0887\"],[0.1111111111111111,\"#46039f\"],[0.2222222222222222,\"#7201a8\"],[0.3333333333333333,\"#9c179e\"],[0.4444444444444444,\"#bd3786\"],[0.5555555555555556,\"#d8576b\"],[0.6666666666666666,\"#ed7953\"],[0.7777777777777778,\"#fb9f3a\"],[0.8888888888888888,\"#fdca26\"],[1.0,\"#f0f921\"]]}],\"mesh3d\":[{\"type\":\"mesh3d\",\"colorbar\":{\"outlinewidth\":0,\"ticks\":\"\"}}],\"scatter\":[{\"fillpattern\":{\"fillmode\":\"overlay\",\"size\":10,\"solidity\":0.2},\"type\":\"scatter\"}],\"parcoords\":[{\"type\":\"parcoords\",\"line\":{\"colorbar\":{\"outlinewidth\":0,\"ticks\":\"\"}}}],\"scatterpolargl\":[{\"type\":\"scatterpolargl\",\"marker\":{\"colorbar\":{\"outlinewidth\":0,\"ticks\":\"\"}}}],\"bar\":[{\"error_x\":{\"color\":\"#2a3f5f\"},\"error_y\":{\"color\":\"#2a3f5f\"},\"marker\":{\"line\":{\"color\":\"#E5ECF6\",\"width\":0.5},\"pattern\":{\"fillmode\":\"overlay\",\"size\":10,\"solidity\":0.2}},\"type\":\"bar\"}],\"scattergeo\":[{\"type\":\"scattergeo\",\"marker\":{\"colorbar\":{\"outlinewidth\":0,\"ticks\":\"\"}}}],\"scatterpolar\":[{\"type\":\"scatterpolar\",\"marker\":{\"colorbar\":{\"outlinewidth\":0,\"ticks\":\"\"}}}],\"histogram\":[{\"marker\":{\"pattern\":{\"fillmode\":\"overlay\",\"size\":10,\"solidity\":0.2}},\"type\":\"histogram\"}],\"scattergl\":[{\"type\":\"scattergl\",\"marker\":{\"colorbar\":{\"outlinewidth\":0,\"ticks\":\"\"}}}],\"scatter3d\":[{\"type\":\"scatter3d\",\"line\":{\"colorbar\":{\"outlinewidth\":0,\"ticks\":\"\"}},\"marker\":{\"colorbar\":{\"outlinewidth\":0,\"ticks\":\"\"}}}],\"scattermapbox\":[{\"type\":\"scattermapbox\",\"marker\":{\"colorbar\":{\"outlinewidth\":0,\"ticks\":\"\"}}}],\"scatterternary\":[{\"type\":\"scatterternary\",\"marker\":{\"colorbar\":{\"outlinewidth\":0,\"ticks\":\"\"}}}],\"scattercarpet\":[{\"type\":\"scattercarpet\",\"marker\":{\"colorbar\":{\"outlinewidth\":0,\"ticks\":\"\"}}}],\"carpet\":[{\"aaxis\":{\"endlinecolor\":\"#2a3f5f\",\"gridcolor\":\"white\",\"linecolor\":\"white\",\"minorgridcolor\":\"white\",\"startlinecolor\":\"#2a3f5f\"},\"baxis\":{\"endlinecolor\":\"#2a3f5f\",\"gridcolor\":\"white\",\"linecolor\":\"white\",\"minorgridcolor\":\"white\",\"startlinecolor\":\"#2a3f5f\"},\"type\":\"carpet\"}],\"table\":[{\"cells\":{\"fill\":{\"color\":\"#EBF0F8\"},\"line\":{\"color\":\"white\"}},\"header\":{\"fill\":{\"color\":\"#C8D4E3\"},\"line\":{\"color\":\"white\"}},\"type\":\"table\"}],\"barpolar\":[{\"marker\":{\"line\":{\"color\":\"#E5ECF6\",\"width\":0.5},\"pattern\":{\"fillmode\":\"overlay\",\"size\":10,\"solidity\":0.2}},\"type\":\"barpolar\"}],\"pie\":[{\"automargin\":true,\"type\":\"pie\"}]},\"layout\":{\"autotypenumbers\":\"strict\",\"colorway\":[\"#636efa\",\"#EF553B\",\"#00cc96\",\"#ab63fa\",\"#FFA15A\",\"#19d3f3\",\"#FF6692\",\"#B6E880\",\"#FF97FF\",\"#FECB52\"],\"font\":{\"color\":\"#2a3f5f\"},\"hovermode\":\"closest\",\"hoverlabel\":{\"align\":\"left\"},\"paper_bgcolor\":\"white\",\"plot_bgcolor\":\"#E5ECF6\",\"polar\":{\"bgcolor\":\"#E5ECF6\",\"angularaxis\":{\"gridcolor\":\"white\",\"linecolor\":\"white\",\"ticks\":\"\"},\"radialaxis\":{\"gridcolor\":\"white\",\"linecolor\":\"white\",\"ticks\":\"\"}},\"ternary\":{\"bgcolor\":\"#E5ECF6\",\"aaxis\":{\"gridcolor\":\"white\",\"linecolor\":\"white\",\"ticks\":\"\"},\"baxis\":{\"gridcolor\":\"white\",\"linecolor\":\"white\",\"ticks\":\"\"},\"caxis\":{\"gridcolor\":\"white\",\"linecolor\":\"white\",\"ticks\":\"\"}},\"coloraxis\":{\"colorbar\":{\"outlinewidth\":0,\"ticks\":\"\"}},\"colorscale\":{\"sequential\":[[0.0,\"#0d0887\"],[0.1111111111111111,\"#46039f\"],[0.2222222222222222,\"#7201a8\"],[0.3333333333333333,\"#9c179e\"],[0.4444444444444444,\"#bd3786\"],[0.5555555555555556,\"#d8576b\"],[0.6666666666666666,\"#ed7953\"],[0.7777777777777778,\"#fb9f3a\"],[0.8888888888888888,\"#fdca26\"],[1.0,\"#f0f921\"]],\"sequentialminus\":[[0.0,\"#0d0887\"],[0.1111111111111111,\"#46039f\"],[0.2222222222222222,\"#7201a8\"],[0.3333333333333333,\"#9c179e\"],[0.4444444444444444,\"#bd3786\"],[0.5555555555555556,\"#d8576b\"],[0.6666666666666666,\"#ed7953\"],[0.7777777777777778,\"#fb9f3a\"],[0.8888888888888888,\"#fdca26\"],[1.0,\"#f0f921\"]],\"diverging\":[[0,\"#8e0152\"],[0.1,\"#c51b7d\"],[0.2,\"#de77ae\"],[0.3,\"#f1b6da\"],[0.4,\"#fde0ef\"],[0.5,\"#f7f7f7\"],[0.6,\"#e6f5d0\"],[0.7,\"#b8e186\"],[0.8,\"#7fbc41\"],[0.9,\"#4d9221\"],[1,\"#276419\"]]},\"xaxis\":{\"gridcolor\":\"white\",\"linecolor\":\"white\",\"ticks\":\"\",\"title\":{\"standoff\":15},\"zerolinecolor\":\"white\",\"automargin\":true,\"zerolinewidth\":2},\"yaxis\":{\"gridcolor\":\"white\",\"linecolor\":\"white\",\"ticks\":\"\",\"title\":{\"standoff\":15},\"zerolinecolor\":\"white\",\"automargin\":true,\"zerolinewidth\":2},\"scene\":{\"xaxis\":{\"backgroundcolor\":\"#E5ECF6\",\"gridcolor\":\"white\",\"linecolor\":\"white\",\"showbackground\":true,\"ticks\":\"\",\"zerolinecolor\":\"white\",\"gridwidth\":2},\"yaxis\":{\"backgroundcolor\":\"#E5ECF6\",\"gridcolor\":\"white\",\"linecolor\":\"white\",\"showbackground\":true,\"ticks\":\"\",\"zerolinecolor\":\"white\",\"gridwidth\":2},\"zaxis\":{\"backgroundcolor\":\"#E5ECF6\",\"gridcolor\":\"white\",\"linecolor\":\"white\",\"showbackground\":true,\"ticks\":\"\",\"zerolinecolor\":\"white\",\"gridwidth\":2}},\"shapedefaults\":{\"line\":{\"color\":\"#2a3f5f\"}},\"annotationdefaults\":{\"arrowcolor\":\"#2a3f5f\",\"arrowhead\":0,\"arrowwidth\":1},\"geo\":{\"bgcolor\":\"white\",\"landcolor\":\"#E5ECF6\",\"subunitcolor\":\"white\",\"showland\":true,\"showlakes\":true,\"lakecolor\":\"white\"},\"title\":{\"x\":0.05},\"mapbox\":{\"style\":\"light\"}}},\"xaxis\":{\"anchor\":\"y\",\"domain\":[0.0,1.0]},\"yaxis\":{\"anchor\":\"x\",\"domain\":[0.0,1.0],\"title\":{\"text\":\"VALUE\"}},\"legend\":{\"tracegroupgap\":0},\"title\":{\"text\":\"Box Plot for Index of Index of Employment in Building and Construction (1975 to 2022)\"},\"boxmode\":\"group\"},                        {\"responsive\": true}                    ).then(function(){\n",
       "                            \n",
       "var gd = document.getElementById('801fbf23-1c67-41cc-bc89-3cff4bc3bb08');\n",
       "var x = new MutationObserver(function (mutations, observer) {{\n",
       "        var display = window.getComputedStyle(gd).display;\n",
       "        if (!display || display === 'none') {{\n",
       "            console.log([gd, 'removed!']);\n",
       "            Plotly.purge(gd);\n",
       "            observer.disconnect();\n",
       "        }}\n",
       "}});\n",
       "\n",
       "// Listen for the removal of the full notebook cells\n",
       "var notebookContainer = gd.closest('#notebook-container');\n",
       "if (notebookContainer) {{\n",
       "    x.observe(notebookContainer, {childList: true});\n",
       "}}\n",
       "\n",
       "// Listen for the clearing of the current output cell\n",
       "var outputEl = gd.closest('.output');\n",
       "if (outputEl) {{\n",
       "    x.observe(outputEl, {childList: true});\n",
       "}}\n",
       "\n",
       "                        })                };                });            </script>        </div>"
      ]
     },
     "metadata": {},
     "output_type": "display_data"
    }
   ],
   "source": [
    "# box plot for index of employment in Ireland (1975 to )\n",
    "px.box(index_employ, y=\"VALUE\", title=\"Box Plot for Index of Index of Employment in Building and Construction (1975 to 2022)\")\n"
   ]
  },
  {
   "cell_type": "code",
   "execution_count": null,
   "id": "089d758b",
   "metadata": {},
   "outputs": [],
   "source": []
  },
  {
   "cell_type": "markdown",
   "id": "79c66226",
   "metadata": {},
   "source": [
    "## Persons Engaged in Building and Construction Industry\n",
    "\n",
    "Using a json file to import data from CSO regarding persons engaged in building and construction industry.\n",
    "\n",
    "First attempt to read in the file did not work as expected. So I used a function to get the data from a URL provided in the CSO database. "
   ]
  },
  {
   "cell_type": "code",
   "execution_count": 90,
   "id": "e67d064f",
   "metadata": {},
   "outputs": [],
   "source": [
    "\n",
    "#import json\n",
    "\n",
    "#with open('\"https://ws.cso.ie/public/api.restful/PxStat.Data.Cube_API.ReadDataset/BAA08/JSON-stat/1.0/en\".json') as f:\n",
    "  #  persons_engaged = json.load(f)\n",
    "\n",
    "#persons_engaged = pd.DataFrame(persons_engaged)"
   ]
  },
  {
   "cell_type": "code",
   "execution_count": 91,
   "id": "60e091fe",
   "metadata": {},
   "outputs": [
    {
     "name": "stdout",
     "output_type": "stream",
     "text": [
      "                                                     dataset\n",
      "dimension  {'STATISTIC': {'label': 'Statistic', 'category...\n",
      "label      Persons Engaged in Building and Construction I...\n",
      "source                    Central Statistics Office, Ireland\n",
      "updated                                 2020-05-15T11:00:00Z\n",
      "value      [89117.0, 97484.0, 92715.0, 1952.0, 2135.0, 24...\n"
     ]
    }
   ],
   "source": [
    "import requests\n",
    "import json\n",
    "import pandas as pd\n",
    "\n",
    "# Send an HTTP GET request to the URL\n",
    "url = 'https://ws.cso.ie/public/api.restful/PxStat.Data.Cube_API.ReadDataset/BAA08/JSON-stat/1.0/en'\n",
    "response = requests.get(url)\n",
    "\n",
    "# Check if the request was successful\n",
    "if response.status_code == 200:\n",
    "    # Load the JSON data from the response\n",
    "    persons_engaged = json.loads(response.text)\n",
    "    \n",
    "    # Perform any necessary data processing\n",
    "    # For example, convert the JSON data to a Pandas DataFrame\n",
    "    persons_engaged = pd.DataFrame(persons_engaged)\n",
    "    \n",
    "    # Perform EDA and visualization plots with the data\n",
    "    # ...\n",
    "\n",
    "    # Example: View the first few rows of the DataFrame\n",
    "    print(persons_engaged.head())\n",
    "else:\n",
    "    # Handle the case where the request was not successful\n",
    "    print('Request failed with status code:', response.status_code)\n"
   ]
  },
  {
   "cell_type": "code",
   "execution_count": 110,
   "id": "ce042f3f",
   "metadata": {},
   "outputs": [
    {
     "data": {
      "text/html": [
       "<div>\n",
       "<style scoped>\n",
       "    .dataframe tbody tr th:only-of-type {\n",
       "        vertical-align: middle;\n",
       "    }\n",
       "\n",
       "    .dataframe tbody tr th {\n",
       "        vertical-align: top;\n",
       "    }\n",
       "\n",
       "    .dataframe thead th {\n",
       "        text-align: right;\n",
       "    }\n",
       "</style>\n",
       "<table border=\"1\" class=\"dataframe\">\n",
       "  <thead>\n",
       "    <tr style=\"text-align: right;\">\n",
       "      <th></th>\n",
       "      <th>dataset</th>\n",
       "    </tr>\n",
       "  </thead>\n",
       "  <tbody>\n",
       "    <tr>\n",
       "      <th>dimension</th>\n",
       "      <td>{'STATISTIC': {'label': 'Statistic', 'category...</td>\n",
       "    </tr>\n",
       "    <tr>\n",
       "      <th>label</th>\n",
       "      <td>Persons Engaged in Building and Construction I...</td>\n",
       "    </tr>\n",
       "    <tr>\n",
       "      <th>source</th>\n",
       "      <td>Central Statistics Office, Ireland</td>\n",
       "    </tr>\n",
       "    <tr>\n",
       "      <th>updated</th>\n",
       "      <td>2020-05-15T11:00:00Z</td>\n",
       "    </tr>\n",
       "    <tr>\n",
       "      <th>value</th>\n",
       "      <td>[89117.0, 97484.0, 92715.0, 1952.0, 2135.0, 24...</td>\n",
       "    </tr>\n",
       "  </tbody>\n",
       "</table>\n",
       "</div>"
      ],
      "text/plain": [
       "                                                     dataset\n",
       "dimension  {'STATISTIC': {'label': 'Statistic', 'category...\n",
       "label      Persons Engaged in Building and Construction I...\n",
       "source                    Central Statistics Office, Ireland\n",
       "updated                                 2020-05-15T11:00:00Z\n",
       "value      [89117.0, 97484.0, 92715.0, 1952.0, 2135.0, 24..."
      ]
     },
     "execution_count": 110,
     "metadata": {},
     "output_type": "execute_result"
    }
   ],
   "source": [
    "persons_engaged"
   ]
  },
  {
   "cell_type": "code",
   "execution_count": 92,
   "id": "b6e19723",
   "metadata": {},
   "outputs": [],
   "source": [
    "persons_df = pd.read_csv(\"Persons_Engaged_in_Building_and_Construction_Industry.csv\")"
   ]
  },
  {
   "cell_type": "code",
   "execution_count": 93,
   "id": "96f1c1e5",
   "metadata": {},
   "outputs": [
    {
     "name": "stdout",
     "output_type": "stream",
     "text": [
      "(252, 10)\n"
     ]
    },
    {
     "data": {
      "text/html": [
       "<div>\n",
       "<style scoped>\n",
       "    .dataframe tbody tr th:only-of-type {\n",
       "        vertical-align: middle;\n",
       "    }\n",
       "\n",
       "    .dataframe tbody tr th {\n",
       "        vertical-align: top;\n",
       "    }\n",
       "\n",
       "    .dataframe thead th {\n",
       "        text-align: right;\n",
       "    }\n",
       "</style>\n",
       "<table border=\"1\" class=\"dataframe\">\n",
       "  <thead>\n",
       "    <tr style=\"text-align: right;\">\n",
       "      <th></th>\n",
       "      <th>STATISTIC</th>\n",
       "      <th>Statistic Label</th>\n",
       "      <th>C01903V02345</th>\n",
       "      <th>Employee Grade</th>\n",
       "      <th>C02407V02905</th>\n",
       "      <th>Building Sector</th>\n",
       "      <th>TLIST(A1)</th>\n",
       "      <th>Year</th>\n",
       "      <th>UNIT</th>\n",
       "      <th>VALUE</th>\n",
       "    </tr>\n",
       "  </thead>\n",
       "  <tbody>\n",
       "    <tr>\n",
       "      <th>0</th>\n",
       "      <td>BAA08</td>\n",
       "      <td>Persons Engaged in Building and Construction I...</td>\n",
       "      <td>-</td>\n",
       "      <td>All grades</td>\n",
       "      <td>45</td>\n",
       "      <td>All construction (45)</td>\n",
       "      <td>2005</td>\n",
       "      <td>2005</td>\n",
       "      <td>Number</td>\n",
       "      <td>89117</td>\n",
       "    </tr>\n",
       "    <tr>\n",
       "      <th>1</th>\n",
       "      <td>BAA08</td>\n",
       "      <td>Persons Engaged in Building and Construction I...</td>\n",
       "      <td>-</td>\n",
       "      <td>All grades</td>\n",
       "      <td>45</td>\n",
       "      <td>All construction (45)</td>\n",
       "      <td>2006</td>\n",
       "      <td>2006</td>\n",
       "      <td>Number</td>\n",
       "      <td>97484</td>\n",
       "    </tr>\n",
       "    <tr>\n",
       "      <th>2</th>\n",
       "      <td>BAA08</td>\n",
       "      <td>Persons Engaged in Building and Construction I...</td>\n",
       "      <td>-</td>\n",
       "      <td>All grades</td>\n",
       "      <td>45</td>\n",
       "      <td>All construction (45)</td>\n",
       "      <td>2007</td>\n",
       "      <td>2007</td>\n",
       "      <td>Number</td>\n",
       "      <td>92715</td>\n",
       "    </tr>\n",
       "    <tr>\n",
       "      <th>3</th>\n",
       "      <td>BAA08</td>\n",
       "      <td>Persons Engaged in Building and Construction I...</td>\n",
       "      <td>-</td>\n",
       "      <td>All grades</td>\n",
       "      <td>451</td>\n",
       "      <td>Site preparation (451)</td>\n",
       "      <td>2005</td>\n",
       "      <td>2005</td>\n",
       "      <td>Number</td>\n",
       "      <td>1952</td>\n",
       "    </tr>\n",
       "    <tr>\n",
       "      <th>4</th>\n",
       "      <td>BAA08</td>\n",
       "      <td>Persons Engaged in Building and Construction I...</td>\n",
       "      <td>-</td>\n",
       "      <td>All grades</td>\n",
       "      <td>451</td>\n",
       "      <td>Site preparation (451)</td>\n",
       "      <td>2006</td>\n",
       "      <td>2006</td>\n",
       "      <td>Number</td>\n",
       "      <td>2135</td>\n",
       "    </tr>\n",
       "  </tbody>\n",
       "</table>\n",
       "</div>"
      ],
      "text/plain": [
       "  STATISTIC                                    Statistic Label C01903V02345  \\\n",
       "0     BAA08  Persons Engaged in Building and Construction I...            -   \n",
       "1     BAA08  Persons Engaged in Building and Construction I...            -   \n",
       "2     BAA08  Persons Engaged in Building and Construction I...            -   \n",
       "3     BAA08  Persons Engaged in Building and Construction I...            -   \n",
       "4     BAA08  Persons Engaged in Building and Construction I...            -   \n",
       "\n",
       "  Employee Grade  C02407V02905         Building Sector  TLIST(A1)  Year  \\\n",
       "0     All grades            45   All construction (45)       2005  2005   \n",
       "1     All grades            45   All construction (45)       2006  2006   \n",
       "2     All grades            45   All construction (45)       2007  2007   \n",
       "3     All grades           451  Site preparation (451)       2005  2005   \n",
       "4     All grades           451  Site preparation (451)       2006  2006   \n",
       "\n",
       "     UNIT  VALUE  \n",
       "0  Number  89117  \n",
       "1  Number  97484  \n",
       "2  Number  92715  \n",
       "3  Number   1952  \n",
       "4  Number   2135  "
      ]
     },
     "execution_count": 93,
     "metadata": {},
     "output_type": "execute_result"
    }
   ],
   "source": [
    "print(persons_df.shape)\n",
    "persons_df.head()\n",
    " "
   ]
  },
  {
   "cell_type": "code",
   "execution_count": 94,
   "id": "5a1a3b6e",
   "metadata": {},
   "outputs": [
    {
     "data": {
      "text/html": [
       "<div>\n",
       "<style scoped>\n",
       "    .dataframe tbody tr th:only-of-type {\n",
       "        vertical-align: middle;\n",
       "    }\n",
       "\n",
       "    .dataframe tbody tr th {\n",
       "        vertical-align: top;\n",
       "    }\n",
       "\n",
       "    .dataframe thead th {\n",
       "        text-align: right;\n",
       "    }\n",
       "</style>\n",
       "<table border=\"1\" class=\"dataframe\">\n",
       "  <thead>\n",
       "    <tr style=\"text-align: right;\">\n",
       "      <th></th>\n",
       "      <th>STATISTIC</th>\n",
       "      <th>Statistic Label</th>\n",
       "      <th>C01903V02345</th>\n",
       "      <th>Employee Grade</th>\n",
       "      <th>C02407V02905</th>\n",
       "      <th>Building Sector</th>\n",
       "      <th>TLIST(A1)</th>\n",
       "      <th>Year</th>\n",
       "      <th>UNIT</th>\n",
       "      <th>VALUE</th>\n",
       "    </tr>\n",
       "  </thead>\n",
       "  <tbody>\n",
       "    <tr>\n",
       "      <th>247</th>\n",
       "      <td>BAA08</td>\n",
       "      <td>Persons Engaged in Building and Construction I...</td>\n",
       "      <td>06</td>\n",
       "      <td>Persons working on a labour-only subcontract b...</td>\n",
       "      <td>454</td>\n",
       "      <td>Building completion (454)</td>\n",
       "      <td>2006</td>\n",
       "      <td>2006</td>\n",
       "      <td>Number</td>\n",
       "      <td>966</td>\n",
       "    </tr>\n",
       "    <tr>\n",
       "      <th>248</th>\n",
       "      <td>BAA08</td>\n",
       "      <td>Persons Engaged in Building and Construction I...</td>\n",
       "      <td>06</td>\n",
       "      <td>Persons working on a labour-only subcontract b...</td>\n",
       "      <td>454</td>\n",
       "      <td>Building completion (454)</td>\n",
       "      <td>2007</td>\n",
       "      <td>2007</td>\n",
       "      <td>Number</td>\n",
       "      <td>1210</td>\n",
       "    </tr>\n",
       "    <tr>\n",
       "      <th>249</th>\n",
       "      <td>BAA08</td>\n",
       "      <td>Persons Engaged in Building and Construction I...</td>\n",
       "      <td>06</td>\n",
       "      <td>Persons working on a labour-only subcontract b...</td>\n",
       "      <td>455</td>\n",
       "      <td>Renting of construction or demolition equipmen...</td>\n",
       "      <td>2005</td>\n",
       "      <td>2005</td>\n",
       "      <td>Number</td>\n",
       "      <td>30</td>\n",
       "    </tr>\n",
       "    <tr>\n",
       "      <th>250</th>\n",
       "      <td>BAA08</td>\n",
       "      <td>Persons Engaged in Building and Construction I...</td>\n",
       "      <td>06</td>\n",
       "      <td>Persons working on a labour-only subcontract b...</td>\n",
       "      <td>455</td>\n",
       "      <td>Renting of construction or demolition equipmen...</td>\n",
       "      <td>2006</td>\n",
       "      <td>2006</td>\n",
       "      <td>Number</td>\n",
       "      <td>33</td>\n",
       "    </tr>\n",
       "    <tr>\n",
       "      <th>251</th>\n",
       "      <td>BAA08</td>\n",
       "      <td>Persons Engaged in Building and Construction I...</td>\n",
       "      <td>06</td>\n",
       "      <td>Persons working on a labour-only subcontract b...</td>\n",
       "      <td>455</td>\n",
       "      <td>Renting of construction or demolition equipmen...</td>\n",
       "      <td>2007</td>\n",
       "      <td>2007</td>\n",
       "      <td>Number</td>\n",
       "      <td>38</td>\n",
       "    </tr>\n",
       "  </tbody>\n",
       "</table>\n",
       "</div>"
      ],
      "text/plain": [
       "    STATISTIC                                    Statistic Label C01903V02345  \\\n",
       "247     BAA08  Persons Engaged in Building and Construction I...           06   \n",
       "248     BAA08  Persons Engaged in Building and Construction I...           06   \n",
       "249     BAA08  Persons Engaged in Building and Construction I...           06   \n",
       "250     BAA08  Persons Engaged in Building and Construction I...           06   \n",
       "251     BAA08  Persons Engaged in Building and Construction I...           06   \n",
       "\n",
       "                                        Employee Grade  C02407V02905  \\\n",
       "247  Persons working on a labour-only subcontract b...           454   \n",
       "248  Persons working on a labour-only subcontract b...           454   \n",
       "249  Persons working on a labour-only subcontract b...           455   \n",
       "250  Persons working on a labour-only subcontract b...           455   \n",
       "251  Persons working on a labour-only subcontract b...           455   \n",
       "\n",
       "                                       Building Sector  TLIST(A1)  Year  \\\n",
       "247                          Building completion (454)       2006  2006   \n",
       "248                          Building completion (454)       2007  2007   \n",
       "249  Renting of construction or demolition equipmen...       2005  2005   \n",
       "250  Renting of construction or demolition equipmen...       2006  2006   \n",
       "251  Renting of construction or demolition equipmen...       2007  2007   \n",
       "\n",
       "       UNIT  VALUE  \n",
       "247  Number    966  \n",
       "248  Number   1210  \n",
       "249  Number     30  \n",
       "250  Number     33  \n",
       "251  Number     38  "
      ]
     },
     "execution_count": 94,
     "metadata": {},
     "output_type": "execute_result"
    }
   ],
   "source": [
    "persons_df.tail()"
   ]
  },
  {
   "cell_type": "code",
   "execution_count": 95,
   "id": "d20ca939",
   "metadata": {
    "scrolled": true
   },
   "outputs": [
    {
     "name": "stdout",
     "output_type": "stream",
     "text": [
      "<class 'pandas.core.frame.DataFrame'>\n",
      "RangeIndex: 252 entries, 0 to 251\n",
      "Data columns (total 10 columns):\n",
      " #   Column           Non-Null Count  Dtype \n",
      "---  ------           --------------  ----- \n",
      " 0   STATISTIC        252 non-null    object\n",
      " 1   Statistic Label  252 non-null    object\n",
      " 2   C01903V02345     252 non-null    object\n",
      " 3   Employee Grade   252 non-null    object\n",
      " 4   C02407V02905     252 non-null    int64 \n",
      " 5   Building Sector  252 non-null    object\n",
      " 6   TLIST(A1)        252 non-null    int64 \n",
      " 7   Year             252 non-null    int64 \n",
      " 8   UNIT             252 non-null    object\n",
      " 9   VALUE            252 non-null    int64 \n",
      "dtypes: int64(4), object(6)\n",
      "memory usage: 19.8+ KB\n"
     ]
    }
   ],
   "source": [
    "persons_df.info()"
   ]
  },
  {
   "cell_type": "code",
   "execution_count": 109,
   "id": "2f32b5a0",
   "metadata": {},
   "outputs": [
    {
     "name": "stdout",
     "output_type": "stream",
     "text": [
      "['All grades' 'All manual employee grades' 'Skilled operatives'\n",
      " 'Apprentices' 'Unskilled and semi-skilled - adults'\n",
      " 'Unskilled and semi-skilled - juveniles' 'All other employee grades'\n",
      " 'Managerial and technical employees' 'Clerical employees - female'\n",
      " 'Clerical employees - male' 'Foremen and supervisors'\n",
      " 'All employee grades (manual and other employee grades)'\n",
      " 'Proprietors and unpaid family workers'\n",
      " 'Persons working on a labour-only subcontract basis']\n"
     ]
    }
   ],
   "source": [
    "categories = persons_df[\"Employee Grade\"].unique()\n",
    "print(categories)"
   ]
  },
  {
   "cell_type": "code",
   "execution_count": 97,
   "id": "d69119dc",
   "metadata": {},
   "outputs": [
    {
     "data": {
      "text/plain": [
       "<seaborn.axisgrid.PairGrid at 0x149118730>"
      ]
     },
     "execution_count": 97,
     "metadata": {},
     "output_type": "execute_result"
    },
    {
     "data": {
      "image/png": "[encoded data removed]",
      "text/plain": [
       "<Figure size 1000x1000 with 20 Axes>"
      ]
     },
     "metadata": {},
     "output_type": "display_data"
    }
   ],
   "source": [
    "sns.pairplot(persons_df)"
   ]
  },
  {
   "cell_type": "code",
   "execution_count": null,
   "id": "d271bacf",
   "metadata": {},
   "outputs": [],
   "source": []
  },
  {
   "cell_type": "markdown",
   "id": "0fc6281d",
   "metadata": {},
   "source": [
    "# Employment rates by activity: Construction\n",
    "\n",
    "Comparing Employment by activity sector filtered in Construction Industry for EuroZone Values using OECD database. \n",
    "\n",
    "\"Employment by industry is broken down by agriculture, construction, industry including construction, manufacturing and services activities. This indicator is seasonally adjusted and it is measured in thousands of people.\" (OECD, 2023)"
   ]
  },
  {
   "cell_type": "code",
   "execution_count": 98,
   "id": "218288fe",
   "metadata": {},
   "outputs": [],
   "source": [
    "employment = pd.read_csv(\"OECD_employment_by_activity_selcetion.csv\", )"
   ]
  },
  {
   "cell_type": "code",
   "execution_count": 99,
   "id": "82e27198",
   "metadata": {},
   "outputs": [
    {
     "data": {
      "text/html": [
       "<div>\n",
       "<style scoped>\n",
       "    .dataframe tbody tr th:only-of-type {\n",
       "        vertical-align: middle;\n",
       "    }\n",
       "\n",
       "    .dataframe tbody tr th {\n",
       "        vertical-align: top;\n",
       "    }\n",
       "\n",
       "    .dataframe thead th {\n",
       "        text-align: right;\n",
       "    }\n",
       "</style>\n",
       "<table border=\"1\" class=\"dataframe\">\n",
       "  <thead>\n",
       "    <tr style=\"text-align: right;\">\n",
       "      <th></th>\n",
       "      <th>LOCATION</th>\n",
       "      <th>INDICATOR</th>\n",
       "      <th>SUBJECT</th>\n",
       "      <th>MEASURE</th>\n",
       "      <th>FREQUENCY</th>\n",
       "      <th>TIME</th>\n",
       "      <th>Value</th>\n",
       "      <th>Flag Codes</th>\n",
       "    </tr>\n",
       "  </thead>\n",
       "  <tbody>\n",
       "    <tr>\n",
       "      <th>0</th>\n",
       "      <td>AUS</td>\n",
       "      <td>EMPINDUS</td>\n",
       "      <td>CONSTR</td>\n",
       "      <td>THND_PER</td>\n",
       "      <td>A</td>\n",
       "      <td>2012</td>\n",
       "      <td>982.4848</td>\n",
       "      <td>NaN</td>\n",
       "    </tr>\n",
       "    <tr>\n",
       "      <th>1</th>\n",
       "      <td>AUS</td>\n",
       "      <td>EMPINDUS</td>\n",
       "      <td>CONSTR</td>\n",
       "      <td>THND_PER</td>\n",
       "      <td>A</td>\n",
       "      <td>2013</td>\n",
       "      <td>1007.8520</td>\n",
       "      <td>NaN</td>\n",
       "    </tr>\n",
       "    <tr>\n",
       "      <th>2</th>\n",
       "      <td>AUS</td>\n",
       "      <td>EMPINDUS</td>\n",
       "      <td>CONSTR</td>\n",
       "      <td>THND_PER</td>\n",
       "      <td>A</td>\n",
       "      <td>2014</td>\n",
       "      <td>1031.3040</td>\n",
       "      <td>NaN</td>\n",
       "    </tr>\n",
       "    <tr>\n",
       "      <th>3</th>\n",
       "      <td>AUS</td>\n",
       "      <td>EMPINDUS</td>\n",
       "      <td>CONSTR</td>\n",
       "      <td>THND_PER</td>\n",
       "      <td>A</td>\n",
       "      <td>2015</td>\n",
       "      <td>1029.0400</td>\n",
       "      <td>NaN</td>\n",
       "    </tr>\n",
       "    <tr>\n",
       "      <th>4</th>\n",
       "      <td>AUS</td>\n",
       "      <td>EMPINDUS</td>\n",
       "      <td>CONSTR</td>\n",
       "      <td>THND_PER</td>\n",
       "      <td>A</td>\n",
       "      <td>2016</td>\n",
       "      <td>1060.0910</td>\n",
       "      <td>NaN</td>\n",
       "    </tr>\n",
       "    <tr>\n",
       "      <th>...</th>\n",
       "      <td>...</td>\n",
       "      <td>...</td>\n",
       "      <td>...</td>\n",
       "      <td>...</td>\n",
       "      <td>...</td>\n",
       "      <td>...</td>\n",
       "      <td>...</td>\n",
       "      <td>...</td>\n",
       "    </tr>\n",
       "    <tr>\n",
       "      <th>476</th>\n",
       "      <td>CRI</td>\n",
       "      <td>EMPINDUS</td>\n",
       "      <td>CONSTR</td>\n",
       "      <td>THND_PER</td>\n",
       "      <td>A</td>\n",
       "      <td>2018</td>\n",
       "      <td>146.5352</td>\n",
       "      <td>NaN</td>\n",
       "    </tr>\n",
       "    <tr>\n",
       "      <th>477</th>\n",
       "      <td>CRI</td>\n",
       "      <td>EMPINDUS</td>\n",
       "      <td>CONSTR</td>\n",
       "      <td>THND_PER</td>\n",
       "      <td>A</td>\n",
       "      <td>2019</td>\n",
       "      <td>149.5847</td>\n",
       "      <td>NaN</td>\n",
       "    </tr>\n",
       "    <tr>\n",
       "      <th>478</th>\n",
       "      <td>CRI</td>\n",
       "      <td>EMPINDUS</td>\n",
       "      <td>CONSTR</td>\n",
       "      <td>THND_PER</td>\n",
       "      <td>A</td>\n",
       "      <td>2020</td>\n",
       "      <td>127.1860</td>\n",
       "      <td>NaN</td>\n",
       "    </tr>\n",
       "    <tr>\n",
       "      <th>479</th>\n",
       "      <td>CRI</td>\n",
       "      <td>EMPINDUS</td>\n",
       "      <td>CONSTR</td>\n",
       "      <td>THND_PER</td>\n",
       "      <td>A</td>\n",
       "      <td>2021</td>\n",
       "      <td>128.8290</td>\n",
       "      <td>NaN</td>\n",
       "    </tr>\n",
       "    <tr>\n",
       "      <th>480</th>\n",
       "      <td>CRI</td>\n",
       "      <td>EMPINDUS</td>\n",
       "      <td>CONSTR</td>\n",
       "      <td>THND_PER</td>\n",
       "      <td>A</td>\n",
       "      <td>2022</td>\n",
       "      <td>140.4693</td>\n",
       "      <td>NaN</td>\n",
       "    </tr>\n",
       "  </tbody>\n",
       "</table>\n",
       "<p>481 rows × 8 columns</p>\n",
       "</div>"
      ],
      "text/plain": [
       "    LOCATION INDICATOR SUBJECT   MEASURE FREQUENCY  TIME      Value Flag Codes\n",
       "0        AUS  EMPINDUS  CONSTR  THND_PER         A  2012   982.4848        NaN\n",
       "1        AUS  EMPINDUS  CONSTR  THND_PER         A  2013  1007.8520        NaN\n",
       "2        AUS  EMPINDUS  CONSTR  THND_PER         A  2014  1031.3040        NaN\n",
       "3        AUS  EMPINDUS  CONSTR  THND_PER         A  2015  1029.0400        NaN\n",
       "4        AUS  EMPINDUS  CONSTR  THND_PER         A  2016  1060.0910        NaN\n",
       "..       ...       ...     ...       ...       ...   ...        ...        ...\n",
       "476      CRI  EMPINDUS  CONSTR  THND_PER         A  2018   146.5352        NaN\n",
       "477      CRI  EMPINDUS  CONSTR  THND_PER         A  2019   149.5847        NaN\n",
       "478      CRI  EMPINDUS  CONSTR  THND_PER         A  2020   127.1860        NaN\n",
       "479      CRI  EMPINDUS  CONSTR  THND_PER         A  2021   128.8290        NaN\n",
       "480      CRI  EMPINDUS  CONSTR  THND_PER         A  2022   140.4693        NaN\n",
       "\n",
       "[481 rows x 8 columns]"
      ]
     },
     "execution_count": 99,
     "metadata": {},
     "output_type": "execute_result"
    }
   ],
   "source": [
    "employment"
   ]
  },
  {
   "cell_type": "code",
   "execution_count": 100,
   "id": "3ee4c1eb",
   "metadata": {},
   "outputs": [
    {
     "data": {
      "text/html": [
       "<div>\n",
       "<style scoped>\n",
       "    .dataframe tbody tr th:only-of-type {\n",
       "        vertical-align: middle;\n",
       "    }\n",
       "\n",
       "    .dataframe tbody tr th {\n",
       "        vertical-align: top;\n",
       "    }\n",
       "\n",
       "    .dataframe thead th {\n",
       "        text-align: right;\n",
       "    }\n",
       "</style>\n",
       "<table border=\"1\" class=\"dataframe\">\n",
       "  <thead>\n",
       "    <tr style=\"text-align: right;\">\n",
       "      <th></th>\n",
       "      <th>TIME</th>\n",
       "      <th>Value</th>\n",
       "    </tr>\n",
       "  </thead>\n",
       "  <tbody>\n",
       "    <tr>\n",
       "      <th>count</th>\n",
       "      <td>481.000000</td>\n",
       "      <td>481.000000</td>\n",
       "    </tr>\n",
       "    <tr>\n",
       "      <th>mean</th>\n",
       "      <td>2016.972973</td>\n",
       "      <td>3193.223247</td>\n",
       "    </tr>\n",
       "    <tr>\n",
       "      <th>std</th>\n",
       "      <td>3.155897</td>\n",
       "      <td>7604.062823</td>\n",
       "    </tr>\n",
       "    <tr>\n",
       "      <th>min</th>\n",
       "      <td>2012.000000</td>\n",
       "      <td>9.225000</td>\n",
       "    </tr>\n",
       "    <tr>\n",
       "      <th>25%</th>\n",
       "      <td>2014.000000</td>\n",
       "      <td>187.016700</td>\n",
       "    </tr>\n",
       "    <tr>\n",
       "      <th>50%</th>\n",
       "      <td>2017.000000</td>\n",
       "      <td>402.600000</td>\n",
       "    </tr>\n",
       "    <tr>\n",
       "      <th>75%</th>\n",
       "      <td>2020.000000</td>\n",
       "      <td>1864.525000</td>\n",
       "    </tr>\n",
       "    <tr>\n",
       "      <th>max</th>\n",
       "      <td>2022.000000</td>\n",
       "      <td>45861.790000</td>\n",
       "    </tr>\n",
       "  </tbody>\n",
       "</table>\n",
       "</div>"
      ],
      "text/plain": [
       "              TIME         Value\n",
       "count   481.000000    481.000000\n",
       "mean   2016.972973   3193.223247\n",
       "std       3.155897   7604.062823\n",
       "min    2012.000000      9.225000\n",
       "25%    2014.000000    187.016700\n",
       "50%    2017.000000    402.600000\n",
       "75%    2020.000000   1864.525000\n",
       "max    2022.000000  45861.790000"
      ]
     },
     "execution_count": 100,
     "metadata": {},
     "output_type": "execute_result"
    }
   ],
   "source": [
    "employment.describe()"
   ]
  },
  {
   "cell_type": "code",
   "execution_count": 101,
   "id": "b2e2dce5",
   "metadata": {},
   "outputs": [
    {
     "data": {
      "text/html": [
       "<div>\n",
       "<style scoped>\n",
       "    .dataframe tbody tr th:only-of-type {\n",
       "        vertical-align: middle;\n",
       "    }\n",
       "\n",
       "    .dataframe tbody tr th {\n",
       "        vertical-align: top;\n",
       "    }\n",
       "\n",
       "    .dataframe thead th {\n",
       "        text-align: right;\n",
       "    }\n",
       "</style>\n",
       "<table border=\"1\" class=\"dataframe\">\n",
       "  <thead>\n",
       "    <tr style=\"text-align: right;\">\n",
       "      <th></th>\n",
       "      <th>LOCATION</th>\n",
       "      <th>INDICATOR</th>\n",
       "      <th>SUBJECT</th>\n",
       "      <th>MEASURE</th>\n",
       "      <th>FREQUENCY</th>\n",
       "      <th>Flag Codes</th>\n",
       "    </tr>\n",
       "  </thead>\n",
       "  <tbody>\n",
       "    <tr>\n",
       "      <th>count</th>\n",
       "      <td>481</td>\n",
       "      <td>481</td>\n",
       "      <td>481</td>\n",
       "      <td>481</td>\n",
       "      <td>481</td>\n",
       "      <td>49</td>\n",
       "    </tr>\n",
       "    <tr>\n",
       "      <th>unique</th>\n",
       "      <td>44</td>\n",
       "      <td>1</td>\n",
       "      <td>1</td>\n",
       "      <td>1</td>\n",
       "      <td>1</td>\n",
       "      <td>2</td>\n",
       "    </tr>\n",
       "    <tr>\n",
       "      <th>top</th>\n",
       "      <td>AUS</td>\n",
       "      <td>EMPINDUS</td>\n",
       "      <td>CONSTR</td>\n",
       "      <td>THND_PER</td>\n",
       "      <td>A</td>\n",
       "      <td>B</td>\n",
       "    </tr>\n",
       "    <tr>\n",
       "      <th>freq</th>\n",
       "      <td>11</td>\n",
       "      <td>481</td>\n",
       "      <td>481</td>\n",
       "      <td>481</td>\n",
       "      <td>481</td>\n",
       "      <td>47</td>\n",
       "    </tr>\n",
       "  </tbody>\n",
       "</table>\n",
       "</div>"
      ],
      "text/plain": [
       "       LOCATION INDICATOR SUBJECT   MEASURE FREQUENCY Flag Codes\n",
       "count       481       481     481       481       481         49\n",
       "unique       44         1       1         1         1          2\n",
       "top         AUS  EMPINDUS  CONSTR  THND_PER         A          B\n",
       "freq         11       481     481       481       481         47"
      ]
     },
     "execution_count": 101,
     "metadata": {},
     "output_type": "execute_result"
    }
   ],
   "source": [
    "employment.describe(include=object)"
   ]
  },
  {
   "cell_type": "code",
   "execution_count": 102,
   "id": "d5c1e29f",
   "metadata": {},
   "outputs": [
    {
     "name": "stdout",
     "output_type": "stream",
     "text": [
      "<class 'pandas.core.frame.DataFrame'>\n",
      "RangeIndex: 481 entries, 0 to 480\n",
      "Data columns (total 8 columns):\n",
      " #   Column      Non-Null Count  Dtype  \n",
      "---  ------      --------------  -----  \n",
      " 0   LOCATION    481 non-null    object \n",
      " 1   INDICATOR   481 non-null    object \n",
      " 2   SUBJECT     481 non-null    object \n",
      " 3   MEASURE     481 non-null    object \n",
      " 4   FREQUENCY   481 non-null    object \n",
      " 5   TIME        481 non-null    int64  \n",
      " 6   Value       481 non-null    float64\n",
      " 7   Flag Codes  49 non-null     object \n",
      "dtypes: float64(1), int64(1), object(6)\n",
      "memory usage: 30.2+ KB\n"
     ]
    }
   ],
   "source": [
    "employment.info()"
   ]
  },
  {
   "cell_type": "code",
   "execution_count": 103,
   "id": "4141bd9b",
   "metadata": {},
   "outputs": [],
   "source": [
    "employment.drop([\"INDICATOR\",\"FREQUENCY\", \"Flag Codes\"], inplace=True, axis=1)"
   ]
  },
  {
   "cell_type": "code",
   "execution_count": 104,
   "id": "164d13cc",
   "metadata": {},
   "outputs": [],
   "source": [
    "employment.set_index(\"TIME\", inplace=True)"
   ]
  },
  {
   "cell_type": "code",
   "execution_count": 105,
   "id": "00db31d7",
   "metadata": {},
   "outputs": [],
   "source": [
    "# Group the DataFrame by year and create a new index for each category\n",
    "grouped = employment.groupby(level=0).apply(lambda x: x.set_index('LOCATION'))"
   ]
  },
  {
   "cell_type": "code",
   "execution_count": 106,
   "id": "ecf66811",
   "metadata": {},
   "outputs": [
    {
     "data": {
      "text/html": [
       "<div>\n",
       "<style scoped>\n",
       "    .dataframe tbody tr th:only-of-type {\n",
       "        vertical-align: middle;\n",
       "    }\n",
       "\n",
       "    .dataframe tbody tr th {\n",
       "        vertical-align: top;\n",
       "    }\n",
       "\n",
       "    .dataframe thead th {\n",
       "        text-align: right;\n",
       "    }\n",
       "</style>\n",
       "<table border=\"1\" class=\"dataframe\">\n",
       "  <thead>\n",
       "    <tr style=\"text-align: right;\">\n",
       "      <th></th>\n",
       "      <th></th>\n",
       "      <th>SUBJECT</th>\n",
       "      <th>MEASURE</th>\n",
       "      <th>Value</th>\n",
       "    </tr>\n",
       "    <tr>\n",
       "      <th>TIME</th>\n",
       "      <th>LOCATION</th>\n",
       "      <th></th>\n",
       "      <th></th>\n",
       "      <th></th>\n",
       "    </tr>\n",
       "  </thead>\n",
       "  <tbody>\n",
       "    <tr>\n",
       "      <th rowspan=\"5\" valign=\"top\">2012</th>\n",
       "      <th>AUS</th>\n",
       "      <td>CONSTR</td>\n",
       "      <td>THND_PER</td>\n",
       "      <td>982.4848</td>\n",
       "    </tr>\n",
       "    <tr>\n",
       "      <th>AUT</th>\n",
       "      <td>CONSTR</td>\n",
       "      <td>THND_PER</td>\n",
       "      <td>368.4250</td>\n",
       "    </tr>\n",
       "    <tr>\n",
       "      <th>BEL</th>\n",
       "      <td>CONSTR</td>\n",
       "      <td>THND_PER</td>\n",
       "      <td>324.8500</td>\n",
       "    </tr>\n",
       "    <tr>\n",
       "      <th>CAN</th>\n",
       "      <td>CONSTR</td>\n",
       "      <td>THND_PER</td>\n",
       "      <td>1332.2500</td>\n",
       "    </tr>\n",
       "    <tr>\n",
       "      <th>CZE</th>\n",
       "      <td>CONSTR</td>\n",
       "      <td>THND_PER</td>\n",
       "      <td>424.9250</td>\n",
       "    </tr>\n",
       "    <tr>\n",
       "      <th>...</th>\n",
       "      <th>...</th>\n",
       "      <td>...</td>\n",
       "      <td>...</td>\n",
       "      <td>...</td>\n",
       "    </tr>\n",
       "    <tr>\n",
       "      <th rowspan=\"5\" valign=\"top\">2022</th>\n",
       "      <th>MEX</th>\n",
       "      <td>CONSTR</td>\n",
       "      <td>THND_PER</td>\n",
       "      <td>4484.7590</td>\n",
       "    </tr>\n",
       "    <tr>\n",
       "      <th>LTU</th>\n",
       "      <td>CONSTR</td>\n",
       "      <td>THND_PER</td>\n",
       "      <td>111.1750</td>\n",
       "    </tr>\n",
       "    <tr>\n",
       "      <th>COL</th>\n",
       "      <td>CONSTR</td>\n",
       "      <td>THND_PER</td>\n",
       "      <td>1546.6540</td>\n",
       "    </tr>\n",
       "    <tr>\n",
       "      <th>EU27_2020</th>\n",
       "      <td>CONSTR</td>\n",
       "      <td>THND_PER</td>\n",
       "      <td>13622.8800</td>\n",
       "    </tr>\n",
       "    <tr>\n",
       "      <th>CRI</th>\n",
       "      <td>CONSTR</td>\n",
       "      <td>THND_PER</td>\n",
       "      <td>140.4693</td>\n",
       "    </tr>\n",
       "  </tbody>\n",
       "</table>\n",
       "<p>481 rows × 3 columns</p>\n",
       "</div>"
      ],
      "text/plain": [
       "               SUBJECT   MEASURE       Value\n",
       "TIME LOCATION                               \n",
       "2012 AUS        CONSTR  THND_PER    982.4848\n",
       "     AUT        CONSTR  THND_PER    368.4250\n",
       "     BEL        CONSTR  THND_PER    324.8500\n",
       "     CAN        CONSTR  THND_PER   1332.2500\n",
       "     CZE        CONSTR  THND_PER    424.9250\n",
       "...                ...       ...         ...\n",
       "2022 MEX        CONSTR  THND_PER   4484.7590\n",
       "     LTU        CONSTR  THND_PER    111.1750\n",
       "     COL        CONSTR  THND_PER   1546.6540\n",
       "     EU27_2020  CONSTR  THND_PER  13622.8800\n",
       "     CRI        CONSTR  THND_PER    140.4693\n",
       "\n",
       "[481 rows x 3 columns]"
      ]
     },
     "execution_count": 106,
     "metadata": {},
     "output_type": "execute_result"
    }
   ],
   "source": [
    "grouped"
   ]
  },
  {
   "cell_type": "code",
   "execution_count": 107,
   "id": "fd72e665",
   "metadata": {
    "scrolled": false
   },
   "outputs": [],
   "source": [
    "#pip install geoviews"
   ]
  },
  {
   "cell_type": "code",
   "execution_count": null,
   "id": "18efd234",
   "metadata": {},
   "outputs": [],
   "source": [
    "\n"
   ]
  },
  {
   "cell_type": "code",
   "execution_count": null,
   "id": "f27b0905",
   "metadata": {},
   "outputs": [],
   "source": []
  },
  {
   "cell_type": "code",
   "execution_count": null,
   "id": "216ee8ff",
   "metadata": {},
   "outputs": [],
   "source": []
  },
  {
   "cell_type": "code",
   "execution_count": null,
   "id": "fad4e5fd",
   "metadata": {},
   "outputs": [],
   "source": []
  },
  {
   "cell_type": "code",
   "execution_count": null,
   "id": "450d93cf",
   "metadata": {},
   "outputs": [],
   "source": []
  },
  {
   "cell_type": "code",
   "execution_count": null,
   "id": "e968b50a",
   "metadata": {},
   "outputs": [],
   "source": []
  },
  {
   "cell_type": "markdown",
   "id": "4b9cbd43",
   "metadata": {},
   "source": []
  },
  {
   "cell_type": "markdown",
   "id": "2fd27ee4",
   "metadata": {},
   "source": [
    "<a rel=\"license\" href=\"http://creativecommons.org/licenses/by/4.0/\"><img alt=\"Creative Commons License\" style=\"border-width:0\" src=\"https://i.creativecommons.org/l/by/4.0/88x31.png\" /></a><br />This work is licensed under a <a rel=\"license\" href=\"http://creativecommons.org/licenses/by/4.0/\">Creative Commons Attribution 4.0 International License</a>."
   ]
  },
  {
   "cell_type": "code",
   "execution_count": null,
   "id": "cf18a76b",
   "metadata": {},
   "outputs": [],
   "source": []
  }
 ],
 "metadata": {
  "kernelspec": {
   "display_name": "Python 3 (ipykernel)",
   "language": "python",
   "name": "python3"
  },
  "language_info": {
   "codemirror_mode": {
    "name": "ipython",
    "version": 3
   },
   "file_extension": ".py",
   "mimetype": "text/x-python",
   "name": "python",
   "nbconvert_exporter": "python",
   "pygments_lexer": "ipython3",
   "version": "3.10.9"
  }
 },
 "nbformat": 4,
 "nbformat_minor": 5
}
