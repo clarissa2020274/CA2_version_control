{
 "cells": [
  {
   "cell_type": "markdown",
   "id": "a9c456bd",
   "metadata": {},
   "source": [
    "## MSc Data Analytics Feb 2023 FT - CA2\n",
    "\n",
    "### An analysis of Employment rates in the Construction Sector in the Euro Zone\n",
    "\n",
    "This notebook is part of a report under the scenario of construction. Considering Ireland as a base point for the analysis, \n",
    "\n",
    "\n",
    "In this report, several echniques of data exploration, cleaning, preparation and visualisation were used to find the adequate statistical distribution patterns for applicaiton of Machine Learning models for predition of how the employmnet rate in the Construction sector can behave in the next 5 years. \n",
    "\n",
    "\n",
    "\n",
    "Author: Clarissa Cardoso\n",
    "\n",
    "Student ID:2020274"
   ]
  },
  {
   "cell_type": "markdown",
   "id": "1d792fe9",
   "metadata": {},
   "source": [
    "#### Importing required libraries for stating the project"
   ]
  },
  {
   "cell_type": "code",
   "execution_count": 1,
   "id": "8efb040f",
   "metadata": {},
   "outputs": [],
   "source": [
    "#importing libraries\n",
    "import warnings\n",
    "warnings.filterwarnings(\"ignore\")\n",
    "\n",
    "import pandas as pd #dataframes \n",
    "import numpy as np #linear algebra\n",
    "import seaborn as sns #visualization\n",
    "sns.set(color_codes=True)\n",
    "\n",
    "import scipy.stats as stats #statistical resources\n",
    "\n",
    "import matplotlib.pyplot as plt #visualisation \n",
    "%matplotlib inline \n",
    "import matplotlib.pyplot as plt\n",
    "import numpy as np\n",
    "from matplotlib import colors\n",
    "from matplotlib.ticker import PercentFormatter\n",
    "\n",
    "import panel as pn\n",
    "import param\n",
    "\n",
    "import plotly.express as px\n",
    "import plotly.graph_objects as go"
   ]
  },
  {
   "cell_type": "code",
   "execution_count": null,
   "id": "1717cf65",
   "metadata": {},
   "outputs": [],
   "source": []
  },
  {
   "cell_type": "markdown",
   "id": "10c57d0f",
   "metadata": {},
   "source": [
    "### Data Preparation and EDA"
   ]
  },
  {
   "cell_type": "markdown",
   "id": "68ca5f7a",
   "metadata": {},
   "source": [
    "### Importing csv files stored in the same directory \n",
    "\n",
    "Using the directory list, create a function to import datasets "
   ]
  },
  {
   "cell_type": "code",
   "execution_count": 2,
   "id": "a3e13965",
   "metadata": {},
   "outputs": [],
   "source": [
    "import os"
   ]
  },
  {
   "cell_type": "code",
   "execution_count": 5,
   "id": "3b1e9af1",
   "metadata": {
    "scrolled": true
   },
   "outputs": [
    {
     "data": {
      "text/plain": [
       "['.DS_Store',\n",
       " 'Investment_by_asset:Dwellings.csv',\n",
       " 'gdp(per_capita)_euro.csv',\n",
       " 'Employment_by_activity:Construction.csv']"
      ]
     },
     "execution_count": 5,
     "metadata": {},
     "output_type": "execute_result"
    }
   ],
   "source": [
    "# Listing all the files in the folder\n",
    "os.listdir(\"Data\") \n",
    "\n"
   ]
  },
  {
   "cell_type": "code",
   "execution_count": 6,
   "id": "58967934",
   "metadata": {},
   "outputs": [
    {
     "ename": "FileNotFoundError",
     "evalue": "[Errno 2] No such file or directory: 'Data.DS_Store'",
     "output_type": "error",
     "traceback": [
      "\u001b[0;31m---------------------------------------------------------------------------\u001b[0m",
      "\u001b[0;31mFileNotFoundError\u001b[0m                         Traceback (most recent call last)",
      "Cell \u001b[0;32mIn[6], line 4\u001b[0m\n\u001b[1;32m      2\u001b[0m dataframes \u001b[38;5;241m=\u001b[39m []\n\u001b[1;32m      3\u001b[0m \u001b[38;5;28;01mfor\u001b[39;00m file \u001b[38;5;129;01min\u001b[39;00m os\u001b[38;5;241m.\u001b[39mlistdir(\u001b[38;5;124m\"\u001b[39m\u001b[38;5;124mData/\u001b[39m\u001b[38;5;124m\"\u001b[39m):\n\u001b[0;32m----> 4\u001b[0m     dataframes\u001b[38;5;241m.\u001b[39mappend(\u001b[43mpd\u001b[49m\u001b[38;5;241;43m.\u001b[39;49m\u001b[43mread_csv\u001b[49m\u001b[43m(\u001b[49m\u001b[38;5;124;43m\"\u001b[39;49m\u001b[38;5;124;43mData\u001b[39;49m\u001b[38;5;124;43m\"\u001b[39;49m\u001b[43m \u001b[49m\u001b[38;5;241;43m+\u001b[39;49m\u001b[43mfile\u001b[49m\u001b[43m)\u001b[49m)\n",
      "File \u001b[0;32m~/anaconda3/lib/python3.10/site-packages/pandas/util/_decorators.py:211\u001b[0m, in \u001b[0;36mdeprecate_kwarg.<locals>._deprecate_kwarg.<locals>.wrapper\u001b[0;34m(*args, **kwargs)\u001b[0m\n\u001b[1;32m    209\u001b[0m     \u001b[38;5;28;01melse\u001b[39;00m:\n\u001b[1;32m    210\u001b[0m         kwargs[new_arg_name] \u001b[38;5;241m=\u001b[39m new_arg_value\n\u001b[0;32m--> 211\u001b[0m \u001b[38;5;28;01mreturn\u001b[39;00m \u001b[43mfunc\u001b[49m\u001b[43m(\u001b[49m\u001b[38;5;241;43m*\u001b[39;49m\u001b[43margs\u001b[49m\u001b[43m,\u001b[49m\u001b[43m \u001b[49m\u001b[38;5;241;43m*\u001b[39;49m\u001b[38;5;241;43m*\u001b[39;49m\u001b[43mkwargs\u001b[49m\u001b[43m)\u001b[49m\n",
      "File \u001b[0;32m~/anaconda3/lib/python3.10/site-packages/pandas/util/_decorators.py:331\u001b[0m, in \u001b[0;36mdeprecate_nonkeyword_arguments.<locals>.decorate.<locals>.wrapper\u001b[0;34m(*args, **kwargs)\u001b[0m\n\u001b[1;32m    325\u001b[0m \u001b[38;5;28;01mif\u001b[39;00m \u001b[38;5;28mlen\u001b[39m(args) \u001b[38;5;241m>\u001b[39m num_allow_args:\n\u001b[1;32m    326\u001b[0m     warnings\u001b[38;5;241m.\u001b[39mwarn(\n\u001b[1;32m    327\u001b[0m         msg\u001b[38;5;241m.\u001b[39mformat(arguments\u001b[38;5;241m=\u001b[39m_format_argument_list(allow_args)),\n\u001b[1;32m    328\u001b[0m         \u001b[38;5;167;01mFutureWarning\u001b[39;00m,\n\u001b[1;32m    329\u001b[0m         stacklevel\u001b[38;5;241m=\u001b[39mfind_stack_level(),\n\u001b[1;32m    330\u001b[0m     )\n\u001b[0;32m--> 331\u001b[0m \u001b[38;5;28;01mreturn\u001b[39;00m \u001b[43mfunc\u001b[49m\u001b[43m(\u001b[49m\u001b[38;5;241;43m*\u001b[39;49m\u001b[43margs\u001b[49m\u001b[43m,\u001b[49m\u001b[43m \u001b[49m\u001b[38;5;241;43m*\u001b[39;49m\u001b[38;5;241;43m*\u001b[39;49m\u001b[43mkwargs\u001b[49m\u001b[43m)\u001b[49m\n",
      "File \u001b[0;32m~/anaconda3/lib/python3.10/site-packages/pandas/io/parsers/readers.py:950\u001b[0m, in \u001b[0;36mread_csv\u001b[0;34m(filepath_or_buffer, sep, delimiter, header, names, index_col, usecols, squeeze, prefix, mangle_dupe_cols, dtype, engine, converters, true_values, false_values, skipinitialspace, skiprows, skipfooter, nrows, na_values, keep_default_na, na_filter, verbose, skip_blank_lines, parse_dates, infer_datetime_format, keep_date_col, date_parser, dayfirst, cache_dates, iterator, chunksize, compression, thousands, decimal, lineterminator, quotechar, quoting, doublequote, escapechar, comment, encoding, encoding_errors, dialect, error_bad_lines, warn_bad_lines, on_bad_lines, delim_whitespace, low_memory, memory_map, float_precision, storage_options)\u001b[0m\n\u001b[1;32m    935\u001b[0m kwds_defaults \u001b[38;5;241m=\u001b[39m _refine_defaults_read(\n\u001b[1;32m    936\u001b[0m     dialect,\n\u001b[1;32m    937\u001b[0m     delimiter,\n\u001b[0;32m   (...)\u001b[0m\n\u001b[1;32m    946\u001b[0m     defaults\u001b[38;5;241m=\u001b[39m{\u001b[38;5;124m\"\u001b[39m\u001b[38;5;124mdelimiter\u001b[39m\u001b[38;5;124m\"\u001b[39m: \u001b[38;5;124m\"\u001b[39m\u001b[38;5;124m,\u001b[39m\u001b[38;5;124m\"\u001b[39m},\n\u001b[1;32m    947\u001b[0m )\n\u001b[1;32m    948\u001b[0m kwds\u001b[38;5;241m.\u001b[39mupdate(kwds_defaults)\n\u001b[0;32m--> 950\u001b[0m \u001b[38;5;28;01mreturn\u001b[39;00m \u001b[43m_read\u001b[49m\u001b[43m(\u001b[49m\u001b[43mfilepath_or_buffer\u001b[49m\u001b[43m,\u001b[49m\u001b[43m \u001b[49m\u001b[43mkwds\u001b[49m\u001b[43m)\u001b[49m\n",
      "File \u001b[0;32m~/anaconda3/lib/python3.10/site-packages/pandas/io/parsers/readers.py:605\u001b[0m, in \u001b[0;36m_read\u001b[0;34m(filepath_or_buffer, kwds)\u001b[0m\n\u001b[1;32m    602\u001b[0m _validate_names(kwds\u001b[38;5;241m.\u001b[39mget(\u001b[38;5;124m\"\u001b[39m\u001b[38;5;124mnames\u001b[39m\u001b[38;5;124m\"\u001b[39m, \u001b[38;5;28;01mNone\u001b[39;00m))\n\u001b[1;32m    604\u001b[0m \u001b[38;5;66;03m# Create the parser.\u001b[39;00m\n\u001b[0;32m--> 605\u001b[0m parser \u001b[38;5;241m=\u001b[39m \u001b[43mTextFileReader\u001b[49m\u001b[43m(\u001b[49m\u001b[43mfilepath_or_buffer\u001b[49m\u001b[43m,\u001b[49m\u001b[43m \u001b[49m\u001b[38;5;241;43m*\u001b[39;49m\u001b[38;5;241;43m*\u001b[39;49m\u001b[43mkwds\u001b[49m\u001b[43m)\u001b[49m\n\u001b[1;32m    607\u001b[0m \u001b[38;5;28;01mif\u001b[39;00m chunksize \u001b[38;5;129;01mor\u001b[39;00m iterator:\n\u001b[1;32m    608\u001b[0m     \u001b[38;5;28;01mreturn\u001b[39;00m parser\n",
      "File \u001b[0;32m~/anaconda3/lib/python3.10/site-packages/pandas/io/parsers/readers.py:1442\u001b[0m, in \u001b[0;36mTextFileReader.__init__\u001b[0;34m(self, f, engine, **kwds)\u001b[0m\n\u001b[1;32m   1439\u001b[0m     \u001b[38;5;28mself\u001b[39m\u001b[38;5;241m.\u001b[39moptions[\u001b[38;5;124m\"\u001b[39m\u001b[38;5;124mhas_index_names\u001b[39m\u001b[38;5;124m\"\u001b[39m] \u001b[38;5;241m=\u001b[39m kwds[\u001b[38;5;124m\"\u001b[39m\u001b[38;5;124mhas_index_names\u001b[39m\u001b[38;5;124m\"\u001b[39m]\n\u001b[1;32m   1441\u001b[0m \u001b[38;5;28mself\u001b[39m\u001b[38;5;241m.\u001b[39mhandles: IOHandles \u001b[38;5;241m|\u001b[39m \u001b[38;5;28;01mNone\u001b[39;00m \u001b[38;5;241m=\u001b[39m \u001b[38;5;28;01mNone\u001b[39;00m\n\u001b[0;32m-> 1442\u001b[0m \u001b[38;5;28mself\u001b[39m\u001b[38;5;241m.\u001b[39m_engine \u001b[38;5;241m=\u001b[39m \u001b[38;5;28;43mself\u001b[39;49m\u001b[38;5;241;43m.\u001b[39;49m\u001b[43m_make_engine\u001b[49m\u001b[43m(\u001b[49m\u001b[43mf\u001b[49m\u001b[43m,\u001b[49m\u001b[43m \u001b[49m\u001b[38;5;28;43mself\u001b[39;49m\u001b[38;5;241;43m.\u001b[39;49m\u001b[43mengine\u001b[49m\u001b[43m)\u001b[49m\n",
      "File \u001b[0;32m~/anaconda3/lib/python3.10/site-packages/pandas/io/parsers/readers.py:1735\u001b[0m, in \u001b[0;36mTextFileReader._make_engine\u001b[0;34m(self, f, engine)\u001b[0m\n\u001b[1;32m   1733\u001b[0m     \u001b[38;5;28;01mif\u001b[39;00m \u001b[38;5;124m\"\u001b[39m\u001b[38;5;124mb\u001b[39m\u001b[38;5;124m\"\u001b[39m \u001b[38;5;129;01mnot\u001b[39;00m \u001b[38;5;129;01min\u001b[39;00m mode:\n\u001b[1;32m   1734\u001b[0m         mode \u001b[38;5;241m+\u001b[39m\u001b[38;5;241m=\u001b[39m \u001b[38;5;124m\"\u001b[39m\u001b[38;5;124mb\u001b[39m\u001b[38;5;124m\"\u001b[39m\n\u001b[0;32m-> 1735\u001b[0m \u001b[38;5;28mself\u001b[39m\u001b[38;5;241m.\u001b[39mhandles \u001b[38;5;241m=\u001b[39m \u001b[43mget_handle\u001b[49m\u001b[43m(\u001b[49m\n\u001b[1;32m   1736\u001b[0m \u001b[43m    \u001b[49m\u001b[43mf\u001b[49m\u001b[43m,\u001b[49m\n\u001b[1;32m   1737\u001b[0m \u001b[43m    \u001b[49m\u001b[43mmode\u001b[49m\u001b[43m,\u001b[49m\n\u001b[1;32m   1738\u001b[0m \u001b[43m    \u001b[49m\u001b[43mencoding\u001b[49m\u001b[38;5;241;43m=\u001b[39;49m\u001b[38;5;28;43mself\u001b[39;49m\u001b[38;5;241;43m.\u001b[39;49m\u001b[43moptions\u001b[49m\u001b[38;5;241;43m.\u001b[39;49m\u001b[43mget\u001b[49m\u001b[43m(\u001b[49m\u001b[38;5;124;43m\"\u001b[39;49m\u001b[38;5;124;43mencoding\u001b[39;49m\u001b[38;5;124;43m\"\u001b[39;49m\u001b[43m,\u001b[49m\u001b[43m \u001b[49m\u001b[38;5;28;43;01mNone\u001b[39;49;00m\u001b[43m)\u001b[49m\u001b[43m,\u001b[49m\n\u001b[1;32m   1739\u001b[0m \u001b[43m    \u001b[49m\u001b[43mcompression\u001b[49m\u001b[38;5;241;43m=\u001b[39;49m\u001b[38;5;28;43mself\u001b[39;49m\u001b[38;5;241;43m.\u001b[39;49m\u001b[43moptions\u001b[49m\u001b[38;5;241;43m.\u001b[39;49m\u001b[43mget\u001b[49m\u001b[43m(\u001b[49m\u001b[38;5;124;43m\"\u001b[39;49m\u001b[38;5;124;43mcompression\u001b[39;49m\u001b[38;5;124;43m\"\u001b[39;49m\u001b[43m,\u001b[49m\u001b[43m \u001b[49m\u001b[38;5;28;43;01mNone\u001b[39;49;00m\u001b[43m)\u001b[49m\u001b[43m,\u001b[49m\n\u001b[1;32m   1740\u001b[0m \u001b[43m    \u001b[49m\u001b[43mmemory_map\u001b[49m\u001b[38;5;241;43m=\u001b[39;49m\u001b[38;5;28;43mself\u001b[39;49m\u001b[38;5;241;43m.\u001b[39;49m\u001b[43moptions\u001b[49m\u001b[38;5;241;43m.\u001b[39;49m\u001b[43mget\u001b[49m\u001b[43m(\u001b[49m\u001b[38;5;124;43m\"\u001b[39;49m\u001b[38;5;124;43mmemory_map\u001b[39;49m\u001b[38;5;124;43m\"\u001b[39;49m\u001b[43m,\u001b[49m\u001b[43m \u001b[49m\u001b[38;5;28;43;01mFalse\u001b[39;49;00m\u001b[43m)\u001b[49m\u001b[43m,\u001b[49m\n\u001b[1;32m   1741\u001b[0m \u001b[43m    \u001b[49m\u001b[43mis_text\u001b[49m\u001b[38;5;241;43m=\u001b[39;49m\u001b[43mis_text\u001b[49m\u001b[43m,\u001b[49m\n\u001b[1;32m   1742\u001b[0m \u001b[43m    \u001b[49m\u001b[43merrors\u001b[49m\u001b[38;5;241;43m=\u001b[39;49m\u001b[38;5;28;43mself\u001b[39;49m\u001b[38;5;241;43m.\u001b[39;49m\u001b[43moptions\u001b[49m\u001b[38;5;241;43m.\u001b[39;49m\u001b[43mget\u001b[49m\u001b[43m(\u001b[49m\u001b[38;5;124;43m\"\u001b[39;49m\u001b[38;5;124;43mencoding_errors\u001b[39;49m\u001b[38;5;124;43m\"\u001b[39;49m\u001b[43m,\u001b[49m\u001b[43m \u001b[49m\u001b[38;5;124;43m\"\u001b[39;49m\u001b[38;5;124;43mstrict\u001b[39;49m\u001b[38;5;124;43m\"\u001b[39;49m\u001b[43m)\u001b[49m\u001b[43m,\u001b[49m\n\u001b[1;32m   1743\u001b[0m \u001b[43m    \u001b[49m\u001b[43mstorage_options\u001b[49m\u001b[38;5;241;43m=\u001b[39;49m\u001b[38;5;28;43mself\u001b[39;49m\u001b[38;5;241;43m.\u001b[39;49m\u001b[43moptions\u001b[49m\u001b[38;5;241;43m.\u001b[39;49m\u001b[43mget\u001b[49m\u001b[43m(\u001b[49m\u001b[38;5;124;43m\"\u001b[39;49m\u001b[38;5;124;43mstorage_options\u001b[39;49m\u001b[38;5;124;43m\"\u001b[39;49m\u001b[43m,\u001b[49m\u001b[43m \u001b[49m\u001b[38;5;28;43;01mNone\u001b[39;49;00m\u001b[43m)\u001b[49m\u001b[43m,\u001b[49m\n\u001b[1;32m   1744\u001b[0m \u001b[43m\u001b[49m\u001b[43m)\u001b[49m\n\u001b[1;32m   1745\u001b[0m \u001b[38;5;28;01massert\u001b[39;00m \u001b[38;5;28mself\u001b[39m\u001b[38;5;241m.\u001b[39mhandles \u001b[38;5;129;01mis\u001b[39;00m \u001b[38;5;129;01mnot\u001b[39;00m \u001b[38;5;28;01mNone\u001b[39;00m\n\u001b[1;32m   1746\u001b[0m f \u001b[38;5;241m=\u001b[39m \u001b[38;5;28mself\u001b[39m\u001b[38;5;241m.\u001b[39mhandles\u001b[38;5;241m.\u001b[39mhandle\n",
      "File \u001b[0;32m~/anaconda3/lib/python3.10/site-packages/pandas/io/common.py:856\u001b[0m, in \u001b[0;36mget_handle\u001b[0;34m(path_or_buf, mode, encoding, compression, memory_map, is_text, errors, storage_options)\u001b[0m\n\u001b[1;32m    851\u001b[0m \u001b[38;5;28;01melif\u001b[39;00m \u001b[38;5;28misinstance\u001b[39m(handle, \u001b[38;5;28mstr\u001b[39m):\n\u001b[1;32m    852\u001b[0m     \u001b[38;5;66;03m# Check whether the filename is to be opened in binary mode.\u001b[39;00m\n\u001b[1;32m    853\u001b[0m     \u001b[38;5;66;03m# Binary mode does not support 'encoding' and 'newline'.\u001b[39;00m\n\u001b[1;32m    854\u001b[0m     \u001b[38;5;28;01mif\u001b[39;00m ioargs\u001b[38;5;241m.\u001b[39mencoding \u001b[38;5;129;01mand\u001b[39;00m \u001b[38;5;124m\"\u001b[39m\u001b[38;5;124mb\u001b[39m\u001b[38;5;124m\"\u001b[39m \u001b[38;5;129;01mnot\u001b[39;00m \u001b[38;5;129;01min\u001b[39;00m ioargs\u001b[38;5;241m.\u001b[39mmode:\n\u001b[1;32m    855\u001b[0m         \u001b[38;5;66;03m# Encoding\u001b[39;00m\n\u001b[0;32m--> 856\u001b[0m         handle \u001b[38;5;241m=\u001b[39m \u001b[38;5;28;43mopen\u001b[39;49m\u001b[43m(\u001b[49m\n\u001b[1;32m    857\u001b[0m \u001b[43m            \u001b[49m\u001b[43mhandle\u001b[49m\u001b[43m,\u001b[49m\n\u001b[1;32m    858\u001b[0m \u001b[43m            \u001b[49m\u001b[43mioargs\u001b[49m\u001b[38;5;241;43m.\u001b[39;49m\u001b[43mmode\u001b[49m\u001b[43m,\u001b[49m\n\u001b[1;32m    859\u001b[0m \u001b[43m            \u001b[49m\u001b[43mencoding\u001b[49m\u001b[38;5;241;43m=\u001b[39;49m\u001b[43mioargs\u001b[49m\u001b[38;5;241;43m.\u001b[39;49m\u001b[43mencoding\u001b[49m\u001b[43m,\u001b[49m\n\u001b[1;32m    860\u001b[0m \u001b[43m            \u001b[49m\u001b[43merrors\u001b[49m\u001b[38;5;241;43m=\u001b[39;49m\u001b[43merrors\u001b[49m\u001b[43m,\u001b[49m\n\u001b[1;32m    861\u001b[0m \u001b[43m            \u001b[49m\u001b[43mnewline\u001b[49m\u001b[38;5;241;43m=\u001b[39;49m\u001b[38;5;124;43m\"\u001b[39;49m\u001b[38;5;124;43m\"\u001b[39;49m\u001b[43m,\u001b[49m\n\u001b[1;32m    862\u001b[0m \u001b[43m        \u001b[49m\u001b[43m)\u001b[49m\n\u001b[1;32m    863\u001b[0m     \u001b[38;5;28;01melse\u001b[39;00m:\n\u001b[1;32m    864\u001b[0m         \u001b[38;5;66;03m# Binary mode\u001b[39;00m\n\u001b[1;32m    865\u001b[0m         handle \u001b[38;5;241m=\u001b[39m \u001b[38;5;28mopen\u001b[39m(handle, ioargs\u001b[38;5;241m.\u001b[39mmode)\n",
      "\u001b[0;31mFileNotFoundError\u001b[0m: [Errno 2] No such file or directory: 'Data.DS_Store'"
     ]
    }
   ],
   "source": [
    "#create for loop to import csv files from the folder more automated\n",
    "dataframes = []\n",
    "for file in os.listdir(\"Data/\"):\n",
    "    dataframes.append(pd.read_csv(\"Data\" +file))"
   ]
  },
  {
   "cell_type": "code",
   "execution_count": null,
   "id": "e488b87c",
   "metadata": {},
   "outputs": [],
   "source": []
  },
  {
   "cell_type": "code",
   "execution_count": null,
   "id": "aca9c597",
   "metadata": {},
   "outputs": [],
   "source": []
  },
  {
   "cell_type": "code",
   "execution_count": null,
   "id": "02c2cbbf",
   "metadata": {},
   "outputs": [],
   "source": [
    "#print summarised information from dataframe \n",
    "data.info()\n",
    "print(data.shape)\n",
    "print(data.isnull().sum())"
   ]
  },
  {
   "cell_type": "markdown",
   "id": "56185350",
   "metadata": {},
   "source": [
    "The info() method from pandas prints basic information of the dataframe, alied with the shape method to understand the dimensionality of the same. \n",
    "\n",
    "For the Planning Permissions dataframe a total of 49 observations divided in 5 columns, where the datatype for the first four are classified as objects and the last being a numeric value. Looking closer to the heading of the data, the values are expected to be all in numeric form, which requires data preparation techniques to be applied and redefine the datatypes using function from numpy library. Notice the comma withinh the values indicate why the dtype is considered to be object. For this reason \n",
    "\n",
    "the info() also brings the non-null values which helps to identify the missing data, confirmed by the isnull().sum() method that this dataframe contains missing data in four columns."
   ]
  },
  {
   "cell_type": "code",
   "execution_count": null,
   "id": "49049069",
   "metadata": {},
   "outputs": [],
   "source": [
    "#see the last 5 rows of the dataframe\n",
    "data.tail()"
   ]
  },
  {
   "cell_type": "code",
   "execution_count": null,
   "id": "7ff89eb1",
   "metadata": {},
   "outputs": [],
   "source": [
    "#replace commas from dataset to convert values from object to integers\n",
    "data.replace(',','', regex=True, inplace=True)\n"
   ]
  },
  {
   "cell_type": "code",
   "execution_count": null,
   "id": "22b14f0b",
   "metadata": {},
   "outputs": [],
   "source": [
    "# rename first column and reset index so the years are the new index\n",
    "\n",
    "data = data.rename(columns={'Unnamed: 0':'Year'})\n",
    "                                             "
   ]
  },
  {
   "cell_type": "code",
   "execution_count": null,
   "id": "086d330c",
   "metadata": {},
   "outputs": [],
   "source": []
  },
  {
   "cell_type": "code",
   "execution_count": null,
   "id": "ddea4239",
   "metadata": {},
   "outputs": [],
   "source": [
    "data.head()"
   ]
  },
  {
   "cell_type": "code",
   "execution_count": null,
   "id": "1de14d8c",
   "metadata": {},
   "outputs": [],
   "source": []
  },
  {
   "cell_type": "code",
   "execution_count": null,
   "id": "0dd77440",
   "metadata": {},
   "outputs": [],
   "source": [
    "# specify which columns to convert to numeric dtype\n",
    "cols_to_convert = [\"Planning Permissions Granted\", \"Units for which Permission Granted\", \"Total Floor Area for which Permission Granted\"]\n",
    "\n",
    "# use the to_numeric method to convert the columns to numeric type\n",
    "data[cols_to_convert] = data[cols_to_convert].apply(pd.to_numeric)\n",
    "\n",
    "# print the updated DataFrame\n",
    "print(data)\n"
   ]
  },
  {
   "cell_type": "code",
   "execution_count": null,
   "id": "97a55ed0",
   "metadata": {},
   "outputs": [],
   "source": [
    "data.info()"
   ]
  },
  {
   "cell_type": "markdown",
   "id": "2f72ba26",
   "metadata": {},
   "source": [
    "We can see all numeric values are now classified as with a float datatype. \n",
    "\n",
    "Following step is to "
   ]
  },
  {
   "cell_type": "code",
   "execution_count": null,
   "id": "170976cb",
   "metadata": {},
   "outputs": [],
   "source": [
    "#drop Nan Values to clean data\n",
    "data = data.dropna(subset=data.columns[:3])\n",
    "\n",
    "# Reset the index\n",
    "data.set_index(\"Year\", inplace=True)\n",
    "# Display the updated DataFrame\n",
    "display(data.head())"
   ]
  },
  {
   "cell_type": "code",
   "execution_count": null,
   "id": "5a778f0e",
   "metadata": {},
   "outputs": [],
   "source": [
    "data.describe()"
   ]
  },
  {
   "cell_type": "code",
   "execution_count": null,
   "id": "d66efbf7",
   "metadata": {},
   "outputs": [],
   "source": []
  },
  {
   "cell_type": "code",
   "execution_count": null,
   "id": "919698f4",
   "metadata": {},
   "outputs": [],
   "source": [
    "#sns.pairplot(data)"
   ]
  },
  {
   "cell_type": "code",
   "execution_count": null,
   "id": "a1e5d4c0",
   "metadata": {
    "scrolled": true
   },
   "outputs": [],
   "source": [
    "sns.pairplot(data=data, diag_kind='kde')"
   ]
  },
  {
   "cell_type": "code",
   "execution_count": null,
   "id": "69c0a94a",
   "metadata": {},
   "outputs": [],
   "source": []
  },
  {
   "cell_type": "code",
   "execution_count": null,
   "id": "098346f1",
   "metadata": {
    "scrolled": false
   },
   "outputs": [],
   "source": [
    "#create a histogram with the Planning Permissions Granted over the years using Matplotlib\n",
    "\n",
    "\n",
    "# Adjust the figure size\n",
    "plt.figure(figsize=(12,10))\n",
    "\n",
    "\n",
    "# Create a histogram for each year\n",
    "plt.bar(data.index, data['Planning Permissions Granted'], edgecolor=\"black\")\n",
    "\n",
    "# Set labels and title\n",
    "plt.xlabel('Year')\n",
    "plt.ylabel('Planning Permissions Granted')\n",
    "plt.title('Histogram of Planning Permissions Granted for Each Year')\n",
    "\n",
    "# Rotate x-axis labels for better visibility at 45 degrees\n",
    "plt.xticks(rotation=45)\n",
    "\n",
    "\n",
    "# Display the plot\n",
    "plt.show()"
   ]
  },
  {
   "cell_type": "code",
   "execution_count": null,
   "id": "52876156",
   "metadata": {},
   "outputs": [],
   "source": []
  },
  {
   "cell_type": "markdown",
   "id": "65cbc5de",
   "metadata": {},
   "source": [
    "For creating the plot we use plt.bar() to create a bar plot, where each bar represents the planning permissions granted for a specific year. The x-values are taken from the index of the DataFrame using df.index, and the y-values are taken from the 'Planning Permissions Granted' column using df['Planning Permissions Granted'].\n",
    "The histogram plot should display the planning permissions granted for each year using the correct DataFrame structure."
   ]
  },
  {
   "cell_type": "code",
   "execution_count": null,
   "id": "68cbc63b",
   "metadata": {
    "scrolled": false
   },
   "outputs": [],
   "source": [
    "# Create a  plot with the same data but using seaborn library to compare the graphics, and as a line chart\n",
    "\n",
    "\n",
    "# Adjust the figure size\n",
    "plt.figure(figsize=(15,12))\n",
    "\n",
    "\n",
    "# Set seaborn style\n",
    "sns.set(style='whitegrid')\n",
    "\n",
    "# Create a histogram using seaborn\n",
    "sns.lineplot(data=data, x=data.index, y='Planning Permissions Granted', color='red')\n",
    "\n",
    "# Set labels and title\n",
    "plt.xlabel('Years')\n",
    "plt.ylabel('Plannig Permissions Granted ')\n",
    "plt.title('Histogram of Planning Permissions Granted for New Houses and Apartments from 1977 to 2022')\n",
    "\n",
    "# Rotate x-axis labels for better visibility at 45 degrees\n",
    "plt.xticks(rotation=45)\n",
    "\n",
    "# Display the plot\n",
    "plt.show()\n",
    "\n"
   ]
  },
  {
   "cell_type": "code",
   "execution_count": null,
   "id": "5423c102",
   "metadata": {},
   "outputs": [],
   "source": []
  },
  {
   "cell_type": "code",
   "execution_count": null,
   "id": "16105c6f",
   "metadata": {},
   "outputs": [],
   "source": []
  },
  {
   "cell_type": "code",
   "execution_count": null,
   "id": "958b6789",
   "metadata": {},
   "outputs": [],
   "source": []
  },
  {
   "cell_type": "code",
   "execution_count": null,
   "id": "8511fa69",
   "metadata": {},
   "outputs": [],
   "source": []
  },
  {
   "cell_type": "code",
   "execution_count": null,
   "id": "368c4a98",
   "metadata": {},
   "outputs": [],
   "source": []
  },
  {
   "cell_type": "code",
   "execution_count": null,
   "id": "6b8fbbe2",
   "metadata": {},
   "outputs": [],
   "source": []
  },
  {
   "cell_type": "code",
   "execution_count": null,
   "id": "bceed48e",
   "metadata": {},
   "outputs": [],
   "source": []
  },
  {
   "cell_type": "code",
   "execution_count": null,
   "id": "bc0f400b",
   "metadata": {},
   "outputs": [],
   "source": []
  },
  {
   "cell_type": "code",
   "execution_count": null,
   "id": "e0c89d05",
   "metadata": {
    "scrolled": false
   },
   "outputs": [],
   "source": [
    "sns.set_style(\"darkgrid\")\n",
    "\n",
    "# create line plot with permissions and units \n",
    "data.plot(kind='line', stacked=False, cmap='Set1', figsize=(12, 8))\n",
    "\n",
    "\n",
    "# Get the current y-axis object\n",
    "#y_axis = plt.gca().yaxis\n",
    "\n",
    "# Add labels and title\n",
    "plt.xlabel('Year')\n",
    "plt.ylabel('Count')\n",
    "plt.title('Planning Permissions Granted from 1977 to 2022')\n",
    "plt.legend(loc='upper left')\n",
    "\n",
    "\n",
    "# Show the plot\n",
    "plt.show()\n"
   ]
  },
  {
   "cell_type": "markdown",
   "id": "be5d7b81",
   "metadata": {},
   "source": [
    "## Statistics\n"
   ]
  },
  {
   "cell_type": "code",
   "execution_count": null,
   "id": "4339c2ad",
   "metadata": {},
   "outputs": [],
   "source": [
    "\n",
    "# Create a figure with two subplots\n",
    "fig, axs = plt.subplots(1, 2, figsize=(12, 4))\n",
    "\n",
    "# Plot histogram of number of payments in the first subplot\n",
    "axs[0].hist(data['Planning Permissions Granted'], bins=10)\n",
    "axs[0].set_title('Histogram of Permits Granted')\n",
    "axs[0].set_xlabel('Value')\n",
    "axs[0].set_ylabel('Frequency')\n",
    "\n",
    "# Plot probability plot of number of payments in the second subplot\n",
    "stats.probplot(data['Planning Permissions Granted'], dist='norm', plot=axs[1])\n",
    "axs[1].set_title('Probability Plot of Permits')\n",
    "\n",
    "# Adjust the layout to avoid overlapping titles and labels\n",
    "plt.tight_layout()\n",
    "\n",
    "# Show the plots\n",
    "plt.show()"
   ]
  },
  {
   "cell_type": "markdown",
   "id": "8767e986",
   "metadata": {},
   "source": []
  },
  {
   "cell_type": "code",
   "execution_count": null,
   "id": "4a5d28ce",
   "metadata": {},
   "outputs": [],
   "source": []
  },
  {
   "cell_type": "code",
   "execution_count": null,
   "id": "b005aeaf",
   "metadata": {
    "scrolled": false
   },
   "outputs": [],
   "source": [
    "#import second df containg type of dweling \n",
    "dwelling_df = pd.read_csv(\"Planning_Permissions_Granted_Types.csv\")\n",
    "\n",
    "#replace commas from dataset to convert values from object to integers\n",
    "dwelling_df.replace(',','', regex=True, inplace=True)\n",
    "\n",
    "# rename first column and reset index so the years are the new index\n",
    "dwelling_df = dwelling_df.rename(columns={'Unnamed: 0':'Year'})\n",
    "                                             \n",
    "dwelling_df.sample(10)"
   ]
  },
  {
   "cell_type": "code",
   "execution_count": null,
   "id": "2bcac506",
   "metadata": {},
   "outputs": [],
   "source": [
    "#Selecting number of payments features to be dropped and mantain only value features\n",
    "#to_drop = [\"Multi development houses\",\"One off houses\"]\n",
    "\n",
    "#Drop columns selected\n",
    "#dwelling_df.drop(to_drop, inplace=True, axis=1)"
   ]
  },
  {
   "cell_type": "code",
   "execution_count": null,
   "id": "5ff853e7",
   "metadata": {
    "scrolled": true
   },
   "outputs": [],
   "source": [
    "dwelling_df.info()"
   ]
  },
  {
   "cell_type": "markdown",
   "id": "78c80cc1",
   "metadata": {},
   "source": [
    "CSO file contains missing data "
   ]
  },
  {
   "cell_type": "code",
   "execution_count": null,
   "id": "60c154ea",
   "metadata": {},
   "outputs": [],
   "source": [
    "# Drop the first 3 rows containing NaN values across multiple columns\n",
    "dwelling_df = dwelling_df.dropna(subset=dwelling_df.columns[[0, 1, 2]])\n",
    "print(dwelling_df.info())"
   ]
  },
  {
   "cell_type": "code",
   "execution_count": null,
   "id": "8d84e5c6",
   "metadata": {},
   "outputs": [],
   "source": [
    "# Reset the index\n",
    "dwelling_df.set_index(\"Year\", inplace=True)"
   ]
  },
  {
   "cell_type": "code",
   "execution_count": null,
   "id": "1d2cf55a",
   "metadata": {},
   "outputs": [],
   "source": [
    "dwelling_df.head()"
   ]
  },
  {
   "cell_type": "code",
   "execution_count": null,
   "id": "fe3ac2f9",
   "metadata": {},
   "outputs": [],
   "source": [
    "# specify which columns to convert to numeric dtype\n",
    "cols_to_convert2 = [\"Houses\", \"One off houses\",'Private flats/apartments']\n",
    "# use the to_numeric method to convert the columns to numeric type\n",
    "dwelling_df[cols_to_convert2] = dwelling_df[cols_to_convert2].apply(pd.to_numeric)\n"
   ]
  },
  {
   "cell_type": "code",
   "execution_count": null,
   "id": "2bdf22f1",
   "metadata": {},
   "outputs": [],
   "source": [
    "dwelling_df.info()"
   ]
  },
  {
   "cell_type": "code",
   "execution_count": null,
   "id": "4392ea79",
   "metadata": {},
   "outputs": [],
   "source": []
  },
  {
   "cell_type": "code",
   "execution_count": null,
   "id": "293b8e35",
   "metadata": {},
   "outputs": [],
   "source": [
    "\n",
    "# Assuming you have two DataFrames: df1 and df2 with the same indexes \n",
    "\n",
    "# Merge the DataFrames based on the common index\n",
    "merged_df = pd.merge(data, dwelling_df, left_index=True, right_index=True)"
   ]
  },
  {
   "cell_type": "code",
   "execution_count": null,
   "id": "10c7575a",
   "metadata": {},
   "outputs": [],
   "source": [
    "print(merged_df.info())\n",
    "display(merged_df)"
   ]
  },
  {
   "cell_type": "code",
   "execution_count": null,
   "id": "a0ec1af5",
   "metadata": {},
   "outputs": [],
   "source": [
    "merged_df.describe()"
   ]
  },
  {
   "cell_type": "code",
   "execution_count": null,
   "id": "9bf1f947",
   "metadata": {},
   "outputs": [],
   "source": []
  },
  {
   "cell_type": "code",
   "execution_count": null,
   "id": "6dcc4872",
   "metadata": {},
   "outputs": [],
   "source": []
  },
  {
   "cell_type": "code",
   "execution_count": null,
   "id": "65734e2b",
   "metadata": {
    "scrolled": false
   },
   "outputs": [],
   "source": [
    "# create line plot with permissions and units \n",
    "merged_df.plot(kind='bar', stacked=False, cmap='Set2', figsize=(12, 8))\n",
    "\n",
    "#Tried other color paletts but visibility was not optimal\n",
    "sns.set_style(\"darkgrid\")\n",
    "# Get the current y-axis object\n",
    "y_axis = plt.gca().yaxis\n",
    "\n",
    "# Add labels and title\n",
    "plt.xlabel('Year')\n",
    "plt.ylabel('Count')\n",
    "plt.title('Planning Permissions in the State of Ireland from 1977 to 2022')\n",
    "plt.legend(loc='upper left')\n",
    "\n",
    "# Rotate x-axis labels for better visibility at 45 degrees\n",
    "plt.xticks(rotation=360)\n",
    "\n",
    "# Show the plot\n",
    "plt.show()\n"
   ]
  },
  {
   "cell_type": "code",
   "execution_count": null,
   "id": "c935856d",
   "metadata": {},
   "outputs": [],
   "source": []
  },
  {
   "cell_type": "code",
   "execution_count": null,
   "id": "678a0324",
   "metadata": {},
   "outputs": [],
   "source": [
    "\n"
   ]
  },
  {
   "cell_type": "markdown",
   "id": "d3351589",
   "metadata": {},
   "source": [
    "### Employment in Ireland\n",
    "\n",
    "\n",
    "Annual Average Index of Employment (1975 - Date) in Building and Construction Industry\n",
    "\n"
   ]
  },
  {
   "cell_type": "code",
   "execution_count": null,
   "id": "11acfc47",
   "metadata": {},
   "outputs": [],
   "source": [
    "index_employ = pd.read_csv(\"index_of_employment.csv\")"
   ]
  },
  {
   "cell_type": "code",
   "execution_count": null,
   "id": "c9558d12",
   "metadata": {},
   "outputs": [],
   "source": [
    "index_employ.head()"
   ]
  },
  {
   "cell_type": "code",
   "execution_count": null,
   "id": "c4468e0a",
   "metadata": {},
   "outputs": [],
   "source": [
    "\n",
    "index_employ.info()"
   ]
  },
  {
   "cell_type": "code",
   "execution_count": null,
   "id": "02053c91",
   "metadata": {},
   "outputs": [],
   "source": [
    "# box plot for index of employment in Ireland (1975 to )\n",
    "px.box(index_employ, y=\"VALUE\", title=\"Box Plot for Index of Index of Employment in Building and Construction (1975 to 2022)\")\n"
   ]
  },
  {
   "cell_type": "code",
   "execution_count": null,
   "id": "089d758b",
   "metadata": {},
   "outputs": [],
   "source": []
  },
  {
   "cell_type": "markdown",
   "id": "79c66226",
   "metadata": {},
   "source": [
    "## Persons Engaged in Building and Construction Industry\n",
    "\n",
    "Using a json file to import data from CSO regarding persons engaged in building and construction industry.\n",
    "\n",
    "First attempt to read in the file did not work as expected. So I used a function to get the data from a URL provided in the CSO database. "
   ]
  },
  {
   "cell_type": "code",
   "execution_count": null,
   "id": "e67d064f",
   "metadata": {},
   "outputs": [],
   "source": [
    "\n",
    "#import json\n",
    "\n",
    "#with open('\"https://ws.cso.ie/public/api.restful/PxStat.Data.Cube_API.ReadDataset/BAA08/JSON-stat/1.0/en\".json') as f:\n",
    "  #  persons_engaged = json.load(f)\n",
    "\n",
    "#persons_engaged = pd.DataFrame(persons_engaged)"
   ]
  },
  {
   "cell_type": "code",
   "execution_count": null,
   "id": "60e091fe",
   "metadata": {},
   "outputs": [],
   "source": [
    "import requests\n",
    "import json\n",
    "import pandas as pd\n",
    "\n",
    "# Send an HTTP GET request to the URL\n",
    "url = 'https://ws.cso.ie/public/api.restful/PxStat.Data.Cube_API.ReadDataset/BAA08/JSON-stat/1.0/en'\n",
    "response = requests.get(url)\n",
    "\n",
    "# Check if the request was successful\n",
    "if response.status_code == 200:\n",
    "    # Load the JSON data from the response\n",
    "    persons_engaged = json.loads(response.text)\n",
    "    \n",
    "    # Perform any necessary data processing\n",
    "    # For example, convert the JSON data to a Pandas DataFrame\n",
    "    persons_engaged = pd.DataFrame(persons_engaged)\n",
    "    \n",
    "    # Perform EDA and visualization plots with the data\n",
    "    # ...\n",
    "\n",
    "    # Example: View the first few rows of the DataFrame\n",
    "    print(persons_engaged.head())\n",
    "else:\n",
    "    # Handle the case where the request was not successful\n",
    "    print('Request failed with status code:', response.status_code)\n"
   ]
  },
  {
   "cell_type": "code",
   "execution_count": null,
   "id": "ce042f3f",
   "metadata": {},
   "outputs": [],
   "source": [
    "persons_engaged"
   ]
  },
  {
   "cell_type": "code",
   "execution_count": null,
   "id": "b6e19723",
   "metadata": {},
   "outputs": [],
   "source": [
    "persons_df = pd.read_csv(\"Persons_Engaged_in_Building_and_Construction_Industry.csv\")"
   ]
  },
  {
   "cell_type": "code",
   "execution_count": null,
   "id": "96f1c1e5",
   "metadata": {},
   "outputs": [],
   "source": [
    "print(persons_df.shape)\n",
    "persons_df.head()\n",
    " "
   ]
  },
  {
   "cell_type": "code",
   "execution_count": null,
   "id": "5a1a3b6e",
   "metadata": {},
   "outputs": [],
   "source": [
    "persons_df.tail()"
   ]
  },
  {
   "cell_type": "code",
   "execution_count": null,
   "id": "d20ca939",
   "metadata": {
    "scrolled": true
   },
   "outputs": [],
   "source": [
    "persons_df.info()"
   ]
  },
  {
   "cell_type": "code",
   "execution_count": null,
   "id": "2f32b5a0",
   "metadata": {},
   "outputs": [],
   "source": [
    "categories = persons_df[\"Employee Grade\"].unique()\n",
    "print(categories)"
   ]
  },
  {
   "cell_type": "code",
   "execution_count": null,
   "id": "d69119dc",
   "metadata": {},
   "outputs": [],
   "source": [
    "sns.pairplot(persons_df)"
   ]
  },
  {
   "cell_type": "code",
   "execution_count": null,
   "id": "d271bacf",
   "metadata": {},
   "outputs": [],
   "source": []
  },
  {
   "cell_type": "markdown",
   "id": "0fc6281d",
   "metadata": {},
   "source": [
    "# Employment rates by activity: Construction\n",
    "\n",
    "Comparing Employment by activity sector filtered in Construction Industry for EuroZone Values using OECD database. \n",
    "\n",
    "\"Employment by industry is broken down by agriculture, construction, industry including construction, manufacturing and services activities. This indicator is seasonally adjusted and it is measured in thousands of people.\" (OECD, 2023)"
   ]
  },
  {
   "cell_type": "code",
   "execution_count": null,
   "id": "218288fe",
   "metadata": {},
   "outputs": [],
   "source": [
    "employment = pd.read_csv(\"OECD_employment_by_activity_selcetion.csv\", )"
   ]
  },
  {
   "cell_type": "code",
   "execution_count": null,
   "id": "82e27198",
   "metadata": {},
   "outputs": [],
   "source": [
    "employment"
   ]
  },
  {
   "cell_type": "code",
   "execution_count": null,
   "id": "3ee4c1eb",
   "metadata": {},
   "outputs": [],
   "source": [
    "employment.describe()"
   ]
  },
  {
   "cell_type": "code",
   "execution_count": null,
   "id": "b2e2dce5",
   "metadata": {},
   "outputs": [],
   "source": [
    "employment.describe(include=object)"
   ]
  },
  {
   "cell_type": "code",
   "execution_count": null,
   "id": "d5c1e29f",
   "metadata": {},
   "outputs": [],
   "source": [
    "employment.info()"
   ]
  },
  {
   "cell_type": "code",
   "execution_count": null,
   "id": "4141bd9b",
   "metadata": {},
   "outputs": [],
   "source": [
    "employment.drop([\"INDICATOR\",\"FREQUENCY\", \"Flag Codes\"], inplace=True, axis=1)"
   ]
  },
  {
   "cell_type": "code",
   "execution_count": null,
   "id": "164d13cc",
   "metadata": {},
   "outputs": [],
   "source": [
    "employment.set_index(\"TIME\", inplace=True)"
   ]
  },
  {
   "cell_type": "code",
   "execution_count": null,
   "id": "00db31d7",
   "metadata": {},
   "outputs": [],
   "source": [
    "# Group the DataFrame by year and create a new index for each category\n",
    "grouped = employment.groupby(level=0).apply(lambda x: x.set_index('LOCATION'))"
   ]
  },
  {
   "cell_type": "code",
   "execution_count": null,
   "id": "ecf66811",
   "metadata": {},
   "outputs": [],
   "source": [
    "grouped"
   ]
  },
  {
   "cell_type": "code",
   "execution_count": null,
   "id": "fd72e665",
   "metadata": {
    "scrolled": false
   },
   "outputs": [],
   "source": [
    "#pip install geoviews"
   ]
  },
  {
   "cell_type": "code",
   "execution_count": null,
   "id": "18efd234",
   "metadata": {},
   "outputs": [],
   "source": [
    "\n"
   ]
  },
  {
   "cell_type": "code",
   "execution_count": null,
   "id": "f27b0905",
   "metadata": {},
   "outputs": [],
   "source": []
  },
  {
   "cell_type": "code",
   "execution_count": null,
   "id": "216ee8ff",
   "metadata": {},
   "outputs": [],
   "source": []
  },
  {
   "cell_type": "code",
   "execution_count": null,
   "id": "fad4e5fd",
   "metadata": {},
   "outputs": [],
   "source": []
  },
  {
   "cell_type": "code",
   "execution_count": null,
   "id": "450d93cf",
   "metadata": {},
   "outputs": [],
   "source": []
  },
  {
   "cell_type": "code",
   "execution_count": null,
   "id": "e968b50a",
   "metadata": {},
   "outputs": [],
   "source": []
  },
  {
   "cell_type": "markdown",
   "id": "4b9cbd43",
   "metadata": {},
   "source": []
  },
  {
   "cell_type": "markdown",
   "id": "2fd27ee4",
   "metadata": {},
   "source": [
    "<a rel=\"license\" href=\"http://creativecommons.org/licenses/by/4.0/\"><img alt=\"Creative Commons License\" style=\"border-width:0\" src=\"https://i.creativecommons.org/l/by/4.0/88x31.png\" /></a><br />This work is licensed under a <a rel=\"license\" href=\"http://creativecommons.org/licenses/by/4.0/\">Creative Commons Attribution 4.0 International License</a>."
   ]
  },
  {
   "cell_type": "code",
   "execution_count": null,
   "id": "cf18a76b",
   "metadata": {},
   "outputs": [],
   "source": []
  }
 ],
 "metadata": {
  "kernelspec": {
   "display_name": "Python 3 (ipykernel)",
   "language": "python",
   "name": "python3"
  },
  "language_info": {
   "codemirror_mode": {
    "name": "ipython",
    "version": 3
   },
   "file_extension": ".py",
   "mimetype": "text/x-python",
   "name": "python",
   "nbconvert_exporter": "python",
   "pygments_lexer": "ipython3",
   "version": "3.10.9"
  }
 },
 "nbformat": 4,
 "nbformat_minor": 5
}
